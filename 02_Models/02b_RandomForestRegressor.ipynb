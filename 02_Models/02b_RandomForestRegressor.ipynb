{
 "cells": [
  {
   "cell_type": "code",
   "execution_count": 29,
   "id": "d55fb906",
   "metadata": {},
   "outputs": [],
   "source": [
    "import numpy as np \n",
    "import pandas as pd \n",
    "import sklearn.metrics as metrics\n",
    "from sklearn.ensemble import RandomForestRegressor\n",
    "from sklearn.model_selection import train_test_split\n",
    "#from statsmodels.stats.outliers_influence import variance_inflation_factor\n"
   ]
  },
  {
   "cell_type": "code",
   "execution_count": 30,
   "id": "c595809a",
   "metadata": {},
   "outputs": [
    {
     "data": {
      "text/html": [
       "<div>\n",
       "<style scoped>\n",
       "    .dataframe tbody tr th:only-of-type {\n",
       "        vertical-align: middle;\n",
       "    }\n",
       "\n",
       "    .dataframe tbody tr th {\n",
       "        vertical-align: top;\n",
       "    }\n",
       "\n",
       "    .dataframe thead th {\n",
       "        text-align: right;\n",
       "    }\n",
       "</style>\n",
       "<table border=\"1\" class=\"dataframe\">\n",
       "  <thead>\n",
       "    <tr style=\"text-align: right;\">\n",
       "      <th></th>\n",
       "      <th>airline</th>\n",
       "      <th>source_city</th>\n",
       "      <th>departure_time</th>\n",
       "      <th>stops</th>\n",
       "      <th>arrival_time</th>\n",
       "      <th>destination_city</th>\n",
       "      <th>class</th>\n",
       "      <th>days_left_binned</th>\n",
       "      <th>duration_sqrt</th>\n",
       "      <th>price</th>\n",
       "    </tr>\n",
       "  </thead>\n",
       "  <tbody>\n",
       "    <tr>\n",
       "      <th>0</th>\n",
       "      <td>-1.368800</td>\n",
       "      <td>-1.732372</td>\n",
       "      <td>0.198274</td>\n",
       "      <td>-2.4911</td>\n",
       "      <td>0.236474</td>\n",
       "      <td>0.37094</td>\n",
       "      <td>-0.674351</td>\n",
       "      <td>2.375914</td>\n",
       "      <td>-1.742522</td>\n",
       "      <td>5953.0</td>\n",
       "    </tr>\n",
       "    <tr>\n",
       "      <th>1</th>\n",
       "      <td>-1.368800</td>\n",
       "      <td>-1.732372</td>\n",
       "      <td>-0.298600</td>\n",
       "      <td>-2.4911</td>\n",
       "      <td>0.445839</td>\n",
       "      <td>0.37094</td>\n",
       "      <td>-0.674351</td>\n",
       "      <td>2.375914</td>\n",
       "      <td>-1.691940</td>\n",
       "      <td>5953.0</td>\n",
       "    </tr>\n",
       "    <tr>\n",
       "      <th>2</th>\n",
       "      <td>-1.562898</td>\n",
       "      <td>-1.732372</td>\n",
       "      <td>-0.298600</td>\n",
       "      <td>-2.4911</td>\n",
       "      <td>-2.002790</td>\n",
       "      <td>0.37094</td>\n",
       "      <td>-0.674351</td>\n",
       "      <td>2.375914</td>\n",
       "      <td>-1.742522</td>\n",
       "      <td>5956.0</td>\n",
       "    </tr>\n",
       "    <tr>\n",
       "      <th>3</th>\n",
       "      <td>0.885018</td>\n",
       "      <td>-1.732372</td>\n",
       "      <td>0.469739</td>\n",
       "      <td>-2.4911</td>\n",
       "      <td>-0.820969</td>\n",
       "      <td>0.37094</td>\n",
       "      <td>-0.674351</td>\n",
       "      <td>2.375914</td>\n",
       "      <td>-1.717006</td>\n",
       "      <td>5955.0</td>\n",
       "    </tr>\n",
       "    <tr>\n",
       "      <th>4</th>\n",
       "      <td>0.885018</td>\n",
       "      <td>-1.732372</td>\n",
       "      <td>0.469739</td>\n",
       "      <td>-2.4911</td>\n",
       "      <td>0.445839</td>\n",
       "      <td>0.37094</td>\n",
       "      <td>-0.674351</td>\n",
       "      <td>2.375914</td>\n",
       "      <td>-1.691940</td>\n",
       "      <td>5955.0</td>\n",
       "    </tr>\n",
       "  </tbody>\n",
       "</table>\n",
       "</div>"
      ],
      "text/plain": [
       "    airline  source_city  departure_time   stops  arrival_time  \\\n",
       "0 -1.368800    -1.732372        0.198274 -2.4911      0.236474   \n",
       "1 -1.368800    -1.732372       -0.298600 -2.4911      0.445839   \n",
       "2 -1.562898    -1.732372       -0.298600 -2.4911     -2.002790   \n",
       "3  0.885018    -1.732372        0.469739 -2.4911     -0.820969   \n",
       "4  0.885018    -1.732372        0.469739 -2.4911      0.445839   \n",
       "\n",
       "   destination_city     class  days_left_binned  duration_sqrt   price  \n",
       "0           0.37094 -0.674351          2.375914      -1.742522  5953.0  \n",
       "1           0.37094 -0.674351          2.375914      -1.691940  5953.0  \n",
       "2           0.37094 -0.674351          2.375914      -1.742522  5956.0  \n",
       "3           0.37094 -0.674351          2.375914      -1.717006  5955.0  \n",
       "4           0.37094 -0.674351          2.375914      -1.691940  5955.0  "
      ]
     },
     "execution_count": 30,
     "metadata": {},
     "output_type": "execute_result"
    }
   ],
   "source": [
    "df_prepared = pd.read_csv(\"../data/df_prepared.csv\", index_col=0)\n",
    "df_prepared.head()"
   ]
  },
  {
   "cell_type": "code",
   "execution_count": 31,
   "id": "9bfef4c4",
   "metadata": {},
   "outputs": [
    {
     "data": {
      "text/html": [
       "<div>\n",
       "<style scoped>\n",
       "    .dataframe tbody tr th:only-of-type {\n",
       "        vertical-align: middle;\n",
       "    }\n",
       "\n",
       "    .dataframe tbody tr th {\n",
       "        vertical-align: top;\n",
       "    }\n",
       "\n",
       "    .dataframe thead th {\n",
       "        text-align: right;\n",
       "    }\n",
       "</style>\n",
       "<table border=\"1\" class=\"dataframe\">\n",
       "  <thead>\n",
       "    <tr style=\"text-align: right;\">\n",
       "      <th></th>\n",
       "      <th>airline</th>\n",
       "      <th>source_city</th>\n",
       "      <th>departure_time</th>\n",
       "      <th>stops</th>\n",
       "      <th>arrival_time</th>\n",
       "      <th>destination_city</th>\n",
       "      <th>class</th>\n",
       "      <th>days_left_binned</th>\n",
       "      <th>duration_sqrt</th>\n",
       "    </tr>\n",
       "  </thead>\n",
       "  <tbody>\n",
       "    <tr>\n",
       "      <th>0</th>\n",
       "      <td>-1.368800</td>\n",
       "      <td>-1.732372</td>\n",
       "      <td>0.198274</td>\n",
       "      <td>-2.4911</td>\n",
       "      <td>0.236474</td>\n",
       "      <td>0.37094</td>\n",
       "      <td>-0.674351</td>\n",
       "      <td>2.375914</td>\n",
       "      <td>-1.742522</td>\n",
       "    </tr>\n",
       "    <tr>\n",
       "      <th>1</th>\n",
       "      <td>-1.368800</td>\n",
       "      <td>-1.732372</td>\n",
       "      <td>-0.298600</td>\n",
       "      <td>-2.4911</td>\n",
       "      <td>0.445839</td>\n",
       "      <td>0.37094</td>\n",
       "      <td>-0.674351</td>\n",
       "      <td>2.375914</td>\n",
       "      <td>-1.691940</td>\n",
       "    </tr>\n",
       "    <tr>\n",
       "      <th>2</th>\n",
       "      <td>-1.562898</td>\n",
       "      <td>-1.732372</td>\n",
       "      <td>-0.298600</td>\n",
       "      <td>-2.4911</td>\n",
       "      <td>-2.002790</td>\n",
       "      <td>0.37094</td>\n",
       "      <td>-0.674351</td>\n",
       "      <td>2.375914</td>\n",
       "      <td>-1.742522</td>\n",
       "    </tr>\n",
       "    <tr>\n",
       "      <th>3</th>\n",
       "      <td>0.885018</td>\n",
       "      <td>-1.732372</td>\n",
       "      <td>0.469739</td>\n",
       "      <td>-2.4911</td>\n",
       "      <td>-0.820969</td>\n",
       "      <td>0.37094</td>\n",
       "      <td>-0.674351</td>\n",
       "      <td>2.375914</td>\n",
       "      <td>-1.717006</td>\n",
       "    </tr>\n",
       "    <tr>\n",
       "      <th>4</th>\n",
       "      <td>0.885018</td>\n",
       "      <td>-1.732372</td>\n",
       "      <td>0.469739</td>\n",
       "      <td>-2.4911</td>\n",
       "      <td>0.445839</td>\n",
       "      <td>0.37094</td>\n",
       "      <td>-0.674351</td>\n",
       "      <td>2.375914</td>\n",
       "      <td>-1.691940</td>\n",
       "    </tr>\n",
       "  </tbody>\n",
       "</table>\n",
       "</div>"
      ],
      "text/plain": [
       "    airline  source_city  departure_time   stops  arrival_time  \\\n",
       "0 -1.368800    -1.732372        0.198274 -2.4911      0.236474   \n",
       "1 -1.368800    -1.732372       -0.298600 -2.4911      0.445839   \n",
       "2 -1.562898    -1.732372       -0.298600 -2.4911     -2.002790   \n",
       "3  0.885018    -1.732372        0.469739 -2.4911     -0.820969   \n",
       "4  0.885018    -1.732372        0.469739 -2.4911      0.445839   \n",
       "\n",
       "   destination_city     class  days_left_binned  duration_sqrt  \n",
       "0           0.37094 -0.674351          2.375914      -1.742522  \n",
       "1           0.37094 -0.674351          2.375914      -1.691940  \n",
       "2           0.37094 -0.674351          2.375914      -1.742522  \n",
       "3           0.37094 -0.674351          2.375914      -1.717006  \n",
       "4           0.37094 -0.674351          2.375914      -1.691940  "
      ]
     },
     "execution_count": 31,
     "metadata": {},
     "output_type": "execute_result"
    }
   ],
   "source": [
    "X = df_prepared.drop('price', axis=1)\n",
    "X.head()"
   ]
  },
  {
   "cell_type": "code",
   "execution_count": 32,
   "id": "b103fc15",
   "metadata": {},
   "outputs": [
    {
     "name": "stdout",
     "output_type": "stream",
     "text": [
      "            feature       VIF\n",
      "0           airline  1.499783\n",
      "1       source_city  1.079051\n",
      "2    departure_time  1.036798\n",
      "3             stops  1.558686\n",
      "4      arrival_time  1.074553\n",
      "5  destination_city  1.096754\n",
      "6             class  1.256327\n",
      "7  days_left_binned  1.004452\n",
      "8     duration_sqrt  1.799448\n"
     ]
    }
   ],
   "source": [
    "vif_data = pd.DataFrame() \n",
    "vif_data[\"feature\"] = X.columns \n",
    "  \n",
    "vif_data[\"VIF\"] = [variance_inflation_factor(X.values, i) \n",
    "                          for i in range(len(X.columns))] \n",
    "  \n",
    "print(vif_data)\n",
    "\n",
    "#check for issue with multicollinearity -> dont have (benchmark >= 5)"
   ]
  },
  {
   "cell_type": "code",
   "execution_count": 33,
   "id": "d4161926",
   "metadata": {},
   "outputs": [],
   "source": [
    "# X = df_final.drop('price', axis=1)\n",
    "y = df_prepared['price']\n",
    "\n",
    "X_train, X_test, y_train, y_test = train_test_split(X, y, test_size=0.2)"
   ]
  },
  {
   "cell_type": "code",
   "execution_count": 34,
   "id": "b63e4ca5",
   "metadata": {},
   "outputs": [
    {
     "data": {
      "text/html": [
       "<style>#sk-container-id-3 {color: black;background-color: white;}#sk-container-id-3 pre{padding: 0;}#sk-container-id-3 div.sk-toggleable {background-color: white;}#sk-container-id-3 label.sk-toggleable__label {cursor: pointer;display: block;width: 100%;margin-bottom: 0;padding: 0.3em;box-sizing: border-box;text-align: center;}#sk-container-id-3 label.sk-toggleable__label-arrow:before {content: \"▸\";float: left;margin-right: 0.25em;color: #696969;}#sk-container-id-3 label.sk-toggleable__label-arrow:hover:before {color: black;}#sk-container-id-3 div.sk-estimator:hover label.sk-toggleable__label-arrow:before {color: black;}#sk-container-id-3 div.sk-toggleable__content {max-height: 0;max-width: 0;overflow: hidden;text-align: left;background-color: #f0f8ff;}#sk-container-id-3 div.sk-toggleable__content pre {margin: 0.2em;color: black;border-radius: 0.25em;background-color: #f0f8ff;}#sk-container-id-3 input.sk-toggleable__control:checked~div.sk-toggleable__content {max-height: 200px;max-width: 100%;overflow: auto;}#sk-container-id-3 input.sk-toggleable__control:checked~label.sk-toggleable__label-arrow:before {content: \"▾\";}#sk-container-id-3 div.sk-estimator input.sk-toggleable__control:checked~label.sk-toggleable__label {background-color: #d4ebff;}#sk-container-id-3 div.sk-label input.sk-toggleable__control:checked~label.sk-toggleable__label {background-color: #d4ebff;}#sk-container-id-3 input.sk-hidden--visually {border: 0;clip: rect(1px 1px 1px 1px);clip: rect(1px, 1px, 1px, 1px);height: 1px;margin: -1px;overflow: hidden;padding: 0;position: absolute;width: 1px;}#sk-container-id-3 div.sk-estimator {font-family: monospace;background-color: #f0f8ff;border: 1px dotted black;border-radius: 0.25em;box-sizing: border-box;margin-bottom: 0.5em;}#sk-container-id-3 div.sk-estimator:hover {background-color: #d4ebff;}#sk-container-id-3 div.sk-parallel-item::after {content: \"\";width: 100%;border-bottom: 1px solid gray;flex-grow: 1;}#sk-container-id-3 div.sk-label:hover label.sk-toggleable__label {background-color: #d4ebff;}#sk-container-id-3 div.sk-serial::before {content: \"\";position: absolute;border-left: 1px solid gray;box-sizing: border-box;top: 0;bottom: 0;left: 50%;z-index: 0;}#sk-container-id-3 div.sk-serial {display: flex;flex-direction: column;align-items: center;background-color: white;padding-right: 0.2em;padding-left: 0.2em;position: relative;}#sk-container-id-3 div.sk-item {position: relative;z-index: 1;}#sk-container-id-3 div.sk-parallel {display: flex;align-items: stretch;justify-content: center;background-color: white;position: relative;}#sk-container-id-3 div.sk-item::before, #sk-container-id-3 div.sk-parallel-item::before {content: \"\";position: absolute;border-left: 1px solid gray;box-sizing: border-box;top: 0;bottom: 0;left: 50%;z-index: -1;}#sk-container-id-3 div.sk-parallel-item {display: flex;flex-direction: column;z-index: 1;position: relative;background-color: white;}#sk-container-id-3 div.sk-parallel-item:first-child::after {align-self: flex-end;width: 50%;}#sk-container-id-3 div.sk-parallel-item:last-child::after {align-self: flex-start;width: 50%;}#sk-container-id-3 div.sk-parallel-item:only-child::after {width: 0;}#sk-container-id-3 div.sk-dashed-wrapped {border: 1px dashed gray;margin: 0 0.4em 0.5em 0.4em;box-sizing: border-box;padding-bottom: 0.4em;background-color: white;}#sk-container-id-3 div.sk-label label {font-family: monospace;font-weight: bold;display: inline-block;line-height: 1.2em;}#sk-container-id-3 div.sk-label-container {text-align: center;}#sk-container-id-3 div.sk-container {/* jupyter's `normalize.less` sets `[hidden] { display: none; }` but bootstrap.min.css set `[hidden] { display: none !important; }` so we also need the `!important` here to be able to override the default hidden behavior on the sphinx rendered scikit-learn.org. See: https://github.com/scikit-learn/scikit-learn/issues/21755 */display: inline-block !important;position: relative;}#sk-container-id-3 div.sk-text-repr-fallback {display: none;}</style><div id=\"sk-container-id-3\" class=\"sk-top-container\"><div class=\"sk-text-repr-fallback\"><pre>RandomForestRegressor(random_state=42)</pre><b>In a Jupyter environment, please rerun this cell to show the HTML representation or trust the notebook. <br />On GitHub, the HTML representation is unable to render, please try loading this page with nbviewer.org.</b></div><div class=\"sk-container\" hidden><div class=\"sk-item\"><div class=\"sk-estimator sk-toggleable\"><input class=\"sk-toggleable__control sk-hidden--visually\" id=\"sk-estimator-id-3\" type=\"checkbox\" checked><label for=\"sk-estimator-id-3\" class=\"sk-toggleable__label sk-toggleable__label-arrow\">RandomForestRegressor</label><div class=\"sk-toggleable__content\"><pre>RandomForestRegressor(random_state=42)</pre></div></div></div></div></div>"
      ],
      "text/plain": [
       "RandomForestRegressor(random_state=42)"
      ]
     },
     "execution_count": 34,
     "metadata": {},
     "output_type": "execute_result"
    }
   ],
   "source": [
    "rfr = RandomForestRegressor(random_state = 42)\n",
    "rfr.fit(X_train, y_train)"
   ]
  },
  {
   "cell_type": "code",
   "execution_count": 35,
   "id": "03023b2c",
   "metadata": {},
   "outputs": [],
   "source": [
    "y_pred = rfr.predict(X_test)"
   ]
  },
  {
   "cell_type": "code",
   "execution_count": 36,
   "id": "79f8fbbd",
   "metadata": {},
   "outputs": [
    {
     "data": {
      "text/plain": [
       "array([ 6308.3339513 , 54808.04108874,  3693.72579762, ...,\n",
       "        5883.66139669,  4053.64147691,  4637.8592381 ])"
      ]
     },
     "execution_count": 36,
     "metadata": {},
     "output_type": "execute_result"
    }
   ],
   "source": [
    "y_pred"
   ]
  },
  {
   "cell_type": "code",
   "execution_count": 37,
   "id": "5f3b19e8",
   "metadata": {},
   "outputs": [
    {
     "name": "stdout",
     "output_type": "stream",
     "text": [
      "                                  Metric       Value\n",
      "0                               R2 Score     0.88633\n",
      "1                      Adjusted R2 Score     0.88633\n",
      "2         Root Mean Squared Error (RMSE)  7610.36723\n",
      "3  Mean Absolute Percentage Error (MAPE)     0.30135\n"
     ]
    }
   ],
   "source": [
    "mean_absolute_percentage_error=metrics.mean_absolute_percentage_error(y_test, y_pred) \n",
    "mse=metrics.mean_squared_error(y_test, y_pred) \n",
    "r2=metrics.r2_score(y_test, y_pred)\n",
    "adjustedr2 = 1 - (1-r2) * (len(y)-1)/(len(y)-X.shape[1]-1)\n",
    "\n",
    "\n",
    "metric_results = {'Metric': ['R2 Score', 'Adjusted R2 Score','Root Mean Squared Error (RMSE)', 'Mean Absolute Percentage Error (MAPE)'],\n",
    "        'Value': [round(r2, 5),round(adjustedr2, 5), round(np.sqrt(mse), 5), round(mean_absolute_percentage_error, 5)]}\n",
    "\n",
    "df_metric = pd.DataFrame(metric_results)\n",
    "\n",
    "print(df_metric)"
   ]
  },
  {
   "cell_type": "markdown",
   "id": "a30cdf8d",
   "metadata": {},
   "source": [
    "Without tuning: \n",
    "<li>Adjusted R2 still okay without tuning</li>\n",
    "<li>RMSE means model is about 7610 indian currency off from actual</li>\n",
    "<li>MAPE is scale independent, which is a good measure for us. 0.301 means about 30% off</li> "
   ]
  },
  {
   "cell_type": "markdown",
   "id": "4edb3648",
   "metadata": {},
   "source": [
    "<li>The scatter plot below compares the actual with the predicted. The closer the points are to a straight line, the better the model’s prediction</li>\n",
    "<li>The Residual Plot below shows the residuals (differences between the predicted and actual) against the predicted values. A well-performing model will have residuals scattered randomly around zero (the red dashed line).</li>\n",
    "\n",
    "https://dooinnkim.medium.com/how-to-plot-predicted-vs-actual-graphs-and-residual-plots-dc4e5b3f304a"
   ]
  },
  {
   "cell_type": "code",
   "execution_count": 38,
   "id": "0e602a29",
   "metadata": {},
   "outputs": [
    {
     "data": {
      "image/png": "[encoded data removed]",
      "text/plain": [
       "<Figure size 432x288 with 1 Axes>"
      ]
     },
     "metadata": {
      "needs_background": "light"
     },
     "output_type": "display_data"
    }
   ],
   "source": [
    "import matplotlib.pyplot as plt\n",
    "plt.scatter(y_test, y_pred)\n",
    "plt.xlabel('Actual Price')\n",
    "plt.ylabel('Predicted Price')\n",
    "plt.title('Predicted vs Actual Prices')\n",
    "plt.show()"
   ]
  },
  {
   "cell_type": "code",
   "execution_count": 39,
   "id": "3573df5e",
   "metadata": {},
   "outputs": [
    {
     "data": {
      "image/png": "[encoded data removed]",
      "text/plain": [
       "<Figure size 432x288 with 1 Axes>"
      ]
     },
     "metadata": {
      "needs_background": "light"
     },
     "output_type": "display_data"
    }
   ],
   "source": [
    "residuals = y_test - y_pred\n",
    "plt.scatter(y_pred, residuals)\n",
    "plt.xlabel('Predicted Price')\n",
    "plt.ylabel('Residuals')\n",
    "plt.title('Residual Plot')\n",
    "plt.axhline(y=0, color='r', linestyle='--')\n",
    "plt.show()"
   ]
  },
  {
   "cell_type": "code",
   "execution_count": null,
   "id": "76859333",
   "metadata": {},
   "outputs": [],
   "source": []
  }
 ],
 "metadata": {
  "kernelspec": {
   "display_name": "Python 3 (ipykernel)",
   "language": "python",
   "name": "python3"
  },
  "language_info": {
   "codemirror_mode": {
    "name": "ipython",
    "version": 3
   },
   "file_extension": ".py",
   "mimetype": "text/x-python",
   "name": "python",
   "nbconvert_exporter": "python",
   "pygments_lexer": "ipython3",
   "version": "3.9.12"
  }
 },
 "nbformat": 4,
 "nbformat_minor": 5
}
