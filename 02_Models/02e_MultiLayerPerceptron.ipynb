{
 "cells": [
  {
   "cell_type": "code",
   "execution_count": 15,
   "id": "d55fb906",
   "metadata": {},
   "outputs": [],
   "source": [
    "import pandas as pd\n"
   ]
  },
  {
   "cell_type": "code",
   "execution_count": null,
   "id": "af9dc8ba",
   "metadata": {},
   "outputs": [],
   "source": [
    "df1 = pd.read_csv(\"C:\\\\Users\\\\drago\\\\IS460\\\\data\\\\df1.csv\")\n",
    "df1 = df1.drop('Unnamed: 0', axis = 1)"
   ]
  },
  {
   "cell_type": "code",
   "execution_count": 4,
   "id": "92043e32",
   "metadata": {},
   "outputs": [],
   "source": [
    "X = df1.drop('price_boxcox_scaled', axis = 1)\n",
    "y = df1['price_boxcox_scaled']"
   ]
  },
  {
   "cell_type": "code",
   "execution_count": 5,
   "id": "9997a9ac",
   "metadata": {},
   "outputs": [
    {
     "name": "stdout",
     "output_type": "stream",
     "text": [
      "(238021, 9)\n",
      "(59506,)\n"
     ]
    }
   ],
   "source": [
    "from sklearn.model_selection import train_test_split\n",
    "from sklearn.neural_network import MLPRegressor\n",
    "X_train,X_test,y_train,y_test = train_test_split(X,y, test_size = 0.2)\n",
    "print(X_train.shape)\n",
    "print(y_test.shape)"
   ]
  },
  {
   "cell_type": "code",
   "execution_count": 47,
   "id": "45929ae4",
   "metadata": {},
   "outputs": [],
   "source": [
    "from sklearn.neural_network import MLPRegressor"
   ]
  },
  {
   "cell_type": "code",
   "execution_count": 36,
   "id": "7e35c107",
   "metadata": {},
   "outputs": [
    {
     "data": {
      "text/plain": [
       "MLPRegressor(max_iter=500)"
      ]
     },
     "execution_count": 36,
     "metadata": {},
     "output_type": "execute_result"
    }
   ],
   "source": [
    "mlp = MLPRegressor(max_iter = 500, activation = 'relu')\n",
    "mlp"
   ]
  },
  {
   "cell_type": "code",
   "execution_count": 74,
   "id": "96691bd4",
   "metadata": {},
   "outputs": [
    {
     "data": {
      "text/plain": [
       "MLPRegressor(max_iter=4500)"
      ]
     },
     "execution_count": 74,
     "metadata": {},
     "output_type": "execute_result"
    }
   ],
   "source": [
    "mlp.fit(X_train,y_train)"
   ]
  },
  {
   "cell_type": "code",
   "execution_count": 75,
   "id": "886eabec",
   "metadata": {},
   "outputs": [],
   "source": [
    "y_mlp_train_pred = mlp.predict(X_train)\n",
    "y_mlp_test_pred = mlp.predict(X_test)"
   ]
  },
  {
   "cell_type": "code",
   "execution_count": 95,
   "id": "f8fea8ad",
   "metadata": {},
   "outputs": [],
   "source": [
    "from sklearn.metrics import mean_squared_error, r2_score,mean_absolute_percentage_error\n",
    "\n",
    "mlp_train_mse = mean_squared_error(y_train, y_mlp_train_pred)\n",
    "mlp_train_r2 = r2_score(y_train, y_mlp_train_pred)\n",
    "\n",
    "mlp_test_mse = mean_squared_error(y_test, y_mlp_test_pred)\n",
    "mlp_test_r2 = r2_score(y_test, y_mlp_test_pred)\n",
    "mlp_test_mape = mean_absolute_percentage_error(y_test, y_mlp_test_pred)"
   ]
  },
  {
   "cell_type": "code",
   "execution_count": 97,
   "id": "26344a69",
   "metadata": {},
   "outputs": [],
   "source": [
    "mlp_results = pd.DataFrame(['Multi-Layer Perceptron', mlp_train_mse, mlp_train_r2, mlp_test_mse, mlp_test_r2,mlp_test_mape]).transpose()\n",
    "mlp_results.columns = ['Method', 'Training MSE', 'Training R2', 'Test MSE', 'Test R2','Test MAPE']"
   ]
  },
  {
   "cell_type": "code",
   "execution_count": 98,
   "id": "e3e0719c",
   "metadata": {},
   "outputs": [
    {
     "data": {
      "text/html": [
       "<div>\n",
       "<style scoped>\n",
       "    .dataframe tbody tr th:only-of-type {\n",
       "        vertical-align: middle;\n",
       "    }\n",
       "\n",
       "    .dataframe tbody tr th {\n",
       "        vertical-align: top;\n",
       "    }\n",
       "\n",
       "    .dataframe thead th {\n",
       "        text-align: right;\n",
       "    }\n",
       "</style>\n",
       "<table border=\"1\" class=\"dataframe\">\n",
       "  <thead>\n",
       "    <tr style=\"text-align: right;\">\n",
       "      <th></th>\n",
       "      <th>Method</th>\n",
       "      <th>Training MSE</th>\n",
       "      <th>Training R2</th>\n",
       "      <th>Test MSE</th>\n",
       "      <th>Test R2</th>\n",
       "      <th>Test MAPE</th>\n",
       "    </tr>\n",
       "  </thead>\n",
       "  <tbody>\n",
       "    <tr>\n",
       "      <th>0</th>\n",
       "      <td>Multi-Layer Perceptron</td>\n",
       "      <td>0.126674</td>\n",
       "      <td>0.873322</td>\n",
       "      <td>0.127668</td>\n",
       "      <td>0.871895</td>\n",
       "      <td>1.348455</td>\n",
       "    </tr>\n",
       "  </tbody>\n",
       "</table>\n",
       "</div>"
      ],
      "text/plain": [
       "                   Method Training MSE Training R2  Test MSE   Test R2  \\\n",
       "0  Multi-Layer Perceptron     0.126674    0.873322  0.127668  0.871895   \n",
       "\n",
       "  Test MAPE  \n",
       "0  1.348455  "
      ]
     },
     "execution_count": 98,
     "metadata": {},
     "output_type": "execute_result"
    }
   ],
   "source": [
    "mlp_results"
   ]
  },
  {
   "cell_type": "code",
   "execution_count": 80,
   "id": "16dc7bfc",
   "metadata": {},
   "outputs": [
    {
     "data": {
      "text/plain": [
       "MLPRegressor(max_iter=1000)"
      ]
     },
     "execution_count": 80,
     "metadata": {},
     "output_type": "execute_result"
    }
   ],
   "source": [
    "mlp1 = MLPRegressor(max_iter = 1000, activation = 'relu')\n",
    "mlp1"
   ]
  },
  {
   "cell_type": "code",
   "execution_count": 81,
   "id": "32b8496c",
   "metadata": {},
   "outputs": [
    {
     "data": {
      "text/plain": [
       "MLPRegressor(max_iter=1000)"
      ]
     },
     "execution_count": 81,
     "metadata": {},
     "output_type": "execute_result"
    }
   ],
   "source": [
    "mlp1.fit(X_train,y_train)"
   ]
  },
  {
   "cell_type": "code",
   "execution_count": 82,
   "id": "c63212fd",
   "metadata": {},
   "outputs": [],
   "source": [
    "y_mlp1_train_pred = mlp1.predict(X_train)\n",
    "y_mlp1_test_pred = mlp1.predict(X_test)"
   ]
  },
  {
   "cell_type": "code",
   "execution_count": 99,
   "id": "ea6890dd",
   "metadata": {},
   "outputs": [],
   "source": [
    "from sklearn.metrics import mean_squared_error, r2_score\n",
    "\n",
    "mlp1_train_mse = mean_squared_error(y_train, y_mlp1_train_pred)\n",
    "mlp1_train_r2 = r2_score(y_train, y_mlp1_train_pred)\n",
    "\n",
    "mlp1_test_mse = mean_squared_error(y_test, y_mlp1_test_pred)\n",
    "mlp1_test_r2 = r2_score(y_test, y_mlp1_test_pred)\n",
    "mlp1_test_mape = mean_absolute_percentage_error(y_test, y_mlp1_test_pred)"
   ]
  },
  {
   "cell_type": "code",
   "execution_count": 101,
   "id": "ede68f33",
   "metadata": {},
   "outputs": [],
   "source": [
    "mlp1_results = pd.DataFrame(['Multi-Layer Perceptron', mlp1_train_mse, mlp1_train_r2, mlp1_test_mse, mlp1_test_r2,mlp1_test_mape]).transpose()\n",
    "mlp1_results.columns = ['Method', 'Training MSE', 'Training R2', 'Test MSE', 'Test R2','Test MAPE']"
   ]
  },
  {
   "cell_type": "code",
   "execution_count": 102,
   "id": "278926e7",
   "metadata": {},
   "outputs": [
    {
     "data": {
      "text/html": [
       "<div>\n",
       "<style scoped>\n",
       "    .dataframe tbody tr th:only-of-type {\n",
       "        vertical-align: middle;\n",
       "    }\n",
       "\n",
       "    .dataframe tbody tr th {\n",
       "        vertical-align: top;\n",
       "    }\n",
       "\n",
       "    .dataframe thead th {\n",
       "        text-align: right;\n",
       "    }\n",
       "</style>\n",
       "<table border=\"1\" class=\"dataframe\">\n",
       "  <thead>\n",
       "    <tr style=\"text-align: right;\">\n",
       "      <th></th>\n",
       "      <th>Method</th>\n",
       "      <th>Training MSE</th>\n",
       "      <th>Training R2</th>\n",
       "      <th>Test MSE</th>\n",
       "      <th>Test R2</th>\n",
       "      <th>Test MAPE</th>\n",
       "    </tr>\n",
       "  </thead>\n",
       "  <tbody>\n",
       "    <tr>\n",
       "      <th>0</th>\n",
       "      <td>Multi-Layer Perceptron</td>\n",
       "      <td>0.125971</td>\n",
       "      <td>0.874026</td>\n",
       "      <td>0.126946</td>\n",
       "      <td>0.87262</td>\n",
       "      <td>1.320629</td>\n",
       "    </tr>\n",
       "  </tbody>\n",
       "</table>\n",
       "</div>"
      ],
      "text/plain": [
       "                   Method Training MSE Training R2  Test MSE  Test R2  \\\n",
       "0  Multi-Layer Perceptron     0.125971    0.874026  0.126946  0.87262   \n",
       "\n",
       "  Test MAPE  \n",
       "0  1.320629  "
      ]
     },
     "execution_count": 102,
     "metadata": {},
     "output_type": "execute_result"
    }
   ],
   "source": [
    "mlp1_results"
   ]
  },
  {
   "cell_type": "code",
   "execution_count": 103,
   "id": "e223dc92",
   "metadata": {},
   "outputs": [
    {
     "name": "stdout",
     "output_type": "stream",
     "text": [
      "                   Method Training MSE Training R2  Test MSE   Test R2  \\\n",
      "0  Multi-Layer Perceptron     0.125607     0.87439  0.126654  0.872912   \n",
      "\n",
      "  Test MAPE  \n",
      "0  1.346908  \n",
      "                   Method Training MSE Training R2  Test MSE   Test R2  \\\n",
      "0  Multi-Layer Perceptron      0.12184    0.878157  0.122785  0.876795   \n",
      "\n",
      "  Test MAPE  \n",
      "0   1.32374  \n",
      "                   Method Training MSE Training R2  Test MSE   Test R2  \\\n",
      "0  Multi-Layer Perceptron     0.123479    0.876518  0.124434  0.875141   \n",
      "\n",
      "  Test MAPE  \n",
      "0  1.349507  \n",
      "                   Method Training MSE Training R2  Test MSE   Test R2  \\\n",
      "0  Multi-Layer Perceptron     0.123148    0.876848  0.124292  0.875283   \n",
      "\n",
      "  Test MAPE  \n",
      "0  1.392124  \n"
     ]
    }
   ],
   "source": [
    "### checking if increasing no of iterations improve model\n",
    "for i in range(1,5):\n",
    "    mlp = MLPRegressor(max_iter = 1000+500*i, activation = 'relu')\n",
    "    mlp.fit(X_train,y_train)\n",
    "    y_mlp_train_pred = mlp.predict(X_train)\n",
    "    y_mlp_test_pred = mlp.predict(X_test)\n",
    "    mlp_train_mse = mean_squared_error(y_train, y_mlp_train_pred)\n",
    "    mlp_train_r2 = r2_score(y_train, y_mlp_train_pred)\n",
    "    mlp_test_mse = mean_squared_error(y_test, y_mlp_test_pred)\n",
    "    mlp_test_r2 = r2_score(y_test, y_mlp_test_pred)\n",
    "    mlp_test_mape = mean_absolute_percentage_error(y_test, y_mlp_test_pred)\n",
    "    mlp_results = pd.DataFrame(['Multi-Layer Perceptron', mlp_train_mse, mlp_train_r2, mlp_test_mse, mlp_test_r2,mlp_test_mape]).transpose()\n",
    "    mlp_results.columns = ['Method', 'Training MSE', 'Training R2', 'Test MSE', 'Test R2', 'Test MAPE']\n",
    "    print(mlp_results)"
   ]
  },
  {
   "cell_type": "code",
   "execution_count": 9,
   "id": "14b7f8dc",
   "metadata": {},
   "outputs": [
    {
     "ename": "TypeError",
     "evalue": "inv_boxcox() takes from 2 to 3 positional arguments but 1 were given",
     "output_type": "error",
     "traceback": [
      "\u001b[1;31m---------------------------------------------------------------------------\u001b[0m",
      "\u001b[1;31mTypeError\u001b[0m                                 Traceback (most recent call last)",
      "\u001b[1;32m<ipython-input-9-eaab96492995>\u001b[0m in \u001b[0;36m<module>\u001b[1;34m\u001b[0m\n\u001b[0;32m      1\u001b[0m \u001b[1;32mimport\u001b[0m \u001b[0mscipy\u001b[0m\u001b[1;33m\u001b[0m\u001b[1;33m\u001b[0m\u001b[0m\n\u001b[1;32m----> 2\u001b[1;33m \u001b[0mscipy\u001b[0m\u001b[1;33m.\u001b[0m\u001b[0mspecial\u001b[0m\u001b[1;33m.\u001b[0m\u001b[0minv_boxcox\u001b[0m\u001b[1;33m(\u001b[0m\u001b[1;36m0.3686\u001b[0m\u001b[1;33m,\u001b[0m \u001b[0mlmbda\u001b[0m \u001b[1;33m=\u001b[0m \u001b[1;36m0\u001b[0m\u001b[1;33m)\u001b[0m\u001b[1;33m\u001b[0m\u001b[1;33m\u001b[0m\u001b[0m\n\u001b[0m",
      "\u001b[1;31mTypeError\u001b[0m: inv_boxcox() takes from 2 to 3 positional arguments but 1 were given"
     ]
    }
   ],
   "source": [
    "import scipy\n",
    "scipy.special.inv_boxcox(0.3686, lmbda = 0)"
   ]
  },
  {
   "cell_type": "code",
   "execution_count": null,
   "id": "cfc981ba",
   "metadata": {},
   "outputs": [],
   "source": []
  },
  {
   "cell_type": "code",
   "execution_count": 2,
   "id": "8367287d",
   "metadata": {},
   "outputs": [
    {
     "name": "stdout",
     "output_type": "stream",
     "text": [
      "0.8767784337865775\n"
     ]
    }
   ],
   "source": [
    "adjrsquared1 = 1-((1-0.876795)*(59506-1)/(59506-8-1))\n",
    "print(adjrsquared1)"
   ]
  },
  {
   "cell_type": "code",
   "execution_count": 73,
   "id": "bfed3f13",
   "metadata": {},
   "outputs": [
    {
     "name": "stdout",
     "output_type": "stream",
     "text": [
      "                   Method Training MSE Training R2  Test MSE   Test R2\n",
      "0  Multi-Layer Perceptron     0.126634    0.873362  0.127799  0.871764\n",
      "                   Method Training MSE Training R2  Test MSE  Test R2\n",
      "0  Multi-Layer Perceptron     0.122622    0.877375  0.123816  0.87576\n",
      "                   Method Training MSE Training R2  Test MSE  Test R2\n",
      "0  Multi-Layer Perceptron     0.122866     0.87713  0.124036  0.87554\n",
      "                   Method Training MSE Training R2  Test MSE   Test R2\n",
      "0  Multi-Layer Perceptron     0.126278    0.873718  0.127095  0.872471\n"
     ]
    }
   ],
   "source": [
    "### checking if increasing no of iterations improve model\n",
    "for i in range(1,5):\n",
    "    mlp = MLPRegressor(max_iter = 2500+500*i, activation = 'relu')\n",
    "    mlp.fit(X_train,y_train)\n",
    "    y_mlp_train_pred = mlp.predict(X_train)\n",
    "    y_mlp_test_pred = mlp.predict(X_test)\n",
    "    mlp_train_mse = mean_squared_error(y_train, y_mlp_train_pred)\n",
    "    mlp_train_r2 = r2_score(y_train, y_mlp_train_pred)\n",
    "    mlp_test_mse = mean_squared_error(y_test, y_mlp_test_pred)\n",
    "    mlp_test_r2 = r2_score(y_test, y_mlp_test_pred)\n",
    "    mlp_test_mape = mean_absolute_percentage_error(y_test, y_mlp_test_pred)\n",
    "    mlp_results = pd.DataFrame(['Multi-Layer Perceptron', mlp_train_mse, mlp_train_r2, mlp_test_mse, mlp_test_r2,mlp_test_mape]).transpose()\n",
    "    mlp_results.columns = ['Method', 'Training MSE', 'Training R2', 'Test MSE', 'Test R2', 'Test MAPE']\n",
    "    print(mlp_results)"
   ]
  },
  {
   "cell_type": "code",
   "execution_count": 104,
   "id": "2567da72",
   "metadata": {
    "scrolled": true
   },
   "outputs": [
    {
     "name": "stdout",
     "output_type": "stream",
     "text": [
      "                   Method Training MSE Training R2  Test MSE   Test R2  \\\n",
      "0  Multi-Layer Perceptron     0.175549    0.824447  0.177376  0.822018   \n",
      "\n",
      "  Test MAPE  \n",
      "0  1.556856  \n",
      "                   Method Training MSE Training R2  Test MSE   Test R2  \\\n",
      "0  Multi-Layer Perceptron     0.138572    0.861424  0.139495  0.860028   \n",
      "\n",
      "  Test MAPE  \n",
      "0   1.29629  \n",
      "                   Method Training MSE Training R2  Test MSE   Test R2  \\\n",
      "0  Multi-Layer Perceptron     0.135782    0.864215  0.136405  0.863128   \n",
      "\n",
      "  Test MAPE  \n",
      "0   1.28243  \n",
      "                   Method Training MSE Training R2  Test MSE   Test R2  \\\n",
      "0  Multi-Layer Perceptron     0.123983    0.876014  0.125071  0.874502   \n",
      "\n",
      "  Test MAPE  \n",
      "0  1.353684  \n"
     ]
    }
   ],
   "source": [
    "### seeing if diff activation functions improve model\n",
    "activation_type = ['identity','logistic','tanh','relu']\n",
    "\n",
    "for i in range(0,4):\n",
    "    mlp = MLPRegressor(max_iter = 1000, activation = activation_type[i])\n",
    "    mlp.fit(X_train,y_train)\n",
    "    y_mlp_train_pred = mlp.predict(X_train)\n",
    "    y_mlp_test_pred = mlp.predict(X_test)\n",
    "    mlp_train_mse = mean_squared_error(y_train, y_mlp_train_pred)\n",
    "    mlp_train_r2 = r2_score(y_train, y_mlp_train_pred)\n",
    "    mlp_test_mse = mean_squared_error(y_test, y_mlp_test_pred)\n",
    "    mlp_test_r2 = r2_score(y_test, y_mlp_test_pred)\n",
    "    mlp_test_mape = mean_absolute_percentage_error(y_test, y_mlp_test_pred)\n",
    "    mlp_results = pd.DataFrame(['Multi-Layer Perceptron', mlp_train_mse, mlp_train_r2, mlp_test_mse, mlp_test_r2,mlp_test_mape]).transpose()\n",
    "    mlp_results.columns = ['Method', 'Training MSE', 'Training R2', 'Test MSE', 'Test R2','Test MAPE']\n",
    "    print(mlp_results)\n",
    "    \n",
    "    ###tanh lower MSE and MAPE but relu higher test R-squared"
   ]
  },
  {
   "cell_type": "code",
   "execution_count": 105,
   "id": "e295ebc1",
   "metadata": {
    "scrolled": false
   },
   "outputs": [
    {
     "name": "stdout",
     "output_type": "stream",
     "text": [
      "                   Method Training MSE Training R2  Test MSE   Test R2  \\\n",
      "0  Multi-Layer Perceptron     0.134151    0.865845  0.135328  0.864209   \n",
      "\n",
      "  Test MAPE  \n",
      "0  1.397965  \n",
      "                   Method Training MSE Training R2  Test MSE   Test R2  \\\n",
      "0  Multi-Layer Perceptron     0.133682    0.866315  0.134592  0.864948   \n",
      "\n",
      "  Test MAPE  \n",
      "0  1.365513  \n",
      "                   Method Training MSE Training R2 Test MSE   Test R2  \\\n",
      "0  Multi-Layer Perceptron     0.132832    0.867164  0.13369  0.865853   \n",
      "\n",
      "  Test MAPE  \n",
      "0  1.348845  \n",
      "                   Method Training MSE Training R2 Test MSE   Test R2  \\\n",
      "0  Multi-Layer Perceptron     0.135249    0.864747   0.1359  0.863636   \n",
      "\n",
      "  Test MAPE  \n",
      "0  1.304916  \n"
     ]
    }
   ],
   "source": [
    "### checking if increasing no of iterations improve model tanh\n",
    "for i in range(1,5):\n",
    "    mlp = MLPRegressor(max_iter = 1000+500*i, activation = 'tanh')\n",
    "    mlp.fit(X_train,y_train)\n",
    "    y_mlp_train_pred = mlp.predict(X_train)\n",
    "    y_mlp_test_pred = mlp.predict(X_test)\n",
    "    mlp_train_mse = mean_squared_error(y_train, y_mlp_train_pred)\n",
    "    mlp_train_r2 = r2_score(y_train, y_mlp_train_pred)\n",
    "    mlp_test_mse = mean_squared_error(y_test, y_mlp_test_pred)\n",
    "    mlp_test_r2 = r2_score(y_test, y_mlp_test_pred)\n",
    "    mlp_test_mape = mean_absolute_percentage_error(y_test, y_mlp_test_pred)\n",
    "    mlp_results = pd.DataFrame(['Multi-Layer Perceptron', mlp_train_mse, mlp_train_r2, mlp_test_mse, mlp_test_r2,mlp_test_mape]).transpose()\n",
    "    mlp_results.columns = ['Method', 'Training MSE', 'Training R2', 'Test MSE', 'Test R2', 'Test MAPE']\n",
    "    print(mlp_results)"
   ]
  },
  {
   "cell_type": "code",
   "execution_count": 4,
   "id": "5804ac53",
   "metadata": {},
   "outputs": [
    {
     "name": "stdout",
     "output_type": "stream",
     "text": [
      "0.8636176644200547\n"
     ]
    }
   ],
   "source": [
    "adjrsquared2 = 1-((1-0.863636)*(59506-1)/(59506-8-1))\n",
    "print(adjrsquared2)"
   ]
  },
  {
   "cell_type": "code",
   "execution_count": null,
   "id": "89b61ee9",
   "metadata": {},
   "outputs": [],
   "source": [
    "### MAPE of tanh lower than relu but lower test R2"
   ]
  },
  {
   "cell_type": "code",
   "execution_count": 106,
   "id": "998d4627",
   "metadata": {},
   "outputs": [
    {
     "name": "stdout",
     "output_type": "stream",
     "text": [
      "                   Method Training MSE Training R2  Test MSE   Test R2  \\\n",
      "0  Multi-Layer Perceptron     0.134471    0.865525  0.135565  0.863971   \n",
      "\n",
      "  Test MAPE  \n",
      "0  1.385101  \n",
      "                   Method Training MSE Training R2  Test MSE   Test R2  \\\n",
      "0  Multi-Layer Perceptron     0.134357     0.86564  0.135296  0.864241   \n",
      "\n",
      "  Test MAPE  \n",
      "0  1.326529  \n",
      "                   Method Training MSE Training R2  Test MSE  Test R2  \\\n",
      "0  Multi-Layer Perceptron     0.133772    0.866225  0.134729  0.86481   \n",
      "\n",
      "  Test MAPE  \n",
      "0  1.346577  \n",
      "                   Method Training MSE Training R2  Test MSE   Test R2  \\\n",
      "0  Multi-Layer Perceptron     0.134122    0.865875  0.135221  0.864316   \n",
      "\n",
      "  Test MAPE  \n",
      "0  1.337493  \n"
     ]
    }
   ],
   "source": [
    "### checking if increasing no of iterations improve model tanh\n",
    "for i in range(1,5):\n",
    "    mlp = MLPRegressor(max_iter = 3000+500*i, activation = 'tanh')\n",
    "    mlp.fit(X_train,y_train)\n",
    "    y_mlp_train_pred = mlp.predict(X_train)\n",
    "    y_mlp_test_pred = mlp.predict(X_test)\n",
    "    mlp_train_mse = mean_squared_error(y_train, y_mlp_train_pred)\n",
    "    mlp_train_r2 = r2_score(y_train, y_mlp_train_pred)\n",
    "    mlp_test_mse = mean_squared_error(y_test, y_mlp_test_pred)\n",
    "    mlp_test_r2 = r2_score(y_test, y_mlp_test_pred)\n",
    "    mlp_test_mape = mean_absolute_percentage_error(y_test, y_mlp_test_pred)\n",
    "    mlp_results = pd.DataFrame(['Multi-Layer Perceptron', mlp_train_mse, mlp_train_r2, mlp_test_mse, mlp_test_r2,mlp_test_mape]).transpose()\n",
    "    mlp_results.columns = ['Method', 'Training MSE', 'Training R2', 'Test MSE', 'Test R2', 'Test MAPE']\n",
    "    print(mlp_results)"
   ]
  },
  {
   "cell_type": "markdown",
   "id": "02b3741a",
   "metadata": {},
   "source": [
    "### Trying on unscaled price"
   ]
  },
  {
   "cell_type": "code",
   "execution_count": 16,
   "id": "223da5f4",
   "metadata": {},
   "outputs": [],
   "source": [
    "df_new = pd.read_csv(\"C:\\\\Users\\\\drago\\\\IS460\\\\data\\\\df_prepared.csv\")\n",
    "df_new = df_new.drop('Unnamed: 0', axis = 1)"
   ]
  },
  {
   "cell_type": "code",
   "execution_count": 17,
   "id": "bea35556",
   "metadata": {},
   "outputs": [],
   "source": [
    "X = df_new.drop('price', axis = 1)\n",
    "y = df_new['price']"
   ]
  },
  {
   "cell_type": "code",
   "execution_count": 8,
   "id": "398cf97c",
   "metadata": {},
   "outputs": [
    {
     "name": "stdout",
     "output_type": "stream",
     "text": [
      "(236551, 9)\n",
      "(59138,)\n"
     ]
    }
   ],
   "source": [
    "from sklearn.model_selection import train_test_split\n",
    "X_train,X_test,y_train,y_test = train_test_split(X,y, test_size = 0.2)\n",
    "print(X_train.shape)\n",
    "print(y_test.shape)"
   ]
  },
  {
   "cell_type": "code",
   "execution_count": 18,
   "id": "fcf7230c",
   "metadata": {},
   "outputs": [],
   "source": [
    "from sklearn.metrics import mean_squared_error, r2_score,mean_absolute_percentage_error\n",
    "from sklearn.neural_network import MLPRegressor"
   ]
  },
  {
   "cell_type": "code",
   "execution_count": 21,
   "id": "248e6820",
   "metadata": {},
   "outputs": [
    {
     "name": "stdout",
     "output_type": "stream",
     "text": [
      "                   Method         Test MSE   Test R2 Test MAPE\n",
      "0  Multi-Layer Perceptron  65710876.013315  0.872004  0.485275\n"
     ]
    },
    {
     "name": "stderr",
     "output_type": "stream",
     "text": [
      "C:\\Users\\drago\\anaconda3\\lib\\site-packages\\sklearn\\neural_network\\_multilayer_perceptron.py:692: ConvergenceWarning: Stochastic Optimizer: Maximum iterations (1000) reached and the optimization hasn't converged yet.\n",
      "  warnings.warn(\n"
     ]
    }
   ],
   "source": [
    "mlp = MLPRegressor(max_iter = 1000, activation = 'relu')\n",
    "mlp.fit(X_train,y_train)\n",
    "y_mlp_test_pred = mlp.predict(X_test)\n",
    "mlp_test_mse = mean_squared_error(y_test, y_mlp_test_pred)\n",
    "mlp_test_r2 = r2_score(y_test, y_mlp_test_pred)\n",
    "mlp_test_mape = mean_absolute_percentage_error(y_test, y_mlp_test_pred)\n",
    "mlp_results = pd.DataFrame(['Multi-Layer Perceptron',mlp_test_mse, mlp_test_r2,mlp_test_mape]).transpose()\n",
    "mlp_results.columns = ['Method', 'Test MSE', 'Test R2', 'Test MAPE']\n",
    "print(mlp_results)"
   ]
  },
  {
   "cell_type": "code",
   "execution_count": 12,
   "id": "2eddb6f9",
   "metadata": {
    "scrolled": true
   },
   "outputs": [
    {
     "name": "stderr",
     "output_type": "stream",
     "text": [
      "C:\\Users\\drago\\anaconda3\\lib\\site-packages\\sklearn\\neural_network\\_multilayer_perceptron.py:692: ConvergenceWarning: Stochastic Optimizer: Maximum iterations (1500) reached and the optimization hasn't converged yet.\n",
      "  warnings.warn(\n"
     ]
    },
    {
     "name": "stdout",
     "output_type": "stream",
     "text": [
      "                   Method         Test MSE   Test R2 Test MAPE\n",
      "0  Multi-Layer Perceptron  62742832.607655  0.877785   0.45576\n"
     ]
    },
    {
     "name": "stderr",
     "output_type": "stream",
     "text": [
      "C:\\Users\\drago\\anaconda3\\lib\\site-packages\\sklearn\\neural_network\\_multilayer_perceptron.py:692: ConvergenceWarning: Stochastic Optimizer: Maximum iterations (2000) reached and the optimization hasn't converged yet.\n",
      "  warnings.warn(\n"
     ]
    },
    {
     "name": "stdout",
     "output_type": "stream",
     "text": [
      "                   Method         Test MSE   Test R2 Test MAPE\n",
      "0  Multi-Layer Perceptron  63793891.154189  0.875738  0.460051\n"
     ]
    }
   ],
   "source": [
    "### checking if increasing no of iterations improve model\n",
    "for i in range(1,3):\n",
    "    mlp = MLPRegressor(max_iter = 1000+500*i, activation = 'relu')\n",
    "    mlp.fit(X_train,y_train)\n",
    "    y_mlp_test_pred = mlp.predict(X_test)\n",
    "    mlp_test_mse = mean_squared_error(y_test, y_mlp_test_pred)\n",
    "    mlp_test_r2 = r2_score(y_test, y_mlp_test_pred)\n",
    "    mlp_test_mape = mean_absolute_percentage_error(y_test, y_mlp_test_pred)\n",
    "    mlp_results = pd.DataFrame(['Multi-Layer Perceptron',mlp_test_mse, mlp_test_r2,mlp_test_mape]).transpose()\n",
    "    mlp_results.columns = ['Method', 'Test MSE', 'Test R2', 'Test MAPE']\n",
    "    print(mlp_results)"
   ]
  },
  {
   "cell_type": "code",
   "execution_count": 19,
   "id": "e159937e",
   "metadata": {},
   "outputs": [],
   "source": [
    "#1500 is the best"
   ]
  },
  {
   "cell_type": "code",
   "execution_count": 20,
   "id": "eba5e1e0",
   "metadata": {},
   "outputs": [
    {
     "name": "stdout",
     "output_type": "stream",
     "text": [
      "                   Method         Test MSE   Test R2 Test MAPE\n",
      "0  Multi-Layer Perceptron  73029746.130671  0.857748  0.549625\n",
      "                   Method          Test MSE   Test R2 Test MAPE\n",
      "0  Multi-Layer Perceptron  513383804.989277 -0.000004  2.370834\n",
      "                   Method          Test MSE   Test R2 Test MAPE\n",
      "0  Multi-Layer Perceptron  513383790.057295 -0.000004  2.370856\n"
     ]
    },
    {
     "name": "stderr",
     "output_type": "stream",
     "text": [
      "C:\\Users\\drago\\anaconda3\\lib\\site-packages\\sklearn\\neural_network\\_multilayer_perceptron.py:692: ConvergenceWarning: Stochastic Optimizer: Maximum iterations (1000) reached and the optimization hasn't converged yet.\n",
      "  warnings.warn(\n"
     ]
    },
    {
     "name": "stdout",
     "output_type": "stream",
     "text": [
      "                   Method         Test MSE   Test R2 Test MAPE\n",
      "0  Multi-Layer Perceptron  64522880.815933  0.874318  0.468069\n"
     ]
    }
   ],
   "source": [
    "activation_type = ['identity','logistic','tanh','relu']\n",
    "\n",
    "for i in range(0,4):\n",
    "    mlp = MLPRegressor(max_iter = 1000, activation = activation_type[i])\n",
    "    mlp.fit(X_train,y_train)\n",
    "    y_mlp_train_pred = mlp.predict(X_train)\n",
    "    y_mlp_test_pred = mlp.predict(X_test)\n",
    "    mlp_test_mse = mean_squared_error(y_test, y_mlp_test_pred)\n",
    "    mlp_test_r2 = r2_score(y_test, y_mlp_test_pred)\n",
    "    mlp_test_mape = mean_absolute_percentage_error(y_test, y_mlp_test_pred)\n",
    "    mlp_results = pd.DataFrame(['Multi-Layer Perceptron', mlp_test_mse, mlp_test_r2,mlp_test_mape]).transpose()\n",
    "    mlp_results.columns = ['Method', 'Test MSE', 'Test R2','Test MAPE']\n",
    "    print(mlp_results)"
   ]
  },
  {
   "cell_type": "code",
   "execution_count": null,
   "id": "93a60c9f",
   "metadata": {},
   "outputs": [],
   "source": [
    "### including more hidden layers to uncover nonlinear relationships"
   ]
  },
  {
   "cell_type": "code",
   "execution_count": null,
   "id": "8b254b86",
   "metadata": {},
   "outputs": [],
   "source": [
    "mlp = MLPRegressor(max_iter = 1500, activation = 'relu', hidden_layers =(100,100,100,))\n",
    "mlp.fit(X_train,y_train)\n",
    "y_mlp_test_pred = mlp.predict(X_test)\n",
    "mlp_test_mse = mean_squared_error(y_test, y_mlp_test_pred)\n",
    "mlp_test_r2 = r2_score(y_test, y_mlp_test_pred)\n",
    "mlp_test_mape = mean_absolute_percentage_error(y_test, y_mlp_test_pred)\n",
    "ml_results = pd.DataFrame(['Multi-Layer Perceptron',mlp_test_mse, mlp_test_r2,mlp_test_mape]).transpose()\n",
    "mlp_results.columns = ['Method', 'Test MSE', 'Test R2', 'Test MAPE']\n",
    "print(mlp_results)"
   ]
  },
  {
   "cell_type": "code",
   "execution_count": null,
   "id": "b15d069e",
   "metadata": {},
   "outputs": [],
   "source": [
    "### change number of hidden units"
   ]
  },
  {
   "cell_type": "code",
   "execution_count": 28,
   "id": "65b2ba1e",
   "metadata": {},
   "outputs": [
    {
     "name": "stdout",
     "output_type": "stream",
     "text": [
      "                   Method         Test MSE   Test R2 Test MAPE\n",
      "0  Multi-Layer Perceptron  50430866.428704  0.901767  0.319129\n"
     ]
    },
    {
     "name": "stderr",
     "output_type": "stream",
     "text": [
      "C:\\Users\\drago\\anaconda3\\lib\\site-packages\\sklearn\\neural_network\\_multilayer_perceptron.py:699: UserWarning: Training interrupted by user.\n",
      "  warnings.warn(\"Training interrupted by user.\")\n"
     ]
    },
    {
     "name": "stdout",
     "output_type": "stream",
     "text": [
      "                   Method         Test MSE   Test R2 Test MAPE\n",
      "0  Multi-Layer Perceptron  51776443.180937  0.899146  0.326477\n"
     ]
    },
    {
     "name": "stderr",
     "output_type": "stream",
     "text": [
      "C:\\Users\\drago\\anaconda3\\lib\\site-packages\\sklearn\\neural_network\\_multilayer_perceptron.py:699: UserWarning: Training interrupted by user.\n",
      "  warnings.warn(\"Training interrupted by user.\")\n"
     ]
    },
    {
     "name": "stdout",
     "output_type": "stream",
     "text": [
      "                   Method         Test MSE   Test R2 Test MAPE\n",
      "0  Multi-Layer Perceptron  66271538.203005  0.870912  0.469502\n"
     ]
    }
   ],
   "source": [
    "### checking if increasing no of iterations improve model\n",
    "for i in range(1,4):\n",
    "    mlp = MLPRegressor(max_iter = 1500, activation = 'relu',hidden_layer_sizes=(100+50*i,100+50*i,100+50*i,))\n",
    "    mlp.fit(X_train,y_train)\n",
    "    y_mlp_test_pred = mlp.predict(X_test)\n",
    "    mlp_test_mse = mean_squared_error(y_test, y_mlp_test_pred)\n",
    "    mlp_test_r2 = r2_score(y_test, y_mlp_test_pred)\n",
    "    mlp_test_mape = mean_absolute_percentage_error(y_test, y_mlp_test_pred)\n",
    "    mlp_results = pd.DataFrame(['Multi-Layer Perceptron',mlp_test_mse, mlp_test_r2,mlp_test_mape]).transpose()\n",
    "    mlp_results.columns = ['Method', 'Test MSE', 'Test R2', 'Test MAPE']\n",
    "    print(mlp_results)"
   ]
  },
  {
   "cell_type": "code",
   "execution_count": null,
   "id": "4eb5df6b",
   "metadata": {},
   "outputs": [],
   "source": []
  },
  {
   "cell_type": "markdown",
   "id": "bb41bdf2",
   "metadata": {},
   "source": [
    "1st iteration\n",
    "Method         Test MSE   Test R2 Test MAPE\n",
    "0  Multi-Layer Perceptron  50430866.428704  0.901767  0.319129"
   ]
  },
  {
   "cell_type": "markdown",
   "id": "c47f6cf2",
   "metadata": {},
   "source": [
    "2nd iteration\n",
    "Method         Test MSE   Test R2 Test MAPE\n",
    "0  Multi-Layer Perceptron  51776443.180937  0.899146  0.326477"
   ]
  }
 ],
 "metadata": {
  "kernelspec": {
   "display_name": "Python 3 (ipykernel)",
   "language": "python",
   "name": "python3"
  },
  "language_info": {
   "codemirror_mode": {
    "name": "ipython",
    "version": 3
   },
   "file_extension": ".py",
   "mimetype": "text/x-python",
   "name": "python",
   "nbconvert_exporter": "python",
   "pygments_lexer": "ipython3",
   "version": "3.9.12"
  }
 },
 "nbformat": 4,
 "nbformat_minor": 5
}
