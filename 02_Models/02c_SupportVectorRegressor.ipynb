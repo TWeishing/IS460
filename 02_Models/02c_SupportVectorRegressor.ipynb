{
 "cells": [
  {
   "cell_type": "markdown",
   "id": "8a06fa60",
   "metadata": {},
   "source": [
    "# Support Vector Regression"
   ]
  },
  {
   "cell_type": "markdown",
   "id": "2f8fb153",
   "metadata": {},
   "source": [
    "### Imports"
   ]
  },
  {
   "cell_type": "code",
   "execution_count": 1,
   "id": "d55fb906",
   "metadata": {},
   "outputs": [],
   "source": [
    "import pandas as pd\n",
    "import seaborn as sns\n",
    "import numpy as np\n",
    "import matplotlib.pyplot as plt\n",
    "from sklearn.svm import SVR\n",
    "from sklearn.model_selection import train_test_split\n",
    "from sklearn.metrics import mean_absolute_error, mean_absolute_percentage_error, mean_squared_error, r2_score\n",
    "import statsmodels.api as sm\n",
    "from statsmodels.stats.outliers_influence import variance_inflation_factor as vif\n",
    "\n",
    "df1 = pd.read_csv(\"../data/df1.csv\", index_col=0)"
   ]
  },
  {
   "cell_type": "code",
   "execution_count": 16,
   "id": "2ce2d4dd",
   "metadata": {},
   "outputs": [
    {
     "data": {
      "text/html": [
       "<div>\n",
       "<style scoped>\n",
       "    .dataframe tbody tr th:only-of-type {\n",
       "        vertical-align: middle;\n",
       "    }\n",
       "\n",
       "    .dataframe tbody tr th {\n",
       "        vertical-align: top;\n",
       "    }\n",
       "\n",
       "    .dataframe thead th {\n",
       "        text-align: right;\n",
       "    }\n",
       "</style>\n",
       "<table border=\"1\" class=\"dataframe\">\n",
       "  <thead>\n",
       "    <tr style=\"text-align: right;\">\n",
       "      <th></th>\n",
       "      <th>airline</th>\n",
       "      <th>source_city</th>\n",
       "      <th>departure_time</th>\n",
       "      <th>stops</th>\n",
       "      <th>arrival_time</th>\n",
       "      <th>destination_city</th>\n",
       "      <th>class</th>\n",
       "      <th>days_left_binned</th>\n",
       "      <th>duration_sqrt_scaled</th>\n",
       "      <th>price_boxcox_scaled</th>\n",
       "    </tr>\n",
       "  </thead>\n",
       "  <tbody>\n",
       "    <tr>\n",
       "      <th>0</th>\n",
       "      <td>-0.518731</td>\n",
       "      <td>-0.068017</td>\n",
       "      <td>0.026656</td>\n",
       "      <td>-0.27363</td>\n",
       "      <td>0.015281</td>\n",
       "      <td>0.009063</td>\n",
       "      <td>-0.577809</td>\n",
       "      <td>0.437431</td>\n",
       "      <td>-1.735912</td>\n",
       "      <td>-0.498010</td>\n",
       "    </tr>\n",
       "    <tr>\n",
       "      <th>1</th>\n",
       "      <td>-0.518731</td>\n",
       "      <td>-0.068017</td>\n",
       "      <td>-0.026516</td>\n",
       "      <td>-0.27363</td>\n",
       "      <td>0.061629</td>\n",
       "      <td>0.009063</td>\n",
       "      <td>-0.577809</td>\n",
       "      <td>0.437431</td>\n",
       "      <td>-1.685797</td>\n",
       "      <td>-0.498010</td>\n",
       "    </tr>\n",
       "    <tr>\n",
       "      <th>2</th>\n",
       "      <td>-0.713457</td>\n",
       "      <td>-0.068017</td>\n",
       "      <td>-0.026516</td>\n",
       "      <td>-0.27363</td>\n",
       "      <td>-0.156916</td>\n",
       "      <td>0.009063</td>\n",
       "      <td>-0.577809</td>\n",
       "      <td>0.437431</td>\n",
       "      <td>-1.735912</td>\n",
       "      <td>-0.497464</td>\n",
       "    </tr>\n",
       "    <tr>\n",
       "      <th>3</th>\n",
       "      <td>0.309109</td>\n",
       "      <td>-0.068017</td>\n",
       "      <td>0.005012</td>\n",
       "      <td>-0.27363</td>\n",
       "      <td>-0.047256</td>\n",
       "      <td>0.009063</td>\n",
       "      <td>-0.577809</td>\n",
       "      <td>0.437431</td>\n",
       "      <td>-1.710632</td>\n",
       "      <td>-0.497646</td>\n",
       "    </tr>\n",
       "    <tr>\n",
       "      <th>4</th>\n",
       "      <td>0.309109</td>\n",
       "      <td>-0.068017</td>\n",
       "      <td>0.005012</td>\n",
       "      <td>-0.27363</td>\n",
       "      <td>0.061629</td>\n",
       "      <td>0.009063</td>\n",
       "      <td>-0.577809</td>\n",
       "      <td>0.437431</td>\n",
       "      <td>-1.685797</td>\n",
       "      <td>-0.497646</td>\n",
       "    </tr>\n",
       "  </tbody>\n",
       "</table>\n",
       "</div>"
      ],
      "text/plain": [
       "    airline  source_city  departure_time    stops  arrival_time  \\\n",
       "0 -0.518731    -0.068017        0.026656 -0.27363      0.015281   \n",
       "1 -0.518731    -0.068017       -0.026516 -0.27363      0.061629   \n",
       "2 -0.713457    -0.068017       -0.026516 -0.27363     -0.156916   \n",
       "3  0.309109    -0.068017        0.005012 -0.27363     -0.047256   \n",
       "4  0.309109    -0.068017        0.005012 -0.27363      0.061629   \n",
       "\n",
       "   destination_city     class  days_left_binned  duration_sqrt_scaled  \\\n",
       "0          0.009063 -0.577809          0.437431             -1.735912   \n",
       "1          0.009063 -0.577809          0.437431             -1.685797   \n",
       "2          0.009063 -0.577809          0.437431             -1.735912   \n",
       "3          0.009063 -0.577809          0.437431             -1.710632   \n",
       "4          0.009063 -0.577809          0.437431             -1.685797   \n",
       "\n",
       "   price_boxcox_scaled  \n",
       "0            -0.498010  \n",
       "1            -0.498010  \n",
       "2            -0.497464  \n",
       "3            -0.497646  \n",
       "4            -0.497646  "
      ]
     },
     "execution_count": 16,
     "metadata": {},
     "output_type": "execute_result"
    }
   ],
   "source": [
    "df1.head()"
   ]
  },
  {
   "cell_type": "markdown",
   "id": "229b8d85",
   "metadata": {},
   "source": [
    "### Identifying Correlation"
   ]
  },
  {
   "cell_type": "markdown",
   "id": "83f9edb2",
   "metadata": {},
   "source": [
    "Determining the correlation between features to identify the most correlated one across the board as the dependent variable."
   ]
  },
  {
   "cell_type": "code",
   "execution_count": 17,
   "id": "1c7cbe4e",
   "metadata": {},
   "outputs": [
    {
     "data": {
      "image/png": "[encoded data removed]",
      "text/plain": [
       "<Figure size 800x600 with 2 Axes>"
      ]
     },
     "metadata": {},
     "output_type": "display_data"
    }
   ],
   "source": [
    "correlation_matrix = df1.corr()\n",
    "\n",
    "# Plotting the heatmap\n",
    "plt.figure(figsize=(8, 6))\n",
    "sns.heatmap(correlation_matrix, annot=True, fmt=\".2f\")\n",
    "plt.title('Correlation Matrix of Features')\n",
    "plt.show()"
   ]
  },
  {
   "cell_type": "markdown",
   "id": "2ec3f0bb",
   "metadata": {},
   "source": [
    "From the graph, we can determine that price_boxcox_scaled is the most correlated with other variables. Thus, it will be used as the dependent variable."
   ]
  },
  {
   "cell_type": "markdown",
   "id": "56728f6b",
   "metadata": {},
   "source": [
    "### Train Test Split"
   ]
  },
  {
   "cell_type": "code",
   "execution_count": 18,
   "id": "49097578",
   "metadata": {},
   "outputs": [],
   "source": [
    "X = df1[['airline', 'source_city',\t'departure_time', 'stops', 'arrival_time', 'destination_city', \n",
    "      'class', 'days_left_binned', 'duration_sqrt_scaled']]\n",
    "y = df1['price_boxcox_scaled']"
   ]
  },
  {
   "cell_type": "markdown",
   "id": "9eefebee",
   "metadata": {},
   "source": [
    "We will divide the dataset into Train:Test ratio of 0.8:0.2."
   ]
  },
  {
   "cell_type": "code",
   "execution_count": 19,
   "id": "f156d880",
   "metadata": {},
   "outputs": [],
   "source": [
    "X_train, X_test, y_train, y_test = train_test_split(X, y, test_size=0.2)"
   ]
  },
  {
   "cell_type": "markdown",
   "id": "ebcb85be",
   "metadata": {},
   "source": [
    "<i>Question: Should I include validation set?</i>"
   ]
  },
  {
   "cell_type": "markdown",
   "id": "3797aab8",
   "metadata": {},
   "source": [
    "### Regularization *"
   ]
  },
  {
   "cell_type": "markdown",
   "id": "8db196cc",
   "metadata": {},
   "source": [
    "<i>Question: Do I need to regularise the data? Or has it already been done so in pre-processing stages?</i>"
   ]
  },
  {
   "cell_type": "markdown",
   "id": "5e4b23b8",
   "metadata": {},
   "source": [
    "### Ordinary Least Squares"
   ]
  },
  {
   "cell_type": "markdown",
   "id": "54272e78",
   "metadata": {},
   "source": [
    "Performing OLS check to determine the significant independent variables for the model."
   ]
  },
  {
   "cell_type": "code",
   "execution_count": 20,
   "id": "4596523d",
   "metadata": {},
   "outputs": [],
   "source": [
    "X_train_const = sm.add_constant(X_train)\n",
    "\n",
    "ols_model = sm.OLS(y_train, X_train_const)\n",
    "ols_results = ols_model.fit()"
   ]
  },
  {
   "cell_type": "code",
   "execution_count": 21,
   "id": "5bb5f929",
   "metadata": {},
   "outputs": [
    {
     "data": {
      "text/html": [
       "<table class=\"simpletable\">\n",
       "<tr>\n",
       "        <td>Model:</td>                <td>OLS</td>           <td>Adj. R-squared:</td>      <td>0.825</td>   \n",
       "</tr>\n",
       "<tr>\n",
       "  <td>Dependent Variable:</td> <td>price_boxcox_scaled</td>        <td>AIC:</td>         <td>260416.4277</td>\n",
       "</tr>\n",
       "<tr>\n",
       "         <td>Date:</td>         <td>2024-02-29 10:59</td>          <td>BIC:</td>         <td>260520.2288</td>\n",
       "</tr>\n",
       "<tr>\n",
       "   <td>No. Observations:</td>        <td>238021</td>          <td>Log-Likelihood:</td>   <td>-1.3020e+05</td>\n",
       "</tr>\n",
       "<tr>\n",
       "       <td>Df Model:</td>               <td>9</td>             <td>F-statistic:</td>      <td>1.247e+05</td> \n",
       "</tr>\n",
       "<tr>\n",
       "     <td>Df Residuals:</td>          <td>238011</td>        <td>Prob (F-statistic):</td>    <td>0.00</td>    \n",
       "</tr>\n",
       "<tr>\n",
       "      <td>R-squared:</td>             <td>0.825</td>              <td>Scale:</td>          <td>0.17485</td>  \n",
       "</tr>\n",
       "</table>\n",
       "<table class=\"simpletable\">\n",
       "<tr>\n",
       "            <td></td>            <th>Coef.</th>  <th>Std.Err.</th>     <th>t</th>     <th>P>|t|</th> <th>[0.025</th>  <th>0.975]</th> \n",
       "</tr>\n",
       "<tr>\n",
       "  <th>const</th>                <td>0.0055</td>   <td>0.0009</td>   <td>6.4411</td>  <td>0.0000</td> <td>0.0038</td>  <td>0.0072</td> \n",
       "</tr>\n",
       "<tr>\n",
       "  <th>airline</th>              <td>0.0226</td>   <td>0.0025</td>   <td>9.1905</td>  <td>0.0000</td> <td>0.0177</td>  <td>0.0274</td> \n",
       "</tr>\n",
       "<tr>\n",
       "  <th>source_city</th>          <td>1.0292</td>   <td>0.0161</td>   <td>63.8065</td> <td>0.0000</td> <td>0.9976</td>  <td>1.0608</td> \n",
       "</tr>\n",
       "<tr>\n",
       "  <th>departure_time</th>       <td>-0.0544</td>  <td>0.0138</td>   <td>-3.9513</td> <td>0.0001</td> <td>-0.0814</td> <td>-0.0274</td>\n",
       "</tr>\n",
       "<tr>\n",
       "  <th>stops</th>                <td>0.1581</td>   <td>0.0059</td>   <td>26.6271</td> <td>0.0000</td> <td>0.1464</td>  <td>0.1697</td> \n",
       "</tr>\n",
       "<tr>\n",
       "  <th>arrival_time</th>         <td>-0.0027</td>  <td>0.0086</td>   <td>-0.3103</td> <td>0.7563</td> <td>-0.0194</td> <td>0.0141</td> \n",
       "</tr>\n",
       "<tr>\n",
       "  <th>destination_city</th>     <td>0.7667</td>   <td>0.0176</td>   <td>43.5654</td> <td>0.0000</td> <td>0.7322</td>  <td>0.8012</td> \n",
       "</tr>\n",
       "<tr>\n",
       "  <th>class</th>                <td>0.9566</td>   <td>0.0011</td>  <td>854.4979</td> <td>0.0000</td> <td>0.9544</td>  <td>0.9588</td> \n",
       "</tr>\n",
       "<tr>\n",
       "  <th>days_left_binned</th>     <td>0.9124</td>   <td>0.0040</td>  <td>228.4625</td> <td>0.0000</td> <td>0.9046</td>  <td>0.9203</td> \n",
       "</tr>\n",
       "<tr>\n",
       "  <th>duration_sqrt_scaled</th> <td>0.1774</td>   <td>0.0009</td>  <td>202.1697</td> <td>0.0000</td> <td>0.1757</td>  <td>0.1791</td> \n",
       "</tr>\n",
       "</table>\n",
       "<table class=\"simpletable\">\n",
       "<tr>\n",
       "     <td>Omnibus:</td>    <td>10479.711</td>  <td>Durbin-Watson:</td>     <td>2.006</td>  \n",
       "</tr>\n",
       "<tr>\n",
       "  <td>Prob(Omnibus):</td>   <td>0.000</td>   <td>Jarque-Bera (JB):</td> <td>31706.578</td>\n",
       "</tr>\n",
       "<tr>\n",
       "       <td>Skew:</td>      <td>-0.158</td>       <td>Prob(JB):</td>       <td>0.000</td>  \n",
       "</tr>\n",
       "<tr>\n",
       "     <td>Kurtosis:</td>     <td>4.760</td>    <td>Condition No.:</td>      <td>23</td>    \n",
       "</tr>\n",
       "</table><br/>\n",
       "Notes:<br/>\n",
       "[1] Standard Errors assume that the covariance matrix of the errors is correctly specified."
      ],
      "text/latex": [
       "\\begin{table}\n",
       "\\caption{Results: Ordinary least squares}\n",
       "\\label{}\n",
       "\\begin{center}\n",
       "\\begin{tabular}{llll}\n",
       "\\hline\n",
       "Model:              & OLS                   & Adj. R-squared:     & 0.825        \\\\\n",
       "Dependent Variable: & price\\_boxcox\\_scaled & AIC:                & 260416.4277  \\\\\n",
       "Date:               & 2024-02-29 10:59      & BIC:                & 260520.2288  \\\\\n",
       "No. Observations:   & 238021                & Log-Likelihood:     & -1.3020e+05  \\\\\n",
       "Df Model:           & 9                     & F-statistic:        & 1.247e+05    \\\\\n",
       "Df Residuals:       & 238011                & Prob (F-statistic): & 0.00         \\\\\n",
       "R-squared:          & 0.825                 & Scale:              & 0.17485      \\\\\n",
       "\\hline\n",
       "\\end{tabular}\n",
       "\\end{center}\n",
       "\n",
       "\\begin{center}\n",
       "\\begin{tabular}{lrrrrrr}\n",
       "\\hline\n",
       "                       &   Coef. & Std.Err. &        t & P$> |$t$|$ &  [0.025 &  0.975]  \\\\\n",
       "\\hline\n",
       "const                  &  0.0055 &   0.0009 &   6.4411 &      0.0000 &  0.0038 &  0.0072  \\\\\n",
       "airline                &  0.0226 &   0.0025 &   9.1905 &      0.0000 &  0.0177 &  0.0274  \\\\\n",
       "source\\_city           &  1.0292 &   0.0161 &  63.8065 &      0.0000 &  0.9976 &  1.0608  \\\\\n",
       "departure\\_time        & -0.0544 &   0.0138 &  -3.9513 &      0.0001 & -0.0814 & -0.0274  \\\\\n",
       "stops                  &  0.1581 &   0.0059 &  26.6271 &      0.0000 &  0.1464 &  0.1697  \\\\\n",
       "arrival\\_time          & -0.0027 &   0.0086 &  -0.3103 &      0.7563 & -0.0194 &  0.0141  \\\\\n",
       "destination\\_city      &  0.7667 &   0.0176 &  43.5654 &      0.0000 &  0.7322 &  0.8012  \\\\\n",
       "class                  &  0.9566 &   0.0011 & 854.4979 &      0.0000 &  0.9544 &  0.9588  \\\\\n",
       "days\\_left\\_binned     &  0.9124 &   0.0040 & 228.4625 &      0.0000 &  0.9046 &  0.9203  \\\\\n",
       "duration\\_sqrt\\_scaled &  0.1774 &   0.0009 & 202.1697 &      0.0000 &  0.1757 &  0.1791  \\\\\n",
       "\\hline\n",
       "\\end{tabular}\n",
       "\\end{center}\n",
       "\n",
       "\\begin{center}\n",
       "\\begin{tabular}{llll}\n",
       "\\hline\n",
       "Omnibus:       & 10479.711 & Durbin-Watson:    & 2.006      \\\\\n",
       "Prob(Omnibus): & 0.000     & Jarque-Bera (JB): & 31706.578  \\\\\n",
       "Skew:          & -0.158    & Prob(JB):         & 0.000      \\\\\n",
       "Kurtosis:      & 4.760     & Condition No.:    & 23         \\\\\n",
       "\\hline\n",
       "\\end{tabular}\n",
       "\\end{center}\n",
       "\\end{table}\n",
       "\\bigskip\n",
       "Notes: \\newline \n",
       "[1] Standard Errors assume that the covariance matrix of the errors is correctly specified."
      ],
      "text/plain": [
       "<class 'statsmodels.iolib.summary2.Summary'>\n",
       "\"\"\"\n",
       "                    Results: Ordinary least squares\n",
       "=======================================================================\n",
       "Model:              OLS                 Adj. R-squared:     0.825      \n",
       "Dependent Variable: price_boxcox_scaled AIC:                260416.4277\n",
       "Date:               2024-02-29 10:59    BIC:                260520.2288\n",
       "No. Observations:   238021              Log-Likelihood:     -1.3020e+05\n",
       "Df Model:           9                   F-statistic:        1.247e+05  \n",
       "Df Residuals:       238011              Prob (F-statistic): 0.00       \n",
       "R-squared:          0.825               Scale:              0.17485    \n",
       "-----------------------------------------------------------------------\n",
       "                        Coef.  Std.Err.    t     P>|t|   [0.025  0.975]\n",
       "-----------------------------------------------------------------------\n",
       "const                   0.0055   0.0009   6.4411 0.0000  0.0038  0.0072\n",
       "airline                 0.0226   0.0025   9.1905 0.0000  0.0177  0.0274\n",
       "source_city             1.0292   0.0161  63.8065 0.0000  0.9976  1.0608\n",
       "departure_time         -0.0544   0.0138  -3.9513 0.0001 -0.0814 -0.0274\n",
       "stops                   0.1581   0.0059  26.6271 0.0000  0.1464  0.1697\n",
       "arrival_time           -0.0027   0.0086  -0.3103 0.7563 -0.0194  0.0141\n",
       "destination_city        0.7667   0.0176  43.5654 0.0000  0.7322  0.8012\n",
       "class                   0.9566   0.0011 854.4979 0.0000  0.9544  0.9588\n",
       "days_left_binned        0.9124   0.0040 228.4625 0.0000  0.9046  0.9203\n",
       "duration_sqrt_scaled    0.1774   0.0009 202.1697 0.0000  0.1757  0.1791\n",
       "-----------------------------------------------------------------------\n",
       "Omnibus:              10479.711       Durbin-Watson:          2.006    \n",
       "Prob(Omnibus):        0.000           Jarque-Bera (JB):       31706.578\n",
       "Skew:                 -0.158          Prob(JB):               0.000    \n",
       "Kurtosis:             4.760           Condition No.:          23       \n",
       "=======================================================================\n",
       "Notes:\n",
       "[1] Standard Errors assume that the covariance matrix of the errors is\n",
       "correctly specified.\n",
       "\"\"\""
      ]
     },
     "execution_count": 21,
     "metadata": {},
     "output_type": "execute_result"
    }
   ],
   "source": [
    "ols_results.summary2()"
   ]
  },
  {
   "cell_type": "markdown",
   "id": "da513d3f",
   "metadata": {},
   "source": [
    "From here, we can determine that arrival_time is not significant. And we will remove it from the independent variables."
   ]
  },
  {
   "cell_type": "code",
   "execution_count": 22,
   "id": "eec3b535",
   "metadata": {},
   "outputs": [],
   "source": [
    "new_X_train = X_train[['airline', 'source_city', 'departure_time', 'stops',\n",
    "       'destination_city', 'class', 'days_left_binned','duration_sqrt_scaled']]\n",
    "new_X_test = X_test[['airline', 'source_city', 'departure_time', 'stops',\n",
    "       'destination_city', 'class', 'days_left_binned','duration_sqrt_scaled']]"
   ]
  },
  {
   "cell_type": "code",
   "execution_count": 23,
   "id": "f9fefb9e",
   "metadata": {},
   "outputs": [],
   "source": [
    "new_X_train_const = sm.add_constant(new_X_train)\n",
    "\n",
    "new_ols_model = sm.OLS(y_train, new_X_train_const)\n",
    "new_ols_results = new_ols_model.fit()"
   ]
  },
  {
   "cell_type": "code",
   "execution_count": 24,
   "id": "a0466211",
   "metadata": {},
   "outputs": [
    {
     "data": {
      "text/html": [
       "<table class=\"simpletable\">\n",
       "<tr>\n",
       "        <td>Model:</td>                <td>OLS</td>           <td>Adj. R-squared:</td>      <td>0.825</td>   \n",
       "</tr>\n",
       "<tr>\n",
       "  <td>Dependent Variable:</td> <td>price_boxcox_scaled</td>        <td>AIC:</td>         <td>260414.5240</td>\n",
       "</tr>\n",
       "<tr>\n",
       "         <td>Date:</td>         <td>2024-02-29 10:59</td>          <td>BIC:</td>         <td>260507.9450</td>\n",
       "</tr>\n",
       "<tr>\n",
       "   <td>No. Observations:</td>        <td>238021</td>          <td>Log-Likelihood:</td>   <td>-1.3020e+05</td>\n",
       "</tr>\n",
       "<tr>\n",
       "       <td>Df Model:</td>               <td>8</td>             <td>F-statistic:</td>      <td>1.402e+05</td> \n",
       "</tr>\n",
       "<tr>\n",
       "     <td>Df Residuals:</td>          <td>238012</td>        <td>Prob (F-statistic):</td>    <td>0.00</td>    \n",
       "</tr>\n",
       "<tr>\n",
       "      <td>R-squared:</td>             <td>0.825</td>              <td>Scale:</td>          <td>0.17485</td>  \n",
       "</tr>\n",
       "</table>\n",
       "<table class=\"simpletable\">\n",
       "<tr>\n",
       "            <td></td>            <th>Coef.</th>  <th>Std.Err.</th>     <th>t</th>     <th>P>|t|</th> <th>[0.025</th>  <th>0.975]</th> \n",
       "</tr>\n",
       "<tr>\n",
       "  <th>const</th>                <td>0.0055</td>   <td>0.0009</td>   <td>6.4455</td>  <td>0.0000</td> <td>0.0039</td>  <td>0.0072</td> \n",
       "</tr>\n",
       "<tr>\n",
       "  <th>airline</th>              <td>0.0224</td>   <td>0.0024</td>   <td>9.3785</td>  <td>0.0000</td> <td>0.0177</td>  <td>0.0270</td> \n",
       "</tr>\n",
       "<tr>\n",
       "  <th>source_city</th>          <td>1.0291</td>   <td>0.0161</td>   <td>63.8183</td> <td>0.0000</td> <td>0.9975</td>  <td>1.0607</td> \n",
       "</tr>\n",
       "<tr>\n",
       "  <th>departure_time</th>       <td>-0.0542</td>  <td>0.0138</td>   <td>-3.9419</td> <td>0.0001</td> <td>-0.0812</td> <td>-0.0273</td>\n",
       "</tr>\n",
       "<tr>\n",
       "  <th>stops</th>                <td>0.1581</td>   <td>0.0059</td>   <td>26.6292</td> <td>0.0000</td> <td>0.1465</td>  <td>0.1697</td> \n",
       "</tr>\n",
       "<tr>\n",
       "  <th>destination_city</th>     <td>0.7661</td>   <td>0.0175</td>   <td>43.7995</td> <td>0.0000</td> <td>0.7318</td>  <td>0.8003</td> \n",
       "</tr>\n",
       "<tr>\n",
       "  <th>class</th>                <td>0.9566</td>   <td>0.0011</td>  <td>854.5218</td> <td>0.0000</td> <td>0.9544</td>  <td>0.9588</td> \n",
       "</tr>\n",
       "<tr>\n",
       "  <th>days_left_binned</th>     <td>0.9124</td>   <td>0.0040</td>  <td>228.5482</td> <td>0.0000</td> <td>0.9046</td>  <td>0.9202</td> \n",
       "</tr>\n",
       "<tr>\n",
       "  <th>duration_sqrt_scaled</th> <td>0.1774</td>   <td>0.0009</td>  <td>202.1946</td> <td>0.0000</td> <td>0.1757</td>  <td>0.1791</td> \n",
       "</tr>\n",
       "</table>\n",
       "<table class=\"simpletable\">\n",
       "<tr>\n",
       "     <td>Omnibus:</td>    <td>10480.100</td>  <td>Durbin-Watson:</td>     <td>2.006</td>  \n",
       "</tr>\n",
       "<tr>\n",
       "  <td>Prob(Omnibus):</td>   <td>0.000</td>   <td>Jarque-Bera (JB):</td> <td>31706.330</td>\n",
       "</tr>\n",
       "<tr>\n",
       "       <td>Skew:</td>      <td>-0.158</td>       <td>Prob(JB):</td>       <td>0.000</td>  \n",
       "</tr>\n",
       "<tr>\n",
       "     <td>Kurtosis:</td>     <td>4.760</td>    <td>Condition No.:</td>      <td>22</td>    \n",
       "</tr>\n",
       "</table><br/>\n",
       "Notes:<br/>\n",
       "[1] Standard Errors assume that the covariance matrix of the errors is correctly specified."
      ],
      "text/latex": [
       "\\begin{table}\n",
       "\\caption{Results: Ordinary least squares}\n",
       "\\label{}\n",
       "\\begin{center}\n",
       "\\begin{tabular}{llll}\n",
       "\\hline\n",
       "Model:              & OLS                   & Adj. R-squared:     & 0.825        \\\\\n",
       "Dependent Variable: & price\\_boxcox\\_scaled & AIC:                & 260414.5240  \\\\\n",
       "Date:               & 2024-02-29 10:59      & BIC:                & 260507.9450  \\\\\n",
       "No. Observations:   & 238021                & Log-Likelihood:     & -1.3020e+05  \\\\\n",
       "Df Model:           & 8                     & F-statistic:        & 1.402e+05    \\\\\n",
       "Df Residuals:       & 238012                & Prob (F-statistic): & 0.00         \\\\\n",
       "R-squared:          & 0.825                 & Scale:              & 0.17485      \\\\\n",
       "\\hline\n",
       "\\end{tabular}\n",
       "\\end{center}\n",
       "\n",
       "\\begin{center}\n",
       "\\begin{tabular}{lrrrrrr}\n",
       "\\hline\n",
       "                       &   Coef. & Std.Err. &        t & P$> |$t$|$ &  [0.025 &  0.975]  \\\\\n",
       "\\hline\n",
       "const                  &  0.0055 &   0.0009 &   6.4455 &      0.0000 &  0.0039 &  0.0072  \\\\\n",
       "airline                &  0.0224 &   0.0024 &   9.3785 &      0.0000 &  0.0177 &  0.0270  \\\\\n",
       "source\\_city           &  1.0291 &   0.0161 &  63.8183 &      0.0000 &  0.9975 &  1.0607  \\\\\n",
       "departure\\_time        & -0.0542 &   0.0138 &  -3.9419 &      0.0001 & -0.0812 & -0.0273  \\\\\n",
       "stops                  &  0.1581 &   0.0059 &  26.6292 &      0.0000 &  0.1465 &  0.1697  \\\\\n",
       "destination\\_city      &  0.7661 &   0.0175 &  43.7995 &      0.0000 &  0.7318 &  0.8003  \\\\\n",
       "class                  &  0.9566 &   0.0011 & 854.5218 &      0.0000 &  0.9544 &  0.9588  \\\\\n",
       "days\\_left\\_binned     &  0.9124 &   0.0040 & 228.5482 &      0.0000 &  0.9046 &  0.9202  \\\\\n",
       "duration\\_sqrt\\_scaled &  0.1774 &   0.0009 & 202.1946 &      0.0000 &  0.1757 &  0.1791  \\\\\n",
       "\\hline\n",
       "\\end{tabular}\n",
       "\\end{center}\n",
       "\n",
       "\\begin{center}\n",
       "\\begin{tabular}{llll}\n",
       "\\hline\n",
       "Omnibus:       & 10480.100 & Durbin-Watson:    & 2.006      \\\\\n",
       "Prob(Omnibus): & 0.000     & Jarque-Bera (JB): & 31706.330  \\\\\n",
       "Skew:          & -0.158    & Prob(JB):         & 0.000      \\\\\n",
       "Kurtosis:      & 4.760     & Condition No.:    & 22         \\\\\n",
       "\\hline\n",
       "\\end{tabular}\n",
       "\\end{center}\n",
       "\\end{table}\n",
       "\\bigskip\n",
       "Notes: \\newline \n",
       "[1] Standard Errors assume that the covariance matrix of the errors is correctly specified."
      ],
      "text/plain": [
       "<class 'statsmodels.iolib.summary2.Summary'>\n",
       "\"\"\"\n",
       "                    Results: Ordinary least squares\n",
       "=======================================================================\n",
       "Model:              OLS                 Adj. R-squared:     0.825      \n",
       "Dependent Variable: price_boxcox_scaled AIC:                260414.5240\n",
       "Date:               2024-02-29 10:59    BIC:                260507.9450\n",
       "No. Observations:   238021              Log-Likelihood:     -1.3020e+05\n",
       "Df Model:           8                   F-statistic:        1.402e+05  \n",
       "Df Residuals:       238012              Prob (F-statistic): 0.00       \n",
       "R-squared:          0.825               Scale:              0.17485    \n",
       "-----------------------------------------------------------------------\n",
       "                        Coef.  Std.Err.    t     P>|t|   [0.025  0.975]\n",
       "-----------------------------------------------------------------------\n",
       "const                   0.0055   0.0009   6.4455 0.0000  0.0039  0.0072\n",
       "airline                 0.0224   0.0024   9.3785 0.0000  0.0177  0.0270\n",
       "source_city             1.0291   0.0161  63.8183 0.0000  0.9975  1.0607\n",
       "departure_time         -0.0542   0.0138  -3.9419 0.0001 -0.0812 -0.0273\n",
       "stops                   0.1581   0.0059  26.6292 0.0000  0.1465  0.1697\n",
       "destination_city        0.7661   0.0175  43.7995 0.0000  0.7318  0.8003\n",
       "class                   0.9566   0.0011 854.5218 0.0000  0.9544  0.9588\n",
       "days_left_binned        0.9124   0.0040 228.5482 0.0000  0.9046  0.9202\n",
       "duration_sqrt_scaled    0.1774   0.0009 202.1946 0.0000  0.1757  0.1791\n",
       "-----------------------------------------------------------------------\n",
       "Omnibus:              10480.100       Durbin-Watson:          2.006    \n",
       "Prob(Omnibus):        0.000           Jarque-Bera (JB):       31706.330\n",
       "Skew:                 -0.158          Prob(JB):               0.000    \n",
       "Kurtosis:             4.760           Condition No.:          22       \n",
       "=======================================================================\n",
       "Notes:\n",
       "[1] Standard Errors assume that the covariance matrix of the errors is\n",
       "correctly specified.\n",
       "\"\"\""
      ]
     },
     "execution_count": 24,
     "metadata": {},
     "output_type": "execute_result"
    }
   ],
   "source": [
    "new_ols_results.summary2()"
   ]
  },
  {
   "cell_type": "markdown",
   "id": "41451c7f",
   "metadata": {},
   "source": [
    "No visible improvement in R2 or Adj. R2 Scores. However, they are still quite high, and are identical. Implying that there is no substantial overfitting from the independent variables used."
   ]
  },
  {
   "cell_type": "markdown",
   "id": "d6ac722b",
   "metadata": {},
   "source": [
    "### Variance Inflation Factor:"
   ]
  },
  {
   "cell_type": "code",
   "execution_count": 25,
   "id": "f9d656d0",
   "metadata": {},
   "outputs": [
    {
     "name": "stdout",
     "output_type": "stream",
     "text": [
      "VIF for airline: 1.2699\n",
      "VIF for source_city: 1.0543\n",
      "VIF for departure_time: 1.0158\n",
      "VIF for stops: 1.0294\n",
      "VIF for destination_city: 1.0544\n",
      "VIF for class: 1.2733\n",
      "VIF for days_left_binned: 1.0022\n",
      "VIF for duration_sqrt_scaled: 1.045\n"
     ]
    }
   ],
   "source": [
    "new_X_range = len(new_X_train_const.columns)\n",
    "\n",
    "for i in range(1, new_X_range):\n",
    "    v = vif(new_X_train_const.values, i)\n",
    "    print(\"VIF for {}: {}\".format(new_X_train_const.columns[i], round(v, 4)))"
   ]
  },
  {
   "cell_type": "markdown",
   "id": "21efca94",
   "metadata": {},
   "source": [
    "All independent variables' VIF are small, and below 10. Thus, there is no multicolinearity among them."
   ]
  },
  {
   "cell_type": "markdown",
   "id": "918ea7eb",
   "metadata": {},
   "source": [
    "### SVR Modelling"
   ]
  },
  {
   "cell_type": "markdown",
   "id": "ba3b7b36",
   "metadata": {},
   "source": [
    "Training the model with pre-determined parameters."
   ]
  },
  {
   "cell_type": "code",
   "execution_count": 26,
   "id": "80cddd2f",
   "metadata": {},
   "outputs": [],
   "source": [
    "svr_rbf = SVR(kernel='rbf', C=100, gamma=0.1, epsilon=.1)"
   ]
  },
  {
   "cell_type": "markdown",
   "id": "3d0ec380",
   "metadata": {},
   "source": [
    "Estimated run time for model fitting: 100-130 mins."
   ]
  },
  {
   "cell_type": "code",
   "execution_count": 27,
   "id": "796e6ae5",
   "metadata": {},
   "outputs": [],
   "source": [
    "svr_rbf.fit(new_X_train, y_train)\n",
    "    \n",
    "y_pred = svr_rbf.predict(new_X_test)"
   ]
  },
  {
   "cell_type": "code",
   "execution_count": 30,
   "id": "a37237a2",
   "metadata": {},
   "outputs": [],
   "source": [
    "mae = mean_absolute_error(y_test, y_pred)\n",
    "mse = mean_squared_error(y_test, y_pred)\n",
    "rmse = np.sqrt(mse)\n",
    "r2 = r2_score(y_test, y_pred)"
   ]
  },
  {
   "cell_type": "code",
   "execution_count": 31,
   "id": "945d0e87",
   "metadata": {},
   "outputs": [
    {
     "name": "stdout",
     "output_type": "stream",
     "text": [
      "Mean Absolute Error: 0.24251893199215085\n",
      "Mean Squared Error: 0.13413369675532666\n",
      "Root Meam Squared Error: 0.3662426746780428\n",
      "R2 Score: 0.8659482932966688\n"
     ]
    }
   ],
   "source": [
    "print(\"Mean Absolute Error: \" + str(mae))\n",
    "print(\"Mean Squared Error: \" + str(mse))\n",
    "print(\"Root Mean Squared Error: \" + str(rmse))\n",
    "print(\"R2 Score: \" + str(r2))"
   ]
  },
  {
   "cell_type": "markdown",
   "id": "5691a169",
   "metadata": {},
   "source": [
    "Inferences: <br>\n",
    "<ul>\n",
    "    <li>The current model explains about 86.63% of the variance in the dependent variable price_boxcox_scaled. (R2)</li>\n",
    "    <li>The model's predictions are 0.2435 units from the actual values on average. (MAE)</li>\n",
    "    <li>The average of the squares of the errors between the predicted and actual values is about 0.1337 units.</li>\n",
    "    <li>The intepretable, actual average of the errors between the predicted and actual values is about 0.3657 units.</li>\n",
    "</ul>"
   ]
  },
  {
   "cell_type": "markdown",
   "id": "3c875302",
   "metadata": {},
   "source": [
    "Reinforcing the values with the Mean Absolute Percentage Error:"
   ]
  },
  {
   "cell_type": "code",
   "execution_count": null,
   "id": "0c653366",
   "metadata": {},
   "outputs": [],
   "source": [
    "mape = mean_absolute_percentage_error(y_test, y_pred)\n",
    "print(\"Mean Absolute Percentage Error: \" + str(mape))"
   ]
  },
  {
   "cell_type": "markdown",
   "id": "92d154c0",
   "metadata": {},
   "source": [
    "For comparison, we fit the model with the inclusion of the insignificant independent variable removed earlier."
   ]
  },
  {
   "cell_type": "code",
   "execution_count": null,
   "id": "1dc0ccb8",
   "metadata": {},
   "outputs": [],
   "source": [
    "svr_rbf.fit(X_train, y_train)\n",
    "    \n",
    "old_y_pred = svr_rbf.predict(X_test)"
   ]
  },
  {
   "cell_type": "code",
   "execution_count": null,
   "id": "60b20976",
   "metadata": {},
   "outputs": [],
   "source": [
    "old_mae = mean_absolute_error(y_test, old_y_pred)\n",
    "old_mse = mean_squared_error(y_test, old_y_pred)\n",
    "old_rmse = np.sqrt(mse)\n",
    "old_r2 = r2_score(y_test, old_y_pred)"
   ]
  },
  {
   "cell_type": "code",
   "execution_count": null,
   "id": "0097645f",
   "metadata": {},
   "outputs": [
    {
     "name": "stdout",
     "output_type": "stream",
     "text": [
      "Mean Absolute Error: 0.2434806249370293\n",
      "Mean Squared Error: 0.13371570839006203\n",
      "Root Meam Squared Error: 0.3656715854288682\n",
      "R2 Score: 0.866260291096647\n"
     ]
    }
   ],
   "source": [
    "print(\"Mean Absolute Error: \" + str(old_mae))\n",
    "print(\"Mean Squared Error: \" + str(old_mse))\n",
    "print(\"Root Mean Squared Error: \" + str(old_rmse))\n",
    "print(\"R2 Score: \" + str(old_r2))"
   ]
  },
  {
   "cell_type": "markdown",
   "id": "f2add99c",
   "metadata": {},
   "source": [
    "Compared to the optimized feature selection iteration, the older version is only slightly worse with a barely noticable difference."
   ]
  },
  {
   "cell_type": "markdown",
   "id": "4b0e6b37",
   "metadata": {},
   "source": [
    "<i>Since this is regression, would I need to prove any assumptions for the function generated from the model. E.g.: Linear Regression's linearity, equal variance, independence & normal assumptions.</i>"
   ]
  },
  {
   "cell_type": "markdown",
   "id": "e09ae0c6",
   "metadata": {},
   "source": [
    "### Function Parameter Extraction"
   ]
  },
  {
   "cell_type": "code",
   "execution_count": 32,
   "id": "f9fccdbf",
   "metadata": {},
   "outputs": [],
   "source": [
    "# Extract support vectors\n",
    "support_vectors = svr_rbf.support_vectors_\n",
    "\n",
    "# Extract dual coefficients (Lagrange multipliers)\n",
    "dual_coef = svr_rbf.dual_coef_\n",
    "\n",
    "# Extract intercept\n",
    "intercept = svr_rbf.intercept_\n",
    "\n",
    "# Extract kernel parameters\n",
    "kernel_params = svr_rbf.get_params()"
   ]
  },
  {
   "cell_type": "code",
   "execution_count": 34,
   "id": "87fe58c3",
   "metadata": {},
   "outputs": [
    {
     "name": "stdout",
     "output_type": "stream",
     "text": [
      "Support Vectors: [[ 1.96030109e-01  1.08809170e-03  2.66563465e-02 ... -5.77808533e-01\n",
      "   3.41153712e-01 -9.32645169e-01]\n",
      " [-5.80606895e-01 -3.76553557e-02 -9.12784604e-02 ... -5.77808533e-01\n",
      "  -1.40010249e-01  2.67524804e-01]\n",
      " [ 3.09109372e-01  2.01016521e-02  2.66563465e-02 ...  1.29438733e+00\n",
      "  -1.40010249e-01  6.18090083e-01]\n",
      " ...\n",
      " [-5.80606895e-01 -3.76553557e-02 -2.65159973e-02 ... -5.77808533e-01\n",
      "  -1.71592752e-01 -9.83684160e-01]\n",
      " [ 3.09109372e-01 -6.80173865e-02 -9.12784604e-02 ...  1.29438733e+00\n",
      "  -4.65249132e-02  3.12892629e-02]\n",
      " [-5.80606895e-01  1.05036766e-01  5.01235685e-03 ... -5.77808533e-01\n",
      "  -1.71592752e-01 -7.55611008e-02]]\n",
      "Dual Coefficients: [[-100.  100.  100. ...  100. -100. -100.]]\n",
      "Intercept: 9.075440402938002\n",
      "Kernel Parameters: {'C': 100, 'cache_size': 200, 'coef0': 0.0, 'degree': 3, 'epsilon': 0.1, 'gamma': 0.1, 'kernel': 'rbf', 'max_iter': -1, 'shrinking': True, 'tol': 0.001, 'verbose': False}\n"
     ]
    }
   ],
   "source": [
    "print(\"Support Vectors:\", support_vectors)\n",
    "print(\"Dual Coefficients:\", dual_coef)\n",
    "print(\"Intercept:\", intercept[0])\n",
    "print(\"Kernel Parameters:\", kernel_params)"
   ]
  },
  {
   "cell_type": "markdown",
   "id": "b3ee8040",
   "metadata": {},
   "source": [
    "From the results, we can idenfity that the intercept is 9.075440402938002. <br>\n",
    "The kernel parameters used are as such:\n",
    "<ul>\n",
    "    <li>C (Hyperparameter): 100</li>\n",
    "    <li>Cache Size: 200</li>\n",
    "    <li>Coefficient 0: 0</li>\n",
    "    <li>Degree: 3</li>\n",
    "    <li>Epsilon size: 0.1</li>\n",
    "    <li>Gamma: 0.1</li>\n",
    "    <li>Kernel used: Radial Basis Function (RBF)</li>\n",
    "    <li>Maximum iterations: -1</li>\n",
    "    <li>Shrinking: True</li>\n",
    "    <li>Tolerance for convergence (tol): 0.001</li>\n",
    "    <li>Verbose: False</li>\n",
    "</ul>"
   ]
  },
  {
   "cell_type": "code",
   "execution_count": 69,
   "id": "c1553fe0",
   "metadata": {},
   "outputs": [],
   "source": [
    "support_vectors_df = pd.DataFrame(support_vectors, columns=['sv_airline', 'sv_source_city', 'sv_departure_time', 'sv_stops',\n",
    "                                                            'sv_destination_city', 'sv_class', 'sv_days_left_binned',\n",
    "                                                            'sv_duration_sqrt_scaled'])\n",
    "\n",
    "dual_coef_df = pd.DataFrame({'dual_coef': dual_coef[0]})\n",
    "\n",
    "svr_measurements = pd.concat([support_vectors_df, dual_coef_df], axis=1)"
   ]
  },
  {
   "cell_type": "code",
   "execution_count": 72,
   "id": "2fd17d67",
   "metadata": {},
   "outputs": [
    {
     "data": {
      "text/html": [
       "<div>\n",
       "<style scoped>\n",
       "    .dataframe tbody tr th:only-of-type {\n",
       "        vertical-align: middle;\n",
       "    }\n",
       "\n",
       "    .dataframe tbody tr th {\n",
       "        vertical-align: top;\n",
       "    }\n",
       "\n",
       "    .dataframe thead th {\n",
       "        text-align: right;\n",
       "    }\n",
       "</style>\n",
       "<table border=\"1\" class=\"dataframe\">\n",
       "  <thead>\n",
       "    <tr style=\"text-align: right;\">\n",
       "      <th></th>\n",
       "      <th>sv_airline</th>\n",
       "      <th>sv_source_city</th>\n",
       "      <th>sv_departure_time</th>\n",
       "      <th>sv_stops</th>\n",
       "      <th>sv_destination_city</th>\n",
       "      <th>sv_class</th>\n",
       "      <th>sv_days_left_binned</th>\n",
       "      <th>sv_duration_sqrt_scaled</th>\n",
       "      <th>dual_coef</th>\n",
       "    </tr>\n",
       "  </thead>\n",
       "  <tbody>\n",
       "    <tr>\n",
       "      <th>0</th>\n",
       "      <td>0.196030</td>\n",
       "      <td>0.001088</td>\n",
       "      <td>0.026656</td>\n",
       "      <td>0.061277</td>\n",
       "      <td>0.073433</td>\n",
       "      <td>-0.577809</td>\n",
       "      <td>0.341154</td>\n",
       "      <td>-0.932645</td>\n",
       "      <td>-100.0</td>\n",
       "    </tr>\n",
       "    <tr>\n",
       "      <th>1</th>\n",
       "      <td>-0.580607</td>\n",
       "      <td>-0.037655</td>\n",
       "      <td>-0.091278</td>\n",
       "      <td>-0.273630</td>\n",
       "      <td>-0.078687</td>\n",
       "      <td>-0.577809</td>\n",
       "      <td>-0.140010</td>\n",
       "      <td>0.267525</td>\n",
       "      <td>100.0</td>\n",
       "    </tr>\n",
       "    <tr>\n",
       "      <th>2</th>\n",
       "      <td>0.309109</td>\n",
       "      <td>0.020102</td>\n",
       "      <td>0.026656</td>\n",
       "      <td>0.061277</td>\n",
       "      <td>0.009063</td>\n",
       "      <td>1.294387</td>\n",
       "      <td>-0.140010</td>\n",
       "      <td>0.618090</td>\n",
       "      <td>100.0</td>\n",
       "    </tr>\n",
       "    <tr>\n",
       "      <th>3</th>\n",
       "      <td>0.309109</td>\n",
       "      <td>-0.021865</td>\n",
       "      <td>0.086165</td>\n",
       "      <td>0.061277</td>\n",
       "      <td>0.025301</td>\n",
       "      <td>-0.577809</td>\n",
       "      <td>-0.171593</td>\n",
       "      <td>-2.103655</td>\n",
       "      <td>-100.0</td>\n",
       "    </tr>\n",
       "    <tr>\n",
       "      <th>4</th>\n",
       "      <td>-0.713457</td>\n",
       "      <td>-0.068017</td>\n",
       "      <td>-0.026516</td>\n",
       "      <td>0.061277</td>\n",
       "      <td>0.025301</td>\n",
       "      <td>-0.577809</td>\n",
       "      <td>-0.140010</td>\n",
       "      <td>-0.434495</td>\n",
       "      <td>-100.0</td>\n",
       "    </tr>\n",
       "  </tbody>\n",
       "</table>\n",
       "</div>"
      ],
      "text/plain": [
       "   sv_airline  sv_source_city  sv_departure_time  sv_stops  \\\n",
       "0    0.196030        0.001088           0.026656  0.061277   \n",
       "1   -0.580607       -0.037655          -0.091278 -0.273630   \n",
       "2    0.309109        0.020102           0.026656  0.061277   \n",
       "3    0.309109       -0.021865           0.086165  0.061277   \n",
       "4   -0.713457       -0.068017          -0.026516  0.061277   \n",
       "\n",
       "   sv_destination_city  sv_class  sv_days_left_binned  \\\n",
       "0             0.073433 -0.577809             0.341154   \n",
       "1            -0.078687 -0.577809            -0.140010   \n",
       "2             0.009063  1.294387            -0.140010   \n",
       "3             0.025301 -0.577809            -0.171593   \n",
       "4             0.025301 -0.577809            -0.140010   \n",
       "\n",
       "   sv_duration_sqrt_scaled  dual_coef  \n",
       "0                -0.932645     -100.0  \n",
       "1                 0.267525      100.0  \n",
       "2                 0.618090      100.0  \n",
       "3                -2.103655     -100.0  \n",
       "4                -0.434495     -100.0  "
      ]
     },
     "execution_count": 72,
     "metadata": {},
     "output_type": "execute_result"
    }
   ],
   "source": [
    "svr_measurements.head()"
   ]
  },
  {
   "cell_type": "markdown",
   "id": "89303087",
   "metadata": {},
   "source": [
    "### Predictor"
   ]
  },
  {
   "cell_type": "code",
   "execution_count": 2,
   "id": "5eb3bc94",
   "metadata": {},
   "outputs": [
    {
     "data": {
      "text/html": [
       "<div>\n",
       "<style scoped>\n",
       "    .dataframe tbody tr th:only-of-type {\n",
       "        vertical-align: middle;\n",
       "    }\n",
       "\n",
       "    .dataframe tbody tr th {\n",
       "        vertical-align: top;\n",
       "    }\n",
       "\n",
       "    .dataframe thead th {\n",
       "        text-align: right;\n",
       "    }\n",
       "</style>\n",
       "<table border=\"1\" class=\"dataframe\">\n",
       "  <thead>\n",
       "    <tr style=\"text-align: right;\">\n",
       "      <th></th>\n",
       "      <th>sv_airline</th>\n",
       "      <th>sv_source_city</th>\n",
       "      <th>sv_departure_time</th>\n",
       "      <th>sv_stops</th>\n",
       "      <th>sv_destination_city</th>\n",
       "      <th>sv_class</th>\n",
       "      <th>sv_days_left_binned</th>\n",
       "      <th>sv_duration_sqrt_scaled</th>\n",
       "      <th>dual_coef</th>\n",
       "    </tr>\n",
       "  </thead>\n",
       "  <tbody>\n",
       "    <tr>\n",
       "      <th>0</th>\n",
       "      <td>0.196030</td>\n",
       "      <td>0.001088</td>\n",
       "      <td>0.026656</td>\n",
       "      <td>0.061277</td>\n",
       "      <td>0.073433</td>\n",
       "      <td>-0.577809</td>\n",
       "      <td>0.341154</td>\n",
       "      <td>-0.932645</td>\n",
       "      <td>-100.0</td>\n",
       "    </tr>\n",
       "    <tr>\n",
       "      <th>1</th>\n",
       "      <td>-0.580607</td>\n",
       "      <td>-0.037655</td>\n",
       "      <td>-0.091278</td>\n",
       "      <td>-0.273630</td>\n",
       "      <td>-0.078687</td>\n",
       "      <td>-0.577809</td>\n",
       "      <td>-0.140010</td>\n",
       "      <td>0.267525</td>\n",
       "      <td>100.0</td>\n",
       "    </tr>\n",
       "    <tr>\n",
       "      <th>2</th>\n",
       "      <td>0.309109</td>\n",
       "      <td>0.020102</td>\n",
       "      <td>0.026656</td>\n",
       "      <td>0.061277</td>\n",
       "      <td>0.009063</td>\n",
       "      <td>1.294387</td>\n",
       "      <td>-0.140010</td>\n",
       "      <td>0.618090</td>\n",
       "      <td>100.0</td>\n",
       "    </tr>\n",
       "    <tr>\n",
       "      <th>3</th>\n",
       "      <td>0.309109</td>\n",
       "      <td>-0.021865</td>\n",
       "      <td>0.086165</td>\n",
       "      <td>0.061277</td>\n",
       "      <td>0.025301</td>\n",
       "      <td>-0.577809</td>\n",
       "      <td>-0.171593</td>\n",
       "      <td>-2.103655</td>\n",
       "      <td>-100.0</td>\n",
       "    </tr>\n",
       "    <tr>\n",
       "      <th>4</th>\n",
       "      <td>-0.713457</td>\n",
       "      <td>-0.068017</td>\n",
       "      <td>-0.026516</td>\n",
       "      <td>0.061277</td>\n",
       "      <td>0.025301</td>\n",
       "      <td>-0.577809</td>\n",
       "      <td>-0.140010</td>\n",
       "      <td>-0.434495</td>\n",
       "      <td>-100.0</td>\n",
       "    </tr>\n",
       "  </tbody>\n",
       "</table>\n",
       "</div>"
      ],
      "text/plain": [
       "   sv_airline  sv_source_city  sv_departure_time  sv_stops  \\\n",
       "0    0.196030        0.001088           0.026656  0.061277   \n",
       "1   -0.580607       -0.037655          -0.091278 -0.273630   \n",
       "2    0.309109        0.020102           0.026656  0.061277   \n",
       "3    0.309109       -0.021865           0.086165  0.061277   \n",
       "4   -0.713457       -0.068017          -0.026516  0.061277   \n",
       "\n",
       "   sv_destination_city  sv_class  sv_days_left_binned  \\\n",
       "0             0.073433 -0.577809             0.341154   \n",
       "1            -0.078687 -0.577809            -0.140010   \n",
       "2             0.009063  1.294387            -0.140010   \n",
       "3             0.025301 -0.577809            -0.171593   \n",
       "4             0.025301 -0.577809            -0.140010   \n",
       "\n",
       "   sv_duration_sqrt_scaled  dual_coef  \n",
       "0                -0.932645     -100.0  \n",
       "1                 0.267525      100.0  \n",
       "2                 0.618090      100.0  \n",
       "3                -2.103655     -100.0  \n",
       "4                -0.434495     -100.0  "
      ]
     },
     "execution_count": 2,
     "metadata": {},
     "output_type": "execute_result"
    }
   ],
   "source": [
    "measurements_dataset = pd.read_csv(\"../data/svr_results/svr_measurements.csv\", index_col=0)\n",
    "measurements_df = pd.DataFrame(measurements_dataset)\n",
    "measurements_df.head()"
   ]
  },
  {
   "cell_type": "code",
   "execution_count": 6,
   "id": "a6bca478",
   "metadata": {},
   "outputs": [],
   "source": [
    "sv = measurements_df.iloc[:,:8]\n",
    "dc = measurements_df[['dual_coef']]"
   ]
  },
  {
   "cell_type": "code",
   "execution_count": 75,
   "id": "a66afa26",
   "metadata": {},
   "outputs": [],
   "source": [
    "svr_measurements.to_csv(\"../data/svr_results/svr_measurements.csv\")"
   ]
  },
  {
   "cell_type": "code",
   "execution_count": 10,
   "id": "7f01ba30",
   "metadata": {},
   "outputs": [],
   "source": [
    "def svr_predictor(x):\n",
    "    # Initialize predicted values\n",
    "    y_pred = 0\n",
    "    \n",
    "    # Compute the contribution of each support vector to the prediction\n",
    "    for i in range(measurements_df.shape[0]):\n",
    "        # Compute the kernel function between the input x and the ith support vector\n",
    "        kernel_value = kernel_function(x, sv.loc[i])\n",
    "        \n",
    "        # Multiply the kernel value by the dual coefficient and add it to the prediction\n",
    "        y_pred += measurements_df.loc[i] * kernel_value\n",
    "    \n",
    "    # Add the intercept term to the prediction\n",
    "    y_pred += intercept\n",
    "    \n",
    "    return y_pred\n",
    "\n",
    "def kernel_function(x1, x2):\n",
    "    # Example: Radial Basis Function (RBF) kernel\n",
    "    gamma = 0.1  # Example gamma parameter\n",
    "    return np.exp(-gamma * np.linalg.norm(x1 - x2)**2)"
   ]
  },
  {
   "cell_type": "code",
   "execution_count": null,
   "id": "a1c54f5d",
   "metadata": {},
   "outputs": [],
   "source": [
    "X_input = [0.196030, 0.001088, 0.026656, 0.061277, 0.073433, -0.577809, 0.341154, -0.932645]\n",
    "y_output = svr_predictor(X_input)\n",
    "print(\"Predicted price: \", y_output)"
   ]
  },
  {
   "cell_type": "markdown",
   "id": "55c29008",
   "metadata": {},
   "source": [
    "<i>Still a work in progress</i>"
   ]
  }
 ],
 "metadata": {
  "kernelspec": {
   "display_name": "base",
   "language": "python",
   "name": "python3"
  },
  "language_info": {
   "codemirror_mode": {
    "name": "ipython",
    "version": 3
   },
   "file_extension": ".py",
   "mimetype": "text/x-python",
   "name": "python",
   "nbconvert_exporter": "python",
   "pygments_lexer": "ipython3",
   "version": "3.11.4"
  }
 },
 "nbformat": 4,
 "nbformat_minor": 5
}
