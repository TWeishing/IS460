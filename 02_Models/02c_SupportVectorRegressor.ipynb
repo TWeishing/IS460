{
 "cells": [
  {
   "cell_type": "markdown",
   "id": "8a06fa60",
   "metadata": {},
   "source": [
    "# Support Vector Regression"
   ]
  },
  {
   "cell_type": "markdown",
   "id": "2f8fb153",
   "metadata": {},
   "source": [
    "### Imports"
   ]
  },
  {
   "cell_type": "code",
   "execution_count": 1,
   "id": "d55fb906",
   "metadata": {},
   "outputs": [],
   "source": [
    "import pandas as pd\n",
    "import seaborn as sns\n",
    "import numpy as np\n",
    "import matplotlib.pyplot as plt\n",
    "from sklearn.svm import SVR\n",
    "from sklearn.model_selection import train_test_split, GridSearchCV\n",
    "from sklearn.metrics import mean_absolute_error, mean_absolute_percentage_error, mean_squared_error, r2_score\n",
    "from sklearn.decomposition import PCA\n",
    "import statsmodels.api as sm\n",
    "from statsmodels.stats.outliers_influence import variance_inflation_factor as vif\n",
    "from multiprocessing import Pool\n",
    "\n",
    "df1 = pd.read_csv(\"../data/df_prepared.csv\", index_col=0)"
   ]
  },
  {
   "cell_type": "code",
   "execution_count": 2,
   "id": "2ce2d4dd",
   "metadata": {},
   "outputs": [
    {
     "data": {
      "text/html": [
       "<div>\n",
       "<style scoped>\n",
       "    .dataframe tbody tr th:only-of-type {\n",
       "        vertical-align: middle;\n",
       "    }\n",
       "\n",
       "    .dataframe tbody tr th {\n",
       "        vertical-align: top;\n",
       "    }\n",
       "\n",
       "    .dataframe thead th {\n",
       "        text-align: right;\n",
       "    }\n",
       "</style>\n",
       "<table border=\"1\" class=\"dataframe\">\n",
       "  <thead>\n",
       "    <tr style=\"text-align: right;\">\n",
       "      <th></th>\n",
       "      <th>airline</th>\n",
       "      <th>source_city</th>\n",
       "      <th>departure_time</th>\n",
       "      <th>stops</th>\n",
       "      <th>arrival_time</th>\n",
       "      <th>destination_city</th>\n",
       "      <th>class</th>\n",
       "      <th>days_left_binned</th>\n",
       "      <th>duration_sqrt</th>\n",
       "      <th>price</th>\n",
       "    </tr>\n",
       "  </thead>\n",
       "  <tbody>\n",
       "    <tr>\n",
       "      <th>0</th>\n",
       "      <td>-1.368800</td>\n",
       "      <td>-1.732372</td>\n",
       "      <td>0.198274</td>\n",
       "      <td>-2.4911</td>\n",
       "      <td>0.236474</td>\n",
       "      <td>0.37094</td>\n",
       "      <td>-0.674351</td>\n",
       "      <td>2.375914</td>\n",
       "      <td>-1.742522</td>\n",
       "      <td>5953.0</td>\n",
       "    </tr>\n",
       "    <tr>\n",
       "      <th>1</th>\n",
       "      <td>-1.368800</td>\n",
       "      <td>-1.732372</td>\n",
       "      <td>-0.298600</td>\n",
       "      <td>-2.4911</td>\n",
       "      <td>0.445839</td>\n",
       "      <td>0.37094</td>\n",
       "      <td>-0.674351</td>\n",
       "      <td>2.375914</td>\n",
       "      <td>-1.691940</td>\n",
       "      <td>5953.0</td>\n",
       "    </tr>\n",
       "    <tr>\n",
       "      <th>2</th>\n",
       "      <td>-1.562898</td>\n",
       "      <td>-1.732372</td>\n",
       "      <td>-0.298600</td>\n",
       "      <td>-2.4911</td>\n",
       "      <td>-2.002790</td>\n",
       "      <td>0.37094</td>\n",
       "      <td>-0.674351</td>\n",
       "      <td>2.375914</td>\n",
       "      <td>-1.742522</td>\n",
       "      <td>5956.0</td>\n",
       "    </tr>\n",
       "    <tr>\n",
       "      <th>3</th>\n",
       "      <td>0.885018</td>\n",
       "      <td>-1.732372</td>\n",
       "      <td>0.469739</td>\n",
       "      <td>-2.4911</td>\n",
       "      <td>-0.820969</td>\n",
       "      <td>0.37094</td>\n",
       "      <td>-0.674351</td>\n",
       "      <td>2.375914</td>\n",
       "      <td>-1.717006</td>\n",
       "      <td>5955.0</td>\n",
       "    </tr>\n",
       "    <tr>\n",
       "      <th>4</th>\n",
       "      <td>0.885018</td>\n",
       "      <td>-1.732372</td>\n",
       "      <td>0.469739</td>\n",
       "      <td>-2.4911</td>\n",
       "      <td>0.445839</td>\n",
       "      <td>0.37094</td>\n",
       "      <td>-0.674351</td>\n",
       "      <td>2.375914</td>\n",
       "      <td>-1.691940</td>\n",
       "      <td>5955.0</td>\n",
       "    </tr>\n",
       "  </tbody>\n",
       "</table>\n",
       "</div>"
      ],
      "text/plain": [
       "    airline  source_city  departure_time   stops  arrival_time  \\\n",
       "0 -1.368800    -1.732372        0.198274 -2.4911      0.236474   \n",
       "1 -1.368800    -1.732372       -0.298600 -2.4911      0.445839   \n",
       "2 -1.562898    -1.732372       -0.298600 -2.4911     -2.002790   \n",
       "3  0.885018    -1.732372        0.469739 -2.4911     -0.820969   \n",
       "4  0.885018    -1.732372        0.469739 -2.4911      0.445839   \n",
       "\n",
       "   destination_city     class  days_left_binned  duration_sqrt   price  \n",
       "0           0.37094 -0.674351          2.375914      -1.742522  5953.0  \n",
       "1           0.37094 -0.674351          2.375914      -1.691940  5953.0  \n",
       "2           0.37094 -0.674351          2.375914      -1.742522  5956.0  \n",
       "3           0.37094 -0.674351          2.375914      -1.717006  5955.0  \n",
       "4           0.37094 -0.674351          2.375914      -1.691940  5955.0  "
      ]
     },
     "execution_count": 2,
     "metadata": {},
     "output_type": "execute_result"
    }
   ],
   "source": [
    "df1.head()"
   ]
  },
  {
   "cell_type": "markdown",
   "id": "229b8d85",
   "metadata": {},
   "source": [
    "### Identifying Correlation"
   ]
  },
  {
   "cell_type": "markdown",
   "id": "83f9edb2",
   "metadata": {},
   "source": [
    "Determining the correlation between features to identify the most correlated one across the board as the dependent variable."
   ]
  },
  {
   "cell_type": "code",
   "execution_count": 3,
   "id": "1c7cbe4e",
   "metadata": {},
   "outputs": [
    {
     "data": {
      "image/png": "[encoded data removed]",
      "text/plain": [
       "<Figure size 800x600 with 2 Axes>"
      ]
     },
     "metadata": {},
     "output_type": "display_data"
    }
   ],
   "source": [
    "correlation_matrix = df1.corr()\n",
    "\n",
    "# Plotting the heatmap\n",
    "plt.figure(figsize=(8, 6))\n",
    "sns.heatmap(correlation_matrix, annot=True, fmt=\".2f\")\n",
    "plt.title('Correlation Matrix of Features')\n",
    "plt.show()"
   ]
  },
  {
   "cell_type": "markdown",
   "id": "2ec3f0bb",
   "metadata": {},
   "source": [
    "From the graph, we can determine that price_boxcox_scaled is the most correlated with other variables. Thus, it will be used as the dependent variable."
   ]
  },
  {
   "cell_type": "markdown",
   "id": "56728f6b",
   "metadata": {},
   "source": [
    "### Train Test Split"
   ]
  },
  {
   "cell_type": "code",
   "execution_count": 4,
   "id": "49097578",
   "metadata": {},
   "outputs": [],
   "source": [
    "X = df1[['airline', 'source_city', 'departure_time', 'stops', 'arrival_time', 'destination_city', 'class', 'days_left_binned', 'duration_sqrt']]\n",
    "y = df1['price']"
   ]
  },
  {
   "cell_type": "markdown",
   "id": "9eefebee",
   "metadata": {},
   "source": [
    "We will divide the dataset into Train:Test ratio of 0.8:0.2."
   ]
  },
  {
   "cell_type": "code",
   "execution_count": 5,
   "id": "f156d880",
   "metadata": {},
   "outputs": [],
   "source": [
    "X_train, X_test, y_train, y_test = train_test_split(X, y, test_size=0.2)"
   ]
  },
  {
   "cell_type": "markdown",
   "id": "ebcb85be",
   "metadata": {},
   "source": [
    "<i>Question: Should I include validation set?</i>"
   ]
  },
  {
   "cell_type": "markdown",
   "id": "3797aab8",
   "metadata": {},
   "source": [
    "### Regularization *"
   ]
  },
  {
   "cell_type": "markdown",
   "id": "8db196cc",
   "metadata": {},
   "source": [
    "<i>Question: Do I need to regularise the data? Or has it already been done so in pre-processing stages?</i>"
   ]
  },
  {
   "cell_type": "markdown",
   "id": "5e4b23b8",
   "metadata": {},
   "source": [
    "### Ordinary Least Squares"
   ]
  },
  {
   "cell_type": "markdown",
   "id": "54272e78",
   "metadata": {},
   "source": [
    "Performing OLS check to determine the significant independent variables for the model."
   ]
  },
  {
   "cell_type": "code",
   "execution_count": 6,
   "id": "4596523d",
   "metadata": {},
   "outputs": [],
   "source": [
    "X_train_const = sm.add_constant(X_train)\n",
    "\n",
    "ols_model = sm.OLS(y_train, X_train_const)\n",
    "ols_results = ols_model.fit()"
   ]
  },
  {
   "cell_type": "code",
   "execution_count": 7,
   "id": "5bb5f929",
   "metadata": {},
   "outputs": [
    {
     "data": {
      "text/html": [
       "<table class=\"simpletable\">\n",
       "<tr>\n",
       "        <td>Model:</td>               <td>OLS</td>         <td>Adj. R-squared:</td>       <td>0.856</td>   \n",
       "</tr>\n",
       "<tr>\n",
       "  <td>Dependent Variable:</td>       <td>price</td>             <td>AIC:</td>         <td>4957069.9881</td>\n",
       "</tr>\n",
       "<tr>\n",
       "         <td>Date:</td>        <td>2024-03-15 19:13</td>        <td>BIC:</td>         <td>4957173.7273</td>\n",
       "</tr>\n",
       "<tr>\n",
       "   <td>No. Observations:</td>       <td>236551</td>        <td>Log-Likelihood:</td>    <td>-2.4785e+06</td>\n",
       "</tr>\n",
       "<tr>\n",
       "       <td>Df Model:</td>              <td>9</td>           <td>F-statistic:</td>       <td>1.562e+05</td> \n",
       "</tr>\n",
       "<tr>\n",
       "     <td>Df Residuals:</td>         <td>236541</td>      <td>Prob (F-statistic):</td>     <td>0.00</td>    \n",
       "</tr>\n",
       "<tr>\n",
       "      <td>R-squared:</td>            <td>0.856</td>            <td>Scale:</td>         <td>7.3860e+07</td> \n",
       "</tr>\n",
       "</table>\n",
       "<table class=\"simpletable\">\n",
       "<tr>\n",
       "          <td></td>            <th>Coef.</th>   <th>Std.Err.</th>     <th>t</th>      <th>P>|t|</th>   <th>[0.025</th>     <th>0.975]</th>  \n",
       "</tr>\n",
       "<tr>\n",
       "  <th>const</th>            <td>20633.6076</td>  <td>17.6708</td> <td>1167.6653</td> <td>0.0000</td> <td>20598.9732</td> <td>20668.2419</td>\n",
       "</tr>\n",
       "<tr>\n",
       "  <th>airline</th>            <td>33.1379</td>   <td>21.6417</td>  <td>1.5312</td>   <td>0.1257</td>   <td>-9.2792</td>    <td>75.5551</td> \n",
       "</tr>\n",
       "<tr>\n",
       "  <th>source_city</th>       <td>1420.2661</td>  <td>18.3404</td>  <td>77.4392</td>  <td>0.0000</td>  <td>1384.3193</td>  <td>1456.2128</td>\n",
       "</tr>\n",
       "<tr>\n",
       "  <th>departure_time</th>     <td>66.7745</td>   <td>17.9646</td>  <td>3.7170</td>   <td>0.0002</td>   <td>31.5644</td>   <td>101.9846</td> \n",
       "</tr>\n",
       "<tr>\n",
       "  <th>stops</th>              <td>68.0104</td>   <td>22.0246</td>  <td>3.0879</td>   <td>0.0020</td>   <td>24.8427</td>   <td>111.1780</td> \n",
       "</tr>\n",
       "<tr>\n",
       "  <th>arrival_time</th>       <td>-1.9158</td>   <td>18.3314</td>  <td>-0.1045</td>  <td>0.9168</td>  <td>-37.8448</td>    <td>34.0133</td> \n",
       "</tr>\n",
       "<tr>\n",
       "  <th>destination_city</th>  <td>494.7632</td>   <td>18.4894</td>  <td>26.7593</td>  <td>0.0000</td>  <td>458.5244</td>   <td>531.0019</td> \n",
       "</tr>\n",
       "<tr>\n",
       "  <th>class</th>            <td>20790.1763</td>  <td>19.7726</td> <td>1051.4655</td> <td>0.0000</td> <td>20751.4226</td> <td>20828.9300</td>\n",
       "</tr>\n",
       "<tr>\n",
       "  <th>days_left_binned</th>  <td>260.7314</td>   <td>17.7175</td>  <td>14.7161</td>  <td>0.0000</td>  <td>226.0057</td>   <td>295.4572</td> \n",
       "</tr>\n",
       "<tr>\n",
       "  <th>duration_sqrt</th>     <td>166.5463</td>   <td>23.7119</td>  <td>7.0237</td>   <td>0.0000</td>  <td>120.0716</td>   <td>213.0211</td> \n",
       "</tr>\n",
       "</table>\n",
       "<table class=\"simpletable\">\n",
       "<tr>\n",
       "     <td>Omnibus:</td>    <td>53732.512</td>  <td>Durbin-Watson:</td>      <td>1.997</td>  \n",
       "</tr>\n",
       "<tr>\n",
       "  <td>Prob(Omnibus):</td>   <td>0.000</td>   <td>Jarque-Bera (JB):</td> <td>666219.719</td>\n",
       "</tr>\n",
       "<tr>\n",
       "       <td>Skew:</td>      <td>-0.744</td>       <td>Prob(JB):</td>        <td>0.000</td>  \n",
       "</tr>\n",
       "<tr>\n",
       "     <td>Kurtosis:</td>    <td>11.086</td>    <td>Condition No.:</td>        <td>2</td>    \n",
       "</tr>\n",
       "</table><br/>\n",
       "Notes:<br/>\n",
       "[1] Standard Errors assume that the covariance matrix of the errors is correctly specified."
      ],
      "text/latex": [
       "\\begin{table}\n",
       "\\caption{Results: Ordinary least squares}\n",
       "\\label{}\n",
       "\\begin{center}\n",
       "\\begin{tabular}{llll}\n",
       "\\hline\n",
       "Model:              & OLS              & Adj. R-squared:     & 0.856         \\\\\n",
       "Dependent Variable: & price            & AIC:                & 4957069.9881  \\\\\n",
       "Date:               & 2024-03-15 19:13 & BIC:                & 4957173.7273  \\\\\n",
       "No. Observations:   & 236551           & Log-Likelihood:     & -2.4785e+06   \\\\\n",
       "Df Model:           & 9                & F-statistic:        & 1.562e+05     \\\\\n",
       "Df Residuals:       & 236541           & Prob (F-statistic): & 0.00          \\\\\n",
       "R-squared:          & 0.856            & Scale:              & 7.3860e+07    \\\\\n",
       "\\hline\n",
       "\\end{tabular}\n",
       "\\end{center}\n",
       "\n",
       "\\begin{center}\n",
       "\\begin{tabular}{lrrrrrr}\n",
       "\\hline\n",
       "                   &      Coef. & Std.Err. &         t & P$> |$t$|$ &     [0.025 &     0.975]  \\\\\n",
       "\\hline\n",
       "const              & 20633.6076 &  17.6708 & 1167.6653 &      0.0000 & 20598.9732 & 20668.2419  \\\\\n",
       "airline            &    33.1379 &  21.6417 &    1.5312 &      0.1257 &    -9.2792 &    75.5551  \\\\\n",
       "source\\_city       &  1420.2661 &  18.3404 &   77.4392 &      0.0000 &  1384.3193 &  1456.2128  \\\\\n",
       "departure\\_time    &    66.7745 &  17.9646 &    3.7170 &      0.0002 &    31.5644 &   101.9846  \\\\\n",
       "stops              &    68.0104 &  22.0246 &    3.0879 &      0.0020 &    24.8427 &   111.1780  \\\\\n",
       "arrival\\_time      &    -1.9158 &  18.3314 &   -0.1045 &      0.9168 &   -37.8448 &    34.0133  \\\\\n",
       "destination\\_city  &   494.7632 &  18.4894 &   26.7593 &      0.0000 &   458.5244 &   531.0019  \\\\\n",
       "class              & 20790.1763 &  19.7726 & 1051.4655 &      0.0000 & 20751.4226 & 20828.9300  \\\\\n",
       "days\\_left\\_binned &   260.7314 &  17.7175 &   14.7161 &      0.0000 &   226.0057 &   295.4572  \\\\\n",
       "duration\\_sqrt     &   166.5463 &  23.7119 &    7.0237 &      0.0000 &   120.0716 &   213.0211  \\\\\n",
       "\\hline\n",
       "\\end{tabular}\n",
       "\\end{center}\n",
       "\n",
       "\\begin{center}\n",
       "\\begin{tabular}{llll}\n",
       "\\hline\n",
       "Omnibus:       & 53732.512 & Durbin-Watson:    & 1.997       \\\\\n",
       "Prob(Omnibus): & 0.000     & Jarque-Bera (JB): & 666219.719  \\\\\n",
       "Skew:          & -0.744    & Prob(JB):         & 0.000       \\\\\n",
       "Kurtosis:      & 11.086    & Condition No.:    & 2           \\\\\n",
       "\\hline\n",
       "\\end{tabular}\n",
       "\\end{center}\n",
       "\\end{table}\n",
       "\\bigskip\n",
       "Notes: \\newline \n",
       "[1] Standard Errors assume that the covariance matrix of the errors is correctly specified."
      ],
      "text/plain": [
       "<class 'statsmodels.iolib.summary2.Summary'>\n",
       "\"\"\"\n",
       "                      Results: Ordinary least squares\n",
       "===========================================================================\n",
       "Model:                OLS                Adj. R-squared:       0.856       \n",
       "Dependent Variable:   price              AIC:                  4957069.9881\n",
       "Date:                 2024-03-15 19:13   BIC:                  4957173.7273\n",
       "No. Observations:     236551             Log-Likelihood:       -2.4785e+06 \n",
       "Df Model:             9                  F-statistic:          1.562e+05   \n",
       "Df Residuals:         236541             Prob (F-statistic):   0.00        \n",
       "R-squared:            0.856              Scale:                7.3860e+07  \n",
       "---------------------------------------------------------------------------\n",
       "                   Coef.    Std.Err.     t     P>|t|    [0.025     0.975]  \n",
       "---------------------------------------------------------------------------\n",
       "const            20633.6076  17.6708 1167.6653 0.0000 20598.9732 20668.2419\n",
       "airline             33.1379  21.6417    1.5312 0.1257    -9.2792    75.5551\n",
       "source_city       1420.2661  18.3404   77.4392 0.0000  1384.3193  1456.2128\n",
       "departure_time      66.7745  17.9646    3.7170 0.0002    31.5644   101.9846\n",
       "stops               68.0104  22.0246    3.0879 0.0020    24.8427   111.1780\n",
       "arrival_time        -1.9158  18.3314   -0.1045 0.9168   -37.8448    34.0133\n",
       "destination_city   494.7632  18.4894   26.7593 0.0000   458.5244   531.0019\n",
       "class            20790.1763  19.7726 1051.4655 0.0000 20751.4226 20828.9300\n",
       "days_left_binned   260.7314  17.7175   14.7161 0.0000   226.0057   295.4572\n",
       "duration_sqrt      166.5463  23.7119    7.0237 0.0000   120.0716   213.0211\n",
       "---------------------------------------------------------------------------\n",
       "Omnibus:               53732.512        Durbin-Watson:           1.997     \n",
       "Prob(Omnibus):         0.000            Jarque-Bera (JB):        666219.719\n",
       "Skew:                  -0.744           Prob(JB):                0.000     \n",
       "Kurtosis:              11.086           Condition No.:           2         \n",
       "===========================================================================\n",
       "Notes:\n",
       "[1] Standard Errors assume that the covariance matrix of the errors is\n",
       "correctly specified.\n",
       "\"\"\""
      ]
     },
     "execution_count": 7,
     "metadata": {},
     "output_type": "execute_result"
    }
   ],
   "source": [
    "ols_results.summary2()"
   ]
  },
  {
   "cell_type": "markdown",
   "id": "da513d3f",
   "metadata": {},
   "source": [
    "From here, we can determine that airline & arrival_time is not significant. And we will remove it from the independent variables."
   ]
  },
  {
   "cell_type": "code",
   "execution_count": 8,
   "id": "eec3b535",
   "metadata": {},
   "outputs": [],
   "source": [
    "new_X_train = X_train[['source_city', 'departure_time', 'stops', 'destination_city', 'class', 'days_left_binned', 'duration_sqrt']]\n",
    "new_X_test = X_test[['source_city', 'departure_time', 'stops', 'destination_city', 'class', 'days_left_binned', 'duration_sqrt']]"
   ]
  },
  {
   "cell_type": "code",
   "execution_count": 9,
   "id": "f9fefb9e",
   "metadata": {},
   "outputs": [],
   "source": [
    "new_X_train_const = sm.add_constant(new_X_train)\n",
    "\n",
    "new_ols_model = sm.OLS(y_train, new_X_train_const)\n",
    "new_ols_results = new_ols_model.fit()"
   ]
  },
  {
   "cell_type": "code",
   "execution_count": 10,
   "id": "a0466211",
   "metadata": {},
   "outputs": [
    {
     "data": {
      "text/html": [
       "<table class=\"simpletable\">\n",
       "<tr>\n",
       "        <td>Model:</td>               <td>OLS</td>         <td>Adj. R-squared:</td>       <td>0.856</td>   \n",
       "</tr>\n",
       "<tr>\n",
       "  <td>Dependent Variable:</td>       <td>price</td>             <td>AIC:</td>         <td>4957068.3749</td>\n",
       "</tr>\n",
       "<tr>\n",
       "         <td>Date:</td>        <td>2024-03-15 19:13</td>        <td>BIC:</td>         <td>4957151.3663</td>\n",
       "</tr>\n",
       "<tr>\n",
       "   <td>No. Observations:</td>       <td>236551</td>        <td>Log-Likelihood:</td>    <td>-2.4785e+06</td>\n",
       "</tr>\n",
       "<tr>\n",
       "       <td>Df Model:</td>              <td>7</td>           <td>F-statistic:</td>       <td>2.008e+05</td> \n",
       "</tr>\n",
       "<tr>\n",
       "     <td>Df Residuals:</td>         <td>236543</td>      <td>Prob (F-statistic):</td>     <td>0.00</td>    \n",
       "</tr>\n",
       "<tr>\n",
       "      <td>R-squared:</td>            <td>0.856</td>            <td>Scale:</td>         <td>7.3861e+07</td> \n",
       "</tr>\n",
       "</table>\n",
       "<table class=\"simpletable\">\n",
       "<tr>\n",
       "          <td></td>            <th>Coef.</th>   <th>Std.Err.</th>     <th>t</th>      <th>P>|t|</th>   <th>[0.025</th>     <th>0.975]</th>  \n",
       "</tr>\n",
       "<tr>\n",
       "  <th>const</th>            <td>20633.6650</td>  <td>17.6708</td> <td>1167.6704</td> <td>0.0000</td> <td>20599.0307</td> <td>20668.2993</td>\n",
       "</tr>\n",
       "<tr>\n",
       "  <th>source_city</th>       <td>1420.4210</td>  <td>18.3262</td>  <td>77.5077</td>  <td>0.0000</td>  <td>1384.5021</td>  <td>1456.3398</td>\n",
       "</tr>\n",
       "<tr>\n",
       "  <th>departure_time</th>     <td>68.6355</td>   <td>17.9164</td>  <td>3.8309</td>   <td>0.0001</td>   <td>33.5199</td>   <td>103.7512</td> \n",
       "</tr>\n",
       "<tr>\n",
       "  <th>stops</th>              <td>65.0668</td>   <td>21.9404</td>  <td>2.9656</td>   <td>0.0030</td>   <td>22.0643</td>   <td>108.0694</td> \n",
       "</tr>\n",
       "<tr>\n",
       "  <th>destination_city</th>  <td>494.5829</td>   <td>18.3915</td>  <td>26.8920</td>  <td>0.0000</td>  <td>458.5361</td>   <td>530.6298</td> \n",
       "</tr>\n",
       "<tr>\n",
       "  <th>class</th>            <td>20803.1246</td>  <td>17.9006</td> <td>1162.1490</td> <td>0.0000</td> <td>20768.0399</td> <td>20838.2092</td>\n",
       "</tr>\n",
       "<tr>\n",
       "  <th>days_left_binned</th>  <td>261.1576</td>   <td>17.7076</td>  <td>14.7483</td>  <td>0.0000</td>  <td>226.4512</td>   <td>295.8641</td> \n",
       "</tr>\n",
       "<tr>\n",
       "  <th>duration_sqrt</th>     <td>178.1681</td>   <td>22.4770</td>  <td>7.9267</td>   <td>0.0000</td>  <td>134.1138</td>   <td>222.2224</td> \n",
       "</tr>\n",
       "</table>\n",
       "<table class=\"simpletable\">\n",
       "<tr>\n",
       "     <td>Omnibus:</td>    <td>53725.596</td>  <td>Durbin-Watson:</td>      <td>1.997</td>  \n",
       "</tr>\n",
       "<tr>\n",
       "  <td>Prob(Omnibus):</td>   <td>0.000</td>   <td>Jarque-Bera (JB):</td> <td>666186.445</td>\n",
       "</tr>\n",
       "<tr>\n",
       "       <td>Skew:</td>      <td>-0.744</td>       <td>Prob(JB):</td>        <td>0.000</td>  \n",
       "</tr>\n",
       "<tr>\n",
       "     <td>Kurtosis:</td>    <td>11.085</td>    <td>Condition No.:</td>        <td>2</td>    \n",
       "</tr>\n",
       "</table><br/>\n",
       "Notes:<br/>\n",
       "[1] Standard Errors assume that the covariance matrix of the errors is correctly specified."
      ],
      "text/latex": [
       "\\begin{table}\n",
       "\\caption{Results: Ordinary least squares}\n",
       "\\label{}\n",
       "\\begin{center}\n",
       "\\begin{tabular}{llll}\n",
       "\\hline\n",
       "Model:              & OLS              & Adj. R-squared:     & 0.856         \\\\\n",
       "Dependent Variable: & price            & AIC:                & 4957068.3749  \\\\\n",
       "Date:               & 2024-03-15 19:13 & BIC:                & 4957151.3663  \\\\\n",
       "No. Observations:   & 236551           & Log-Likelihood:     & -2.4785e+06   \\\\\n",
       "Df Model:           & 7                & F-statistic:        & 2.008e+05     \\\\\n",
       "Df Residuals:       & 236543           & Prob (F-statistic): & 0.00          \\\\\n",
       "R-squared:          & 0.856            & Scale:              & 7.3861e+07    \\\\\n",
       "\\hline\n",
       "\\end{tabular}\n",
       "\\end{center}\n",
       "\n",
       "\\begin{center}\n",
       "\\begin{tabular}{lrrrrrr}\n",
       "\\hline\n",
       "                   &      Coef. & Std.Err. &         t & P$> |$t$|$ &     [0.025 &     0.975]  \\\\\n",
       "\\hline\n",
       "const              & 20633.6650 &  17.6708 & 1167.6704 &      0.0000 & 20599.0307 & 20668.2993  \\\\\n",
       "source\\_city       &  1420.4210 &  18.3262 &   77.5077 &      0.0000 &  1384.5021 &  1456.3398  \\\\\n",
       "departure\\_time    &    68.6355 &  17.9164 &    3.8309 &      0.0001 &    33.5199 &   103.7512  \\\\\n",
       "stops              &    65.0668 &  21.9404 &    2.9656 &      0.0030 &    22.0643 &   108.0694  \\\\\n",
       "destination\\_city  &   494.5829 &  18.3915 &   26.8920 &      0.0000 &   458.5361 &   530.6298  \\\\\n",
       "class              & 20803.1246 &  17.9006 & 1162.1490 &      0.0000 & 20768.0399 & 20838.2092  \\\\\n",
       "days\\_left\\_binned &   261.1576 &  17.7076 &   14.7483 &      0.0000 &   226.4512 &   295.8641  \\\\\n",
       "duration\\_sqrt     &   178.1681 &  22.4770 &    7.9267 &      0.0000 &   134.1138 &   222.2224  \\\\\n",
       "\\hline\n",
       "\\end{tabular}\n",
       "\\end{center}\n",
       "\n",
       "\\begin{center}\n",
       "\\begin{tabular}{llll}\n",
       "\\hline\n",
       "Omnibus:       & 53725.596 & Durbin-Watson:    & 1.997       \\\\\n",
       "Prob(Omnibus): & 0.000     & Jarque-Bera (JB): & 666186.445  \\\\\n",
       "Skew:          & -0.744    & Prob(JB):         & 0.000       \\\\\n",
       "Kurtosis:      & 11.085    & Condition No.:    & 2           \\\\\n",
       "\\hline\n",
       "\\end{tabular}\n",
       "\\end{center}\n",
       "\\end{table}\n",
       "\\bigskip\n",
       "Notes: \\newline \n",
       "[1] Standard Errors assume that the covariance matrix of the errors is correctly specified."
      ],
      "text/plain": [
       "<class 'statsmodels.iolib.summary2.Summary'>\n",
       "\"\"\"\n",
       "                      Results: Ordinary least squares\n",
       "===========================================================================\n",
       "Model:                OLS                Adj. R-squared:       0.856       \n",
       "Dependent Variable:   price              AIC:                  4957068.3749\n",
       "Date:                 2024-03-15 19:13   BIC:                  4957151.3663\n",
       "No. Observations:     236551             Log-Likelihood:       -2.4785e+06 \n",
       "Df Model:             7                  F-statistic:          2.008e+05   \n",
       "Df Residuals:         236543             Prob (F-statistic):   0.00        \n",
       "R-squared:            0.856              Scale:                7.3861e+07  \n",
       "---------------------------------------------------------------------------\n",
       "                   Coef.    Std.Err.     t     P>|t|    [0.025     0.975]  \n",
       "---------------------------------------------------------------------------\n",
       "const            20633.6650  17.6708 1167.6704 0.0000 20599.0307 20668.2993\n",
       "source_city       1420.4210  18.3262   77.5077 0.0000  1384.5021  1456.3398\n",
       "departure_time      68.6355  17.9164    3.8309 0.0001    33.5199   103.7512\n",
       "stops               65.0668  21.9404    2.9656 0.0030    22.0643   108.0694\n",
       "destination_city   494.5829  18.3915   26.8920 0.0000   458.5361   530.6298\n",
       "class            20803.1246  17.9006 1162.1490 0.0000 20768.0399 20838.2092\n",
       "days_left_binned   261.1576  17.7076   14.7483 0.0000   226.4512   295.8641\n",
       "duration_sqrt      178.1681  22.4770    7.9267 0.0000   134.1138   222.2224\n",
       "---------------------------------------------------------------------------\n",
       "Omnibus:               53725.596        Durbin-Watson:           1.997     \n",
       "Prob(Omnibus):         0.000            Jarque-Bera (JB):        666186.445\n",
       "Skew:                  -0.744           Prob(JB):                0.000     \n",
       "Kurtosis:              11.085           Condition No.:           2         \n",
       "===========================================================================\n",
       "Notes:\n",
       "[1] Standard Errors assume that the covariance matrix of the errors is\n",
       "correctly specified.\n",
       "\"\"\""
      ]
     },
     "execution_count": 10,
     "metadata": {},
     "output_type": "execute_result"
    }
   ],
   "source": [
    "new_ols_results.summary2()"
   ]
  },
  {
   "cell_type": "markdown",
   "id": "41451c7f",
   "metadata": {},
   "source": [
    "No visible improvement in R2 or Adj. R2 Scores. However, they are still quite high, and are identical. Implying that there is no substantial overfitting from the independent variables used.<br>\n",
    "Thus, we can use keep the insignificant features."
   ]
  },
  {
   "cell_type": "markdown",
   "id": "d6ac722b",
   "metadata": {},
   "source": [
    "### Variance Inflation Factor:"
   ]
  },
  {
   "cell_type": "code",
   "execution_count": 11,
   "id": "f9d656d0",
   "metadata": {},
   "outputs": [
    {
     "name": "stdout",
     "output_type": "stream",
     "text": [
      "VIF for source_city: 1.0776\n",
      "VIF for departure_time: 1.0311\n",
      "VIF for stops: 1.552\n",
      "VIF for destination_city: 1.0855\n",
      "VIF for class: 1.0288\n",
      "VIF for days_left_binned: 1.0033\n",
      "VIF for duration_sqrt: 1.6202\n"
     ]
    }
   ],
   "source": [
    "new_X_range = len(new_X_train_const.columns)\n",
    "\n",
    "for i in range(1, new_X_range):\n",
    "    v = vif(new_X_train_const.values, i)\n",
    "    print(\"VIF for {}: {}\".format(new_X_train_const.columns[i], round(v, 4)))"
   ]
  },
  {
   "cell_type": "markdown",
   "id": "21efca94",
   "metadata": {},
   "source": [
    "All independent variables' VIF are small, and below 10. Thus, there is no multicolinearity among them."
   ]
  },
  {
   "cell_type": "markdown",
   "id": "918ea7eb",
   "metadata": {},
   "source": [
    "### SVR Modelling"
   ]
  },
  {
   "cell_type": "markdown",
   "id": "ba3b7b36",
   "metadata": {},
   "source": [
    "Training the model with pre-determined parameters."
   ]
  },
  {
   "cell_type": "code",
   "execution_count": 26,
   "id": "80cddd2f",
   "metadata": {},
   "outputs": [],
   "source": [
    "svr_rbf = SVR(kernel='rbf', C=100, gamma=0.1, epsilon=.1)"
   ]
  },
  {
   "cell_type": "markdown",
   "id": "3d0ec380",
   "metadata": {},
   "source": [
    "Estimated run time for model fitting: 100-130 mins."
   ]
  },
  {
   "cell_type": "code",
   "execution_count": 27,
   "id": "796e6ae5",
   "metadata": {},
   "outputs": [],
   "source": [
    "svr_rbf.fit(new_X_train, y_train)\n",
    "    \n",
    "y_pred = svr_rbf.predict(new_X_test)"
   ]
  },
  {
   "cell_type": "code",
   "execution_count": 30,
   "id": "a37237a2",
   "metadata": {},
   "outputs": [],
   "source": [
    "mae = mean_absolute_error(y_test, y_pred)\n",
    "mse = mean_squared_error(y_test, y_pred)\n",
    "rmse = np.sqrt(mse)\n",
    "r2 = r2_score(y_test, y_pred)"
   ]
  },
  {
   "cell_type": "code",
   "execution_count": 31,
   "id": "945d0e87",
   "metadata": {},
   "outputs": [
    {
     "name": "stdout",
     "output_type": "stream",
     "text": [
      "Mean Absolute Error: 0.24251893199215085\n",
      "Mean Squared Error: 0.13413369675532666\n",
      "Root Meam Squared Error: 0.3662426746780428\n",
      "R2 Score: 0.8659482932966688\n"
     ]
    }
   ],
   "source": [
    "print(\"Mean Absolute Error: \" + str(mae))\n",
    "print(\"Mean Squared Error: \" + str(mse))\n",
    "print(\"Root Mean Squared Error: \" + str(rmse))\n",
    "print(\"R2 Score: \" + str(r2))"
   ]
  },
  {
   "cell_type": "markdown",
   "id": "5691a169",
   "metadata": {},
   "source": [
    "Inferences: <br>\n",
    "<ul>\n",
    "    <li>The current model explains about 86.63% of the variance in the dependent variable price_boxcox_scaled. (R2)</li>\n",
    "    <li>The model's predictions are 0.2435 units from the actual values on average. (MAE)</li>\n",
    "    <li>The average of the squares of the errors between the predicted and actual values is about 0.1337 units.</li>\n",
    "    <li>The intepretable, actual average of the errors between the predicted and actual values is about 0.3657 units.</li>\n",
    "</ul>"
   ]
  },
  {
   "cell_type": "markdown",
   "id": "92d154c0",
   "metadata": {},
   "source": [
    "For comparison, we fit the model with the inclusion of the insignificant independent variable removed earlier."
   ]
  },
  {
   "cell_type": "code",
   "execution_count": null,
   "id": "1dc0ccb8",
   "metadata": {},
   "outputs": [],
   "source": [
    "svr_rbf.fit(X_train, y_train)\n",
    "    \n",
    "old_y_pred = svr_rbf.predict(X_test)"
   ]
  },
  {
   "cell_type": "code",
   "execution_count": null,
   "id": "60b20976",
   "metadata": {},
   "outputs": [],
   "source": [
    "old_mae = mean_absolute_error(y_test, old_y_pred)\n",
    "old_mse = mean_squared_error(y_test, old_y_pred)\n",
    "old_rmse = np.sqrt(mse)\n",
    "old_r2 = r2_score(y_test, old_y_pred)"
   ]
  },
  {
   "cell_type": "code",
   "execution_count": null,
   "id": "0097645f",
   "metadata": {},
   "outputs": [
    {
     "name": "stdout",
     "output_type": "stream",
     "text": [
      "Mean Absolute Error: 0.2434806249370293\n",
      "Mean Squared Error: 0.13371570839006203\n",
      "Root Meam Squared Error: 0.3656715854288682\n",
      "R2 Score: 0.866260291096647\n"
     ]
    }
   ],
   "source": [
    "print(\"Mean Absolute Error: \" + str(old_mae))\n",
    "print(\"Mean Squared Error: \" + str(old_mse))\n",
    "print(\"Root Mean Squared Error: \" + str(old_rmse))\n",
    "print(\"R2 Score: \" + str(old_r2))"
   ]
  },
  {
   "cell_type": "markdown",
   "id": "f2add99c",
   "metadata": {},
   "source": [
    "Compared to the optimized feature selection iteration, the older version is slightly better with a barely noticable difference."
   ]
  },
  {
   "cell_type": "markdown",
   "id": "695fa176",
   "metadata": {},
   "source": [
    "Let's try this again with a different kernel type."
   ]
  },
  {
   "cell_type": "code",
   "execution_count": 105,
   "id": "e8f99a1e",
   "metadata": {},
   "outputs": [],
   "source": [
    "linear_svr_rbf = SVR(kernel='linear', C=100, gamma=0.1, epsilon=.1)"
   ]
  },
  {
   "cell_type": "code",
   "execution_count": 106,
   "id": "3ebe59a1",
   "metadata": {},
   "outputs": [],
   "source": [
    "linear_svr_rbf.fit(X_train, y_train)\n",
    "    \n",
    "linear_y_pred = linear_svr_rbf.predict(X_test)"
   ]
  },
  {
   "cell_type": "code",
   "execution_count": 107,
   "id": "dc99bd24",
   "metadata": {},
   "outputs": [
    {
     "name": "stdout",
     "output_type": "stream",
     "text": [
      "Mean Absolute Error: 5026.833211343384\n",
      "Mean Absolute Percentage Error: 0.4990828812589028\n",
      "Mean Squared Error: 78105625.0652555\n",
      "Root Mean Squared Error: 8837.738685051481\n",
      "R2 Score: 0.8469837243757123\n"
     ]
    }
   ],
   "source": [
    "linear_mae = mean_absolute_error(y_test, linear_y_pred)\n",
    "linear_mape = mean_absolute_percentage_error(y_test, linear_y_pred)\n",
    "linear_mse = mean_squared_error(y_test, linear_y_pred)\n",
    "linear_rmse = np.sqrt(linear_mse)\n",
    "linear_r2 = r2_score(y_test, linear_y_pred)\n",
    "\n",
    "print(\"Mean Absolute Error: \" + str(linear_mae))\n",
    "print(\"Mean Absolute Percentage Error: \" + str(linear_mape))\n",
    "print(\"Mean Squared Error: \" + str(linear_mse))\n",
    "print(\"Root Mean Squared Error: \" + str(linear_rmse))\n",
    "print(\"R2 Score: \" + str(linear_r2))"
   ]
  },
  {
   "cell_type": "code",
   "execution_count": 14,
   "id": "dbd9adca",
   "metadata": {},
   "outputs": [
    {
     "name": "stdout",
     "output_type": "stream",
     "text": [
      "Fitting 5 folds for each of 3 candidates, totalling 15 fits\n",
      "Iteration 1 - Params: {'C': 0.1, 'kernel': 'rbf'}\n",
      "Mean validation score: -0.13420495781998204\n",
      "Iteration 2 - Params: {'C': 1, 'kernel': 'rbf'}\n",
      "Mean validation score: -0.13275636672273847\n",
      "Iteration 3 - Params: {'C': 10, 'kernel': 'rbf'}\n",
      "Mean validation score: -0.1316063590756194\n",
      "Best parameters found:  {'C': 10, 'kernel': 'rbf'}\n",
      "Mean Absolute Error: 0.2395228419020061\n",
      "Mean Absolute Percentage Error: 1.1841642194787199\n",
      "Mean Squared Error: 0.1319164461924696\n",
      "Root Mean Squared Error: 0.3632030371465382\n",
      "R2 Score: 0.8677362260803554\n"
     ]
    }
   ],
   "source": [
    "# Wtih Box_Cox Price\n",
    "\n",
    "# Define parameter grid for grid search with rbf. It takes too long if I add too many parameters.\n",
    "param_grid = {\n",
    "    'kernel': ['rbf'],\n",
    "    'C': [0.1, 1, 10],\n",
    "    # 'gamma': [0.001, 0.01, 0.1],\n",
    "    # 'epsilon': [0.01, 0.1]\n",
    "}\n",
    "\n",
    "# Custom function to print output of each iteration\n",
    "def print_iteration_output(results):\n",
    "    print(\"Iteration results:\")\n",
    "    print(results)\n",
    "\n",
    "# Create SVR model\n",
    "svr = SVR()\n",
    "\n",
    "# Perform grid search with cross-validation\n",
    "grid_search = GridSearchCV(estimator=svr, param_grid=param_grid, cv=5, scoring='neg_mean_squared_error', verbose=2, n_jobs=-1, refit=False)\n",
    "grid_search.fit(X_train, y_train)\n",
    "\n",
    "# Print output of each iteration\n",
    "for i, params in enumerate(grid_search.cv_results_['params']):\n",
    "    print(f\"Iteration {i+1} - Params: {params}\")\n",
    "    print(f\"Mean validation score: {grid_search.cv_results_['mean_test_score'][i]}\")\n",
    "\n",
    "# Print best parameters\n",
    "print(\"Best parameters found: \", grid_search.best_params_)\n",
    "\n",
    "# Get best SVR model\n",
    "best_svr = SVR(**grid_search.best_params_)\n",
    "\n",
    "# Fit best model on full training data\n",
    "best_svr.fit(X_train, y_train)\n",
    "\n",
    "# Predictions on test set\n",
    "gs_y_pred = best_svr.predict(X_test)\n",
    "\n",
    "# Evaluate model performance\n",
    "gs_mae = mean_absolute_error(y_test, gs_y_pred)\n",
    "gs_mape = mean_absolute_percentage_error(y_test, gs_y_pred)\n",
    "gs_mse = mean_squared_error(y_test, gs_y_pred)\n",
    "gs_rmse = np.sqrt(gs_mse)\n",
    "gs_r2 = r2_score(y_test, gs_y_pred)\n",
    "print(\"Mean Absolute Error: \" + str(gs_mae))\n",
    "print(\"Mean Absolute Percentage Error: \" + str(gs_mape))\n",
    "print(\"Mean Squared Error: \" + str(gs_mse))\n",
    "print(\"Root Mean Squared Error: \" + str(gs_rmse))\n",
    "print(\"R2 Score: \" + str(gs_r2))"
   ]
  },
  {
   "cell_type": "markdown",
   "id": "349f6381",
   "metadata": {},
   "source": [
    "Best parameters found:  {'C': 10, 'kernel': 'rbf'}<br>\n",
    "Mean Absolute Error: 0.2395228419020061<br>\n",
    "Mean Absolute Percentage Error: 1.1841642194787199<br>\n",
    "Mean Squared Error: 0.1319164461924696<br>\n",
    "Root Mean Squared Error: 0.3632030371465382<br>\n",
    "R2 Score: 0.8677362260803554"
   ]
  },
  {
   "cell_type": "code",
   "execution_count": 41,
   "id": "17eddea2",
   "metadata": {},
   "outputs": [
    {
     "name": "stdout",
     "output_type": "stream",
     "text": [
      "Fitting 5 folds for each of 3 candidates, totalling 15 fits\n",
      "Iteration 1 - Params: {'C': 0.1, 'kernel': 'rbf'}\n",
      "Mean validation score: -648142579.3475331\n",
      "Iteration 2 - Params: {'C': 1, 'kernel': 'rbf'}\n",
      "Mean validation score: -354702119.3030982\n",
      "Iteration 3 - Params: {'C': 10, 'kernel': 'rbf'}\n",
      "Mean validation score: -98394595.04072435\n",
      "Best parameters found:  {'C': 10, 'kernel': 'rbf'}\n",
      "Mean Absolute Error: 5702.813804289118\n",
      "Mean Absolute Percentage Error: 0.5020599766797174\n",
      "Mean Squared Error: 92911170.29697773\n",
      "Root Mean Squared Error: 9639.044055142487\n",
      "R2 Score: 0.8179782668551777\n"
     ]
    }
   ],
   "source": [
    "# Without Box_Cox Price\n",
    "\n",
    "# Define parameter grid for grid search with rbf. It takes too long if I add too many parameters.\n",
    "param_grid = {\n",
    "    'kernel': ['rbf'],\n",
    "    'C': [0.1, 1, 10],\n",
    "    # 'gamma': [0.001, 0.01, 0.1],\n",
    "    # 'epsilon': [0.01, 0.1]\n",
    "}\n",
    "\n",
    "# Custom function to print output of each iteration\n",
    "def print_iteration_output(results):\n",
    "    print(\"Iteration results:\")\n",
    "    print(results)\n",
    "\n",
    "# Create SVR model\n",
    "svr = SVR()\n",
    "\n",
    "# Perform grid search with cross-validation\n",
    "grid_search = GridSearchCV(estimator=svr, param_grid=param_grid, cv=5, scoring='neg_mean_squared_error', verbose=2, n_jobs=-1, refit=False)\n",
    "grid_search.fit(X_train, y_train)\n",
    "\n",
    "# Print output of each iteration\n",
    "for i, params in enumerate(grid_search.cv_results_['params']):\n",
    "    print(f\"Iteration {i+1} - Params: {params}\")\n",
    "    print(f\"Mean validation score: {grid_search.cv_results_['mean_test_score'][i]}\")\n",
    "\n",
    "# Print best parameters\n",
    "print(\"Best parameters found: \", grid_search.best_params_)\n",
    "\n",
    "# Get best SVR model\n",
    "best_svr = SVR(**grid_search.best_params_)\n",
    "\n",
    "# Fit best model on full training data\n",
    "best_svr.fit(X_train, y_train)\n",
    "\n",
    "# Predictions on test set\n",
    "gs_y_pred = best_svr.predict(X_test)\n",
    "\n",
    "# Evaluate model performance\n",
    "gs_mae = mean_absolute_error(y_test, gs_y_pred)\n",
    "gs_mape = mean_absolute_percentage_error(y_test, gs_y_pred)\n",
    "gs_mse = mean_squared_error(y_test, gs_y_pred)\n",
    "gs_rmse = np.sqrt(gs_mse)\n",
    "gs_r2 = r2_score(y_test, gs_y_pred)\n",
    "print(\"Mean Absolute Error: \" + str(gs_mae))\n",
    "print(\"Mean Absolute Percentage Error: \" + str(gs_mape))\n",
    "print(\"Mean Squared Error: \" + str(gs_mse))\n",
    "print(\"Root Mean Squared Error: \" + str(gs_rmse))\n",
    "print(\"R2 Score: \" + str(gs_r2))"
   ]
  },
  {
   "cell_type": "code",
   "execution_count": 103,
   "id": "d3933ddd",
   "metadata": {},
   "outputs": [
    {
     "name": "stdout",
     "output_type": "stream",
     "text": [
      "Fitting 5 folds for each of 6 candidates, totalling 30 fits\n",
      "Iteration 1 - Params: {'C': 40, 'epsilon': 0.01, 'kernel': 'rbf'}\n",
      "Mean validation score: -76891653.22173436\n",
      "Iteration 2 - Params: {'C': 40, 'epsilon': 0.1, 'kernel': 'rbf'}\n",
      "Mean validation score: -76891627.6252309\n",
      "Iteration 3 - Params: {'C': 70, 'epsilon': 0.01, 'kernel': 'rbf'}\n",
      "Mean validation score: -73090374.94506846\n",
      "Iteration 4 - Params: {'C': 70, 'epsilon': 0.1, 'kernel': 'rbf'}\n",
      "Mean validation score: -73090352.37180713\n",
      "Iteration 5 - Params: {'C': 100, 'epsilon': 0.01, 'kernel': 'rbf'}\n",
      "Mean validation score: -71399919.2858651\n",
      "Iteration 6 - Params: {'C': 100, 'epsilon': 0.1, 'kernel': 'rbf'}\n",
      "Mean validation score: -71399921.10597666\n",
      "Best parameters found:  {'C': 100, 'epsilon': 0.01, 'kernel': 'rbf'}\n",
      "Mean Absolute Error: 5702.813804289118\n",
      "Mean Absolute Percentage Error: 0.5020599766797174\n",
      "Mean Squared Error: 92911170.29697773\n",
      "Root Mean Squared Error: 9639.044055142487\n",
      "R2 Score: 0.8179782668551777\n"
     ]
    }
   ],
   "source": [
    "# Without Box_Cox Price & Higher Hyperparameters & Epsilons.\n",
    "\n",
    "# Define parameter grid for grid search with rbf. It takes too long if I add too many parameters.\n",
    "param_grid = {\n",
    "    'kernel': ['rbf'],\n",
    "    'C': [40, 70 ,100],\n",
    "    # 'gamma': [0.001, 0.01, 0.1],\n",
    "    'epsilon': [0.01, 0.1]\n",
    "}\n",
    "\n",
    "# Custom function to print output of each iteration\n",
    "def print_iteration_output(results):\n",
    "    print(\"Iteration results:\")\n",
    "    print(results)\n",
    "\n",
    "# Create SVR model\n",
    "svr = SVR()\n",
    "\n",
    "# Perform grid search with cross-validation\n",
    "grid_search = GridSearchCV(estimator=svr, param_grid=param_grid, cv=5, scoring='neg_mean_squared_error', verbose=2, n_jobs=-1, refit=False)\n",
    "grid_search.fit(X_train, y_train)\n",
    "\n",
    "# Print output of each iteration\n",
    "for i, params in enumerate(grid_search.cv_results_['params']):\n",
    "    print(f\"Iteration {i+1} - Params: {params}\")\n",
    "    print(f\"Mean validation score: {grid_search.cv_results_['mean_test_score'][i]}\")\n",
    "\n",
    "# Print best parameters\n",
    "print(\"Best parameters found: \", grid_search.best_params_)\n",
    "\n",
    "# Get best SVR model\n",
    "new_best_svr = SVR(**grid_search.best_params_)\n",
    "\n",
    "# Fit best model on full training data\n",
    "new_best_svr.fit(X_train, y_train)\n",
    "\n",
    "# Predictions on test set\n",
    "new_gs_y_pred = best_svr.predict(X_test)\n",
    "\n",
    "# Evaluate model performance\n",
    "new_gs_mae = mean_absolute_error(y_test, new_gs_y_pred)\n",
    "new_gs_mape = mean_absolute_percentage_error(y_test, new_gs_y_pred)\n",
    "new_gs_mse = mean_squared_error(y_test, new_gs_y_pred)\n",
    "new_gs_rmse = np.sqrt(new_gs_mse)\n",
    "new_gs_r2 = r2_score(y_test, new_gs_y_pred)\n",
    "print(\"Mean Absolute Error: \" + str(new_gs_mae))\n",
    "print(\"Mean Absolute Percentage Error: \" + str(new_gs_mape))\n",
    "print(\"Mean Squared Error: \" + str(new_gs_mse))\n",
    "print(\"Root Mean Squared Error: \" + str(new_gs_rmse))\n",
    "print(\"R2 Score: \" + str(new_gs_r2))"
   ]
  },
  {
   "cell_type": "code",
   "execution_count": 112,
   "id": "5178534e",
   "metadata": {},
   "outputs": [
    {
     "name": "stdout",
     "output_type": "stream",
     "text": [
      "Fitting 2 folds for each of 4 candidates, totalling 8 fits\n",
      "Iteration 1 - Params: {'C': 100, 'epsilon': 0.01, 'kernel': 'rbf'}\n",
      "Mean validation score: -73740744.73313455\n",
      "Iteration 2 - Params: {'C': 100, 'epsilon': 0.01, 'kernel': 'linear'}\n",
      "Mean validation score: -75781416.9495543\n",
      "Iteration 3 - Params: {'C': 100, 'epsilon': 0.01, 'kernel': 'poly'}\n",
      "Mean validation score: -82927702.67811835\n",
      "Iteration 4 - Params: {'C': 100, 'epsilon': 0.01, 'kernel': 'sigmoid'}\n",
      "Mean validation score: -4557291276.851978\n",
      "Best parameters found:  {'C': 100, 'epsilon': 0.01, 'kernel': 'rbf'}\n",
      "Mean Absolute Error: 5702.813804289118\n",
      "Mean Absolute Percentage Error: 0.5020599766797174\n",
      "Mean Squared Error: 92911170.29697773\n",
      "Root Mean Squared Error: 9639.044055142487\n",
      "R2 Score: 0.8179782668551777\n"
     ]
    }
   ],
   "source": [
    "# Try all\n",
    "\n",
    "# Define parameter grid for grid search with rbf. It takes too long if I add too many parameters.\n",
    "param_grid = {\n",
    "    'kernel': ['rbf', 'linear', 'poly', 'sigmoid'],\n",
    "    'C': [100],\n",
    "    # 'gamma': [0.001, 0.01, 0.1],\n",
    "    'epsilon': [0.01]\n",
    "}\n",
    "\n",
    "# Custom function to print output of each iteration\n",
    "def print_iteration_output(results):\n",
    "    print(\"Iteration results:\")\n",
    "    print(results)\n",
    "\n",
    "# Create SVR model\n",
    "svr = SVR()\n",
    "\n",
    "# Perform grid search with cross-validation\n",
    "grid_search = GridSearchCV(estimator=svr, param_grid=param_grid, cv=2, scoring='neg_mean_squared_error', verbose=2, n_jobs=-1, refit=False)\n",
    "grid_search.fit(X_train, y_train)\n",
    "\n",
    "# Print output of each iteration\n",
    "for i, params in enumerate(grid_search.cv_results_['params']):\n",
    "    print(f\"Iteration {i+1} - Params: {params}\")\n",
    "    print(f\"Mean validation score: {grid_search.cv_results_['mean_test_score'][i]}\")\n",
    "\n",
    "# Print best parameters\n",
    "print(\"Best parameters found: \", grid_search.best_params_)\n",
    "\n",
    "# Get best SVR model\n",
    "all_best_svr = SVR(**grid_search.best_params_)\n",
    "\n",
    "# Fit best model on full training data\n",
    "all_best_svr.fit(X_train, y_train)\n",
    "\n",
    "# Predictions on test set\n",
    "all_gs_y_pred = best_svr.predict(X_test)\n",
    "\n",
    "# Evaluate model performance\n",
    "all_gs_mae = mean_absolute_error(y_test, all_gs_y_pred)\n",
    "all_gs_mape = mean_absolute_percentage_error(y_test, all_gs_y_pred)\n",
    "all_gs_mse = mean_squared_error(y_test, all_gs_y_pred)\n",
    "all_gs_rmse = np.sqrt(all_gs_mse)\n",
    "all_gs_r2 = r2_score(y_test, all_gs_y_pred)\n",
    "print(\"Mean Absolute Error: \" + str(all_gs_mae))\n",
    "print(\"Mean Absolute Percentage Error: \" + str(all_gs_mape))\n",
    "print(\"Mean Squared Error: \" + str(all_gs_mse))\n",
    "print(\"Root Mean Squared Error: \" + str(all_gs_rmse))\n",
    "print(\"R2 Score: \" + str(all_gs_r2))"
   ]
  },
  {
   "cell_type": "code",
   "execution_count": 70,
   "id": "01c5b560",
   "metadata": {},
   "outputs": [],
   "source": [
    "pca = PCA(n_components=1)\n",
    "\n",
    "# Fit and transform the data\n",
    "X_pca = pca.fit_transform(X_test)"
   ]
  },
  {
   "cell_type": "code",
   "execution_count": 72,
   "id": "35781a7b",
   "metadata": {},
   "outputs": [
    {
     "data": {
      "image/png": "[encoded data removed]",
      "text/plain": [
       "<Figure size 640x480 with 1 Axes>"
      ]
     },
     "metadata": {},
     "output_type": "display_data"
    }
   ],
   "source": [
    "# Create scatter plot\n",
    "plt.scatter(X_pca, y_test, color='red', label='Scatter Plot')\n",
    "\n",
    "# # Create line plot\n",
    "# plt.plot(X_pca, gs_y_pred, color='blue', label='Line Plot')\n",
    "\n",
    "# # Add labels and title\n",
    "# plt.xlabel('X-axis')\n",
    "# plt.ylabel('Y-axis')\n",
    "# plt.title('Scatter and Line Plot')\n",
    "\n",
    "# # Add legend\n",
    "# plt.legend()\n",
    "\n",
    "# Show plot\n",
    "plt.grid(True)\n",
    "plt.show()"
   ]
  },
  {
   "cell_type": "code",
   "execution_count": 104,
   "id": "c12feda6",
   "metadata": {},
   "outputs": [
    {
     "data": {
      "image/png": "[encoded data removed]",
      "text/plain": [
       "<Figure size 1200x1200 with 9 Axes>"
      ]
     },
     "metadata": {},
     "output_type": "display_data"
    }
   ],
   "source": [
    "# Create figure and subplots\n",
    "fig, axs = plt.subplots(3, 3, figsize=(12, 12))\n",
    "\n",
    "# Plot each column separately\n",
    "for i, col in enumerate(X_train.columns):\n",
    "    ax = axs[i // 3, i % 3]  # Calculate subplot position\n",
    "    ax.scatter(X_test[col], y_test)\n",
    "    ax.plot(X_test[col], new_gs_y_pred, color='red')\n",
    "    ax.set_title(col)\n",
    "\n",
    "plt.tight_layout()\n",
    "plt.show()"
   ]
  },
  {
   "cell_type": "code",
   "execution_count": 76,
   "id": "0ae0d94b",
   "metadata": {},
   "outputs": [
    {
     "data": {
      "text/plain": [
       "1105.0"
      ]
     },
     "execution_count": 76,
     "metadata": {},
     "output_type": "execute_result"
    }
   ],
   "source": [
    "y_test.min()"
   ]
  },
  {
   "cell_type": "markdown",
   "id": "e09ae0c6",
   "metadata": {},
   "source": [
    "### Function Parameter Extraction"
   ]
  },
  {
   "cell_type": "code",
   "execution_count": 32,
   "id": "f9fccdbf",
   "metadata": {},
   "outputs": [],
   "source": [
    "# Extract support vectors\n",
    "support_vectors = svr_rbf.support_vectors_\n",
    "\n",
    "# Extract dual coefficients (Lagrange multipliers)\n",
    "dual_coef = svr_rbf.dual_coef_\n",
    "\n",
    "# Extract intercept\n",
    "intercept = svr_rbf.intercept_\n",
    "\n",
    "# Extract kernel parameters\n",
    "kernel_params = svr_rbf.get_params()"
   ]
  },
  {
   "cell_type": "code",
   "execution_count": 34,
   "id": "87fe58c3",
   "metadata": {},
   "outputs": [
    {
     "name": "stdout",
     "output_type": "stream",
     "text": [
      "Support Vectors: [[ 1.96030109e-01  1.08809170e-03  2.66563465e-02 ... -5.77808533e-01\n",
      "   3.41153712e-01 -9.32645169e-01]\n",
      " [-5.80606895e-01 -3.76553557e-02 -9.12784604e-02 ... -5.77808533e-01\n",
      "  -1.40010249e-01  2.67524804e-01]\n",
      " [ 3.09109372e-01  2.01016521e-02  2.66563465e-02 ...  1.29438733e+00\n",
      "  -1.40010249e-01  6.18090083e-01]\n",
      " ...\n",
      " [-5.80606895e-01 -3.76553557e-02 -2.65159973e-02 ... -5.77808533e-01\n",
      "  -1.71592752e-01 -9.83684160e-01]\n",
      " [ 3.09109372e-01 -6.80173865e-02 -9.12784604e-02 ...  1.29438733e+00\n",
      "  -4.65249132e-02  3.12892629e-02]\n",
      " [-5.80606895e-01  1.05036766e-01  5.01235685e-03 ... -5.77808533e-01\n",
      "  -1.71592752e-01 -7.55611008e-02]]\n",
      "Dual Coefficients: [[-100.  100.  100. ...  100. -100. -100.]]\n",
      "Intercept: 9.075440402938002\n",
      "Kernel Parameters: {'C': 100, 'cache_size': 200, 'coef0': 0.0, 'degree': 3, 'epsilon': 0.1, 'gamma': 0.1, 'kernel': 'rbf', 'max_iter': -1, 'shrinking': True, 'tol': 0.001, 'verbose': False}\n"
     ]
    }
   ],
   "source": [
    "print(\"Support Vectors:\", support_vectors)\n",
    "print(\"Dual Coefficients:\", dual_coef)\n",
    "print(\"Intercept:\", intercept[0])\n",
    "print(\"Kernel Parameters:\", kernel_params)"
   ]
  },
  {
   "cell_type": "markdown",
   "id": "b3ee8040",
   "metadata": {},
   "source": [
    "From the results, we can idenfity that the intercept is 9.075440402938002. <br>\n",
    "The kernel parameters used are as such:\n",
    "<ul>\n",
    "    <li>C (Hyperparameter): 100</li>\n",
    "    <li>Cache Size: 200</li>\n",
    "    <li>Coefficient 0: 0</li>\n",
    "    <li>Degree: 3</li>\n",
    "    <li>Epsilon size: 0.1</li>\n",
    "    <li>Gamma: 0.1</li>\n",
    "    <li>Kernel used: Radial Basis Function (RBF)</li>\n",
    "    <li>Maximum iterations: -1</li>\n",
    "    <li>Shrinking: True</li>\n",
    "    <li>Tolerance for convergence (tol): 0.001</li>\n",
    "    <li>Verbose: False</li>\n",
    "</ul>"
   ]
  },
  {
   "cell_type": "code",
   "execution_count": 69,
   "id": "c1553fe0",
   "metadata": {},
   "outputs": [],
   "source": [
    "support_vectors_df = pd.DataFrame(support_vectors, columns=['sv_airline', 'sv_source_city', 'sv_departure_time', 'sv_stops',\n",
    "                                                            'sv_destination_city', 'sv_class', 'sv_days_left_binned',\n",
    "                                                            'sv_duration_sqrt_scaled'])\n",
    "\n",
    "dual_coef_df = pd.DataFrame({'dual_coef': dual_coef[0]})\n",
    "\n",
    "svr_measurements = pd.concat([support_vectors_df, dual_coef_df], axis=1)"
   ]
  },
  {
   "cell_type": "code",
   "execution_count": 72,
   "id": "2fd17d67",
   "metadata": {},
   "outputs": [
    {
     "data": {
      "text/html": [
       "<div>\n",
       "<style scoped>\n",
       "    .dataframe tbody tr th:only-of-type {\n",
       "        vertical-align: middle;\n",
       "    }\n",
       "\n",
       "    .dataframe tbody tr th {\n",
       "        vertical-align: top;\n",
       "    }\n",
       "\n",
       "    .dataframe thead th {\n",
       "        text-align: right;\n",
       "    }\n",
       "</style>\n",
       "<table border=\"1\" class=\"dataframe\">\n",
       "  <thead>\n",
       "    <tr style=\"text-align: right;\">\n",
       "      <th></th>\n",
       "      <th>sv_airline</th>\n",
       "      <th>sv_source_city</th>\n",
       "      <th>sv_departure_time</th>\n",
       "      <th>sv_stops</th>\n",
       "      <th>sv_destination_city</th>\n",
       "      <th>sv_class</th>\n",
       "      <th>sv_days_left_binned</th>\n",
       "      <th>sv_duration_sqrt_scaled</th>\n",
       "      <th>dual_coef</th>\n",
       "    </tr>\n",
       "  </thead>\n",
       "  <tbody>\n",
       "    <tr>\n",
       "      <th>0</th>\n",
       "      <td>0.196030</td>\n",
       "      <td>0.001088</td>\n",
       "      <td>0.026656</td>\n",
       "      <td>0.061277</td>\n",
       "      <td>0.073433</td>\n",
       "      <td>-0.577809</td>\n",
       "      <td>0.341154</td>\n",
       "      <td>-0.932645</td>\n",
       "      <td>-100.0</td>\n",
       "    </tr>\n",
       "    <tr>\n",
       "      <th>1</th>\n",
       "      <td>-0.580607</td>\n",
       "      <td>-0.037655</td>\n",
       "      <td>-0.091278</td>\n",
       "      <td>-0.273630</td>\n",
       "      <td>-0.078687</td>\n",
       "      <td>-0.577809</td>\n",
       "      <td>-0.140010</td>\n",
       "      <td>0.267525</td>\n",
       "      <td>100.0</td>\n",
       "    </tr>\n",
       "    <tr>\n",
       "      <th>2</th>\n",
       "      <td>0.309109</td>\n",
       "      <td>0.020102</td>\n",
       "      <td>0.026656</td>\n",
       "      <td>0.061277</td>\n",
       "      <td>0.009063</td>\n",
       "      <td>1.294387</td>\n",
       "      <td>-0.140010</td>\n",
       "      <td>0.618090</td>\n",
       "      <td>100.0</td>\n",
       "    </tr>\n",
       "    <tr>\n",
       "      <th>3</th>\n",
       "      <td>0.309109</td>\n",
       "      <td>-0.021865</td>\n",
       "      <td>0.086165</td>\n",
       "      <td>0.061277</td>\n",
       "      <td>0.025301</td>\n",
       "      <td>-0.577809</td>\n",
       "      <td>-0.171593</td>\n",
       "      <td>-2.103655</td>\n",
       "      <td>-100.0</td>\n",
       "    </tr>\n",
       "    <tr>\n",
       "      <th>4</th>\n",
       "      <td>-0.713457</td>\n",
       "      <td>-0.068017</td>\n",
       "      <td>-0.026516</td>\n",
       "      <td>0.061277</td>\n",
       "      <td>0.025301</td>\n",
       "      <td>-0.577809</td>\n",
       "      <td>-0.140010</td>\n",
       "      <td>-0.434495</td>\n",
       "      <td>-100.0</td>\n",
       "    </tr>\n",
       "  </tbody>\n",
       "</table>\n",
       "</div>"
      ],
      "text/plain": [
       "   sv_airline  sv_source_city  sv_departure_time  sv_stops  \\\n",
       "0    0.196030        0.001088           0.026656  0.061277   \n",
       "1   -0.580607       -0.037655          -0.091278 -0.273630   \n",
       "2    0.309109        0.020102           0.026656  0.061277   \n",
       "3    0.309109       -0.021865           0.086165  0.061277   \n",
       "4   -0.713457       -0.068017          -0.026516  0.061277   \n",
       "\n",
       "   sv_destination_city  sv_class  sv_days_left_binned  \\\n",
       "0             0.073433 -0.577809             0.341154   \n",
       "1            -0.078687 -0.577809            -0.140010   \n",
       "2             0.009063  1.294387            -0.140010   \n",
       "3             0.025301 -0.577809            -0.171593   \n",
       "4             0.025301 -0.577809            -0.140010   \n",
       "\n",
       "   sv_duration_sqrt_scaled  dual_coef  \n",
       "0                -0.932645     -100.0  \n",
       "1                 0.267525      100.0  \n",
       "2                 0.618090      100.0  \n",
       "3                -2.103655     -100.0  \n",
       "4                -0.434495     -100.0  "
      ]
     },
     "execution_count": 72,
     "metadata": {},
     "output_type": "execute_result"
    }
   ],
   "source": [
    "svr_measurements.head()"
   ]
  },
  {
   "cell_type": "markdown",
   "id": "89303087",
   "metadata": {},
   "source": [
    "### Predictor"
   ]
  },
  {
   "cell_type": "code",
   "execution_count": 2,
   "id": "5eb3bc94",
   "metadata": {},
   "outputs": [
    {
     "data": {
      "text/html": [
       "<div>\n",
       "<style scoped>\n",
       "    .dataframe tbody tr th:only-of-type {\n",
       "        vertical-align: middle;\n",
       "    }\n",
       "\n",
       "    .dataframe tbody tr th {\n",
       "        vertical-align: top;\n",
       "    }\n",
       "\n",
       "    .dataframe thead th {\n",
       "        text-align: right;\n",
       "    }\n",
       "</style>\n",
       "<table border=\"1\" class=\"dataframe\">\n",
       "  <thead>\n",
       "    <tr style=\"text-align: right;\">\n",
       "      <th></th>\n",
       "      <th>sv_airline</th>\n",
       "      <th>sv_source_city</th>\n",
       "      <th>sv_departure_time</th>\n",
       "      <th>sv_stops</th>\n",
       "      <th>sv_destination_city</th>\n",
       "      <th>sv_class</th>\n",
       "      <th>sv_days_left_binned</th>\n",
       "      <th>sv_duration_sqrt_scaled</th>\n",
       "      <th>dual_coef</th>\n",
       "    </tr>\n",
       "  </thead>\n",
       "  <tbody>\n",
       "    <tr>\n",
       "      <th>0</th>\n",
       "      <td>0.196030</td>\n",
       "      <td>0.001088</td>\n",
       "      <td>0.026656</td>\n",
       "      <td>0.061277</td>\n",
       "      <td>0.073433</td>\n",
       "      <td>-0.577809</td>\n",
       "      <td>0.341154</td>\n",
       "      <td>-0.932645</td>\n",
       "      <td>-100.0</td>\n",
       "    </tr>\n",
       "    <tr>\n",
       "      <th>1</th>\n",
       "      <td>-0.580607</td>\n",
       "      <td>-0.037655</td>\n",
       "      <td>-0.091278</td>\n",
       "      <td>-0.273630</td>\n",
       "      <td>-0.078687</td>\n",
       "      <td>-0.577809</td>\n",
       "      <td>-0.140010</td>\n",
       "      <td>0.267525</td>\n",
       "      <td>100.0</td>\n",
       "    </tr>\n",
       "    <tr>\n",
       "      <th>2</th>\n",
       "      <td>0.309109</td>\n",
       "      <td>0.020102</td>\n",
       "      <td>0.026656</td>\n",
       "      <td>0.061277</td>\n",
       "      <td>0.009063</td>\n",
       "      <td>1.294387</td>\n",
       "      <td>-0.140010</td>\n",
       "      <td>0.618090</td>\n",
       "      <td>100.0</td>\n",
       "    </tr>\n",
       "    <tr>\n",
       "      <th>3</th>\n",
       "      <td>0.309109</td>\n",
       "      <td>-0.021865</td>\n",
       "      <td>0.086165</td>\n",
       "      <td>0.061277</td>\n",
       "      <td>0.025301</td>\n",
       "      <td>-0.577809</td>\n",
       "      <td>-0.171593</td>\n",
       "      <td>-2.103655</td>\n",
       "      <td>-100.0</td>\n",
       "    </tr>\n",
       "    <tr>\n",
       "      <th>4</th>\n",
       "      <td>-0.713457</td>\n",
       "      <td>-0.068017</td>\n",
       "      <td>-0.026516</td>\n",
       "      <td>0.061277</td>\n",
       "      <td>0.025301</td>\n",
       "      <td>-0.577809</td>\n",
       "      <td>-0.140010</td>\n",
       "      <td>-0.434495</td>\n",
       "      <td>-100.0</td>\n",
       "    </tr>\n",
       "  </tbody>\n",
       "</table>\n",
       "</div>"
      ],
      "text/plain": [
       "   sv_airline  sv_source_city  sv_departure_time  sv_stops  \\\n",
       "0    0.196030        0.001088           0.026656  0.061277   \n",
       "1   -0.580607       -0.037655          -0.091278 -0.273630   \n",
       "2    0.309109        0.020102           0.026656  0.061277   \n",
       "3    0.309109       -0.021865           0.086165  0.061277   \n",
       "4   -0.713457       -0.068017          -0.026516  0.061277   \n",
       "\n",
       "   sv_destination_city  sv_class  sv_days_left_binned  \\\n",
       "0             0.073433 -0.577809             0.341154   \n",
       "1            -0.078687 -0.577809            -0.140010   \n",
       "2             0.009063  1.294387            -0.140010   \n",
       "3             0.025301 -0.577809            -0.171593   \n",
       "4             0.025301 -0.577809            -0.140010   \n",
       "\n",
       "   sv_duration_sqrt_scaled  dual_coef  \n",
       "0                -0.932645     -100.0  \n",
       "1                 0.267525      100.0  \n",
       "2                 0.618090      100.0  \n",
       "3                -2.103655     -100.0  \n",
       "4                -0.434495     -100.0  "
      ]
     },
     "execution_count": 2,
     "metadata": {},
     "output_type": "execute_result"
    }
   ],
   "source": [
    "measurements_dataset = pd.read_csv(\"../data/svr_results/svr_measurements.csv\", index_col=0)\n",
    "measurements_df = pd.DataFrame(measurements_dataset)\n",
    "measurements_df.head()"
   ]
  },
  {
   "cell_type": "code",
   "execution_count": 6,
   "id": "a6bca478",
   "metadata": {},
   "outputs": [],
   "source": [
    "sv = measurements_df.iloc[:,:8]\n",
    "dc = measurements_df[['dual_coef']]"
   ]
  },
  {
   "cell_type": "code",
   "execution_count": 75,
   "id": "a66afa26",
   "metadata": {},
   "outputs": [],
   "source": [
    "svr_measurements.to_csv(\"../data/svr_results/svr_measurements.csv\")"
   ]
  },
  {
   "cell_type": "code",
   "execution_count": 10,
   "id": "7f01ba30",
   "metadata": {},
   "outputs": [],
   "source": [
    "def svr_predictor(x):\n",
    "    # Initialize predicted values\n",
    "    y_pred = 0\n",
    "    \n",
    "    # Compute the contribution of each support vector to the prediction\n",
    "    for i in range(measurements_df.shape[0]):\n",
    "        # Compute the kernel function between the input x and the ith support vector\n",
    "        kernel_value = kernel_function(x, sv.loc[i])\n",
    "        \n",
    "        # Multiply the kernel value by the dual coefficient and add it to the prediction\n",
    "        y_pred += measurements_df.loc[i] * kernel_value\n",
    "    \n",
    "    # Add the intercept term to the prediction\n",
    "    y_pred += intercept\n",
    "    \n",
    "    return y_pred\n",
    "\n",
    "def kernel_function(x1, x2):\n",
    "    # Example: Radial Basis Function (RBF) kernel\n",
    "    gamma = 0.1  # Example gamma parameter\n",
    "    return np.exp(-gamma * np.linalg.norm(x1 - x2)**2)"
   ]
  },
  {
   "cell_type": "code",
   "execution_count": null,
   "id": "a1c54f5d",
   "metadata": {},
   "outputs": [],
   "source": [
    "X_input = [0.196030, 0.001088, 0.026656, 0.061277, 0.073433, -0.577809, 0.341154, -0.932645]\n",
    "y_output = svr_predictor(X_input)\n",
    "print(\"Predicted price: \", y_output)"
   ]
  },
  {
   "cell_type": "markdown",
   "id": "55c29008",
   "metadata": {},
   "source": [
    "<i>Still a work in progress</i>"
   ]
  },
  {
   "cell_type": "markdown",
   "id": "bd2d3c00",
   "metadata": {},
   "source": [
    "### Tuning"
   ]
  },
  {
   "cell_type": "code",
   "execution_count": 13,
   "id": "c974ad1f",
   "metadata": {},
   "outputs": [],
   "source": [
    "def evaluate_svr(kernel, C, epsilon, X_train, y_train, X_test, y_test):\n",
    "    # Initialize SVR model with current parameters\n",
    "    current_svr = SVR(kernel=kernel, C=C, epsilon=epsilon)\n",
    "    \n",
    "    # Fit SVR model on full training data\n",
    "    current_svr.fit(X_train, y_train)\n",
    "    \n",
    "    # Predictions on test set\n",
    "    y_pred = current_svr.predict(X_test)\n",
    "\n",
    "    # Parameters\n",
    "    print(\"Kernel:\", current_svr.kernel)\n",
    "    print(\"C:\", current_svr.C)\n",
    "    print(\"Epsilon:\", current_svr.epsilon)\n",
    "    \n",
    "    # Calculate evaluation metrics\n",
    "    r2 = r2_score(y_test, y_pred)\n",
    "    adjusted_r2 = 1 - (1 - r2) * (len(X_test) - 1) / (len(X_test) - len(X_test.columns) - 1)\n",
    "    mse = mean_squared_error(y_test, y_pred)\n",
    "    rmse = np.sqrt(mse)\n",
    "    mae = mean_absolute_error(y_test, y_pred)\n",
    "    mape = mean_absolute_percentage_error(y_test, y_pred)\n",
    "\n",
    "    print(\"R2:\", r2)\n",
    "    print(\"Adjusted R2:\", adjusted_r2)\n",
    "    print(\"MSE:\", mse)\n",
    "    print(\"RMSE:\", rmse)\n",
    "    print(\"MAE:\", mae)\n",
    "    print(\"MAPE:\", mape)\n",
    "    \n",
    "    return {'Kernel': kernel, 'C': C, 'Epsilon': epsilon,\n",
    "            'R2': r2, 'Adjusted_R2': adjusted_r2,\n",
    "            'MSE': mse, 'RMSE': rmse,\n",
    "            'MAE': mae, 'MAPE': mape}"
   ]
  },
  {
   "cell_type": "code",
   "execution_count": 16,
   "id": "9c5aaeaf",
   "metadata": {},
   "outputs": [
    {
     "name": "stdout",
     "output_type": "stream",
     "text": [
      "Kernel: rbf\n",
      "C: 90\n",
      "Epsilon: 0.001\n",
      "R2: 0.8607440162657682\n",
      "Adjusted R2: 0.860722819813096\n",
      "MSE: 70761496.2041963\n",
      "RMSE: 8411.9852712779\n",
      "MAE: 4865.904172806014\n",
      "MAPE: 0.4490452081786026\n"
     ]
    }
   ],
   "source": [
    "tune1 = evaluate_svr('rbf', 90, 0.001, X_train, y_train, X_test, y_test)"
   ]
  },
  {
   "cell_type": "code",
   "execution_count": 14,
   "id": "b80ea833",
   "metadata": {},
   "outputs": [
    {
     "name": "stdout",
     "output_type": "stream",
     "text": [
      "Kernel: rbf\n",
      "C: 90\n",
      "Epsilon: 0.01\n",
      "R2: 0.8609363714701596\n",
      "Adjusted R2: 0.8609152042962864\n",
      "MSE: 70663752.88501969\n",
      "RMSE: 8406.173498389127\n",
      "MAE: 4862.55647318859\n",
      "MAPE: 0.44775498981257034\n"
     ]
    }
   ],
   "source": [
    "tune2 = evaluate_svr('rbf', 90, 0.01, X_train, y_train, X_test, y_test)"
   ]
  },
  {
   "cell_type": "code",
   "execution_count": 17,
   "id": "344fe6bd",
   "metadata": {},
   "outputs": [
    {
     "name": "stdout",
     "output_type": "stream",
     "text": [
      "Kernel: rbf\n",
      "C: 90\n",
      "Epsilon: 0.1\n",
      "R2: 0.8609363633920171\n",
      "Adjusted R2: 0.8609151962169144\n",
      "MSE: 70663756.9898447\n",
      "RMSE: 8406.173742544504\n",
      "MAE: 4862.557119465351\n",
      "MAPE: 0.44775467289332893\n"
     ]
    }
   ],
   "source": [
    "tune3 = evaluate_svr('rbf', 90, 0.1, X_train, y_train, X_test, y_test)"
   ]
  },
  {
   "cell_type": "code",
   "execution_count": 18,
   "id": "1b4799e4",
   "metadata": {},
   "outputs": [
    {
     "name": "stdout",
     "output_type": "stream",
     "text": [
      "Kernel: rbf\n",
      "C: 100\n",
      "Epsilon: 0.001\n",
      "R2: 0.8616274254076313\n",
      "Adjusted R2: 0.8616063634205637\n",
      "MSE: 70312600.9326079\n",
      "RMSE: 8385.260934079983\n",
      "MAE: 4844.948945468808\n",
      "MAPE: 0.44661079389770114\n"
     ]
    }
   ],
   "source": [
    "tune4 = evaluate_svr('rbf', 100, 0.001, X_train, y_train, X_test, y_test)"
   ]
  },
  {
   "cell_type": "code",
   "execution_count": 19,
   "id": "8398ae88",
   "metadata": {},
   "outputs": [
    {
     "name": "stdout",
     "output_type": "stream",
     "text": [
      "Kernel: rbf\n",
      "C: 100\n",
      "Epsilon: 0.01\n",
      "R2: 0.8616274216086772\n",
      "Adjusted R2: 0.8616063596210314\n",
      "MSE: 70312602.86300732\n",
      "RMSE: 8385.261049186682\n",
      "MAE: 4844.948779634918\n",
      "MAPE: 0.4466107405967718\n"
     ]
    }
   ],
   "source": [
    "tune5 = evaluate_svr('rbf', 100, 0.01, X_train, y_train, X_test, y_test)"
   ]
  },
  {
   "cell_type": "code",
   "execution_count": 20,
   "id": "a4be5e9c",
   "metadata": {},
   "outputs": [
    {
     "name": "stdout",
     "output_type": "stream",
     "text": [
      "Kernel: rbf\n",
      "C: 100\n",
      "Epsilon: 0.1\n",
      "R2: 0.8616273752196051\n",
      "Adjusted R2: 0.8616063132248983\n",
      "MSE: 70312626.43513733\n",
      "RMSE: 8385.262454755804\n",
      "MAE: 4844.947019405328\n",
      "MAPE: 0.4466100720267404\n"
     ]
    }
   ],
   "source": [
    "tune6 = evaluate_svr('rbf', 100, 0.1, X_train, y_train, X_test, y_test)"
   ]
  },
  {
   "cell_type": "code",
   "execution_count": 21,
   "id": "278e03b0",
   "metadata": {},
   "outputs": [
    {
     "name": "stdout",
     "output_type": "stream",
     "text": [
      "Kernel: rbf\n",
      "C: 110\n",
      "Epsilon: 0.001\n",
      "R2: 0.8622133363278234\n",
      "Adjusted R2: 0.8621923635235167\n",
      "MSE: 70014876.32327047\n",
      "RMSE: 8367.489248470563\n",
      "MAE: 4830.386722214043\n",
      "MAPE: 0.4455277200786634\n"
     ]
    }
   ],
   "source": [
    "tune7 = evaluate_svr('rbf', 110, 0.001, X_train, y_train, X_test, y_test)"
   ]
  },
  {
   "cell_type": "code",
   "execution_count": 22,
   "id": "2856bfd9",
   "metadata": {},
   "outputs": [
    {
     "name": "stdout",
     "output_type": "stream",
     "text": [
      "Kernel: rbf\n",
      "C: 110\n",
      "Epsilon: 0.01\n",
      "R2: 0.8622133371638044\n",
      "Adjusted R2: 0.862192364359625\n",
      "MSE: 70014875.89847532\n",
      "RMSE: 8367.489223086894\n",
      "MAE: 4830.386632027131\n",
      "MAPE: 0.44552777501362456\n"
     ]
    }
   ],
   "source": [
    "tune8 = evaluate_svr('rbf', 110, 0.01, X_train, y_train, X_test, y_test)"
   ]
  },
  {
   "cell_type": "code",
   "execution_count": 23,
   "id": "89781be1",
   "metadata": {},
   "outputs": [
    {
     "name": "stdout",
     "output_type": "stream",
     "text": [
      "Kernel: rbf\n",
      "C: 110\n",
      "Epsilon: 0.1\n",
      "R2: 0.86221332880628\n",
      "Adjusted R2: 0.8621923560008283\n",
      "MSE: 70014880.14526543\n",
      "RMSE: 8367.48947685418\n",
      "MAE: 4830.386317420298\n",
      "MAPE: 0.4455281294233293\n"
     ]
    }
   ],
   "source": [
    "tune9 = evaluate_svr('rbf', 110, 0.1, X_train, y_train, X_test, y_test)"
   ]
  },
  {
   "cell_type": "code",
   "execution_count": 27,
   "id": "b73455af",
   "metadata": {},
   "outputs": [
    {
     "data": {
      "text/html": [
       "<div>\n",
       "<style scoped>\n",
       "    .dataframe tbody tr th:only-of-type {\n",
       "        vertical-align: middle;\n",
       "    }\n",
       "\n",
       "    .dataframe tbody tr th {\n",
       "        vertical-align: top;\n",
       "    }\n",
       "\n",
       "    .dataframe thead th {\n",
       "        text-align: right;\n",
       "    }\n",
       "</style>\n",
       "<table border=\"1\" class=\"dataframe\">\n",
       "  <thead>\n",
       "    <tr style=\"text-align: right;\">\n",
       "      <th></th>\n",
       "      <th>Kernel</th>\n",
       "      <th>C</th>\n",
       "      <th>Epsilon</th>\n",
       "      <th>R2</th>\n",
       "      <th>Adjusted_R2</th>\n",
       "      <th>MSE</th>\n",
       "      <th>RMSE</th>\n",
       "      <th>MAE</th>\n",
       "      <th>MAPE</th>\n",
       "    </tr>\n",
       "  </thead>\n",
       "  <tbody>\n",
       "    <tr>\n",
       "      <th>0</th>\n",
       "      <td>rbf</td>\n",
       "      <td>90</td>\n",
       "      <td>0.001</td>\n",
       "      <td>0.860744</td>\n",
       "      <td>0.860723</td>\n",
       "      <td>70761496.204196</td>\n",
       "      <td>8411.985271</td>\n",
       "      <td>4865.904173</td>\n",
       "      <td>0.449045</td>\n",
       "    </tr>\n",
       "    <tr>\n",
       "      <th>1</th>\n",
       "      <td>rbf</td>\n",
       "      <td>90</td>\n",
       "      <td>0.01</td>\n",
       "      <td>0.860936</td>\n",
       "      <td>0.860915</td>\n",
       "      <td>70663752.88502</td>\n",
       "      <td>8406.173498</td>\n",
       "      <td>4862.556473</td>\n",
       "      <td>0.447755</td>\n",
       "    </tr>\n",
       "    <tr>\n",
       "      <th>2</th>\n",
       "      <td>rbf</td>\n",
       "      <td>90</td>\n",
       "      <td>0.1</td>\n",
       "      <td>0.860936</td>\n",
       "      <td>0.860915</td>\n",
       "      <td>70663756.989845</td>\n",
       "      <td>8406.173743</td>\n",
       "      <td>4862.557119</td>\n",
       "      <td>0.447755</td>\n",
       "    </tr>\n",
       "    <tr>\n",
       "      <th>3</th>\n",
       "      <td>rbf</td>\n",
       "      <td>100</td>\n",
       "      <td>0.001</td>\n",
       "      <td>0.861627</td>\n",
       "      <td>0.861606</td>\n",
       "      <td>70312600.932608</td>\n",
       "      <td>8385.260934</td>\n",
       "      <td>4844.948945</td>\n",
       "      <td>0.446611</td>\n",
       "    </tr>\n",
       "    <tr>\n",
       "      <th>4</th>\n",
       "      <td>rbf</td>\n",
       "      <td>100</td>\n",
       "      <td>0.01</td>\n",
       "      <td>0.861627</td>\n",
       "      <td>0.861606</td>\n",
       "      <td>70312602.863007</td>\n",
       "      <td>8385.261049</td>\n",
       "      <td>4844.94878</td>\n",
       "      <td>0.446611</td>\n",
       "    </tr>\n",
       "    <tr>\n",
       "      <th>5</th>\n",
       "      <td>rbf</td>\n",
       "      <td>100</td>\n",
       "      <td>0.1</td>\n",
       "      <td>0.861627</td>\n",
       "      <td>0.861606</td>\n",
       "      <td>70312626.435137</td>\n",
       "      <td>8385.262455</td>\n",
       "      <td>4844.947019</td>\n",
       "      <td>0.44661</td>\n",
       "    </tr>\n",
       "    <tr>\n",
       "      <th>6</th>\n",
       "      <td>rbf</td>\n",
       "      <td>110</td>\n",
       "      <td>0.001</td>\n",
       "      <td>0.862213</td>\n",
       "      <td>0.862192</td>\n",
       "      <td>70014876.32327</td>\n",
       "      <td>8367.489248</td>\n",
       "      <td>4830.386722</td>\n",
       "      <td>0.445528</td>\n",
       "    </tr>\n",
       "    <tr>\n",
       "      <th>7</th>\n",
       "      <td>rbf</td>\n",
       "      <td>110</td>\n",
       "      <td>0.01</td>\n",
       "      <td>0.862213</td>\n",
       "      <td>0.862192</td>\n",
       "      <td>70014875.898475</td>\n",
       "      <td>8367.489223</td>\n",
       "      <td>4830.386632</td>\n",
       "      <td>0.445528</td>\n",
       "    </tr>\n",
       "    <tr>\n",
       "      <th>8</th>\n",
       "      <td>rbf</td>\n",
       "      <td>110</td>\n",
       "      <td>0.1</td>\n",
       "      <td>0.862213</td>\n",
       "      <td>0.862192</td>\n",
       "      <td>70014880.145265</td>\n",
       "      <td>8367.489477</td>\n",
       "      <td>4830.386317</td>\n",
       "      <td>0.445528</td>\n",
       "    </tr>\n",
       "  </tbody>\n",
       "</table>\n",
       "</div>"
      ],
      "text/plain": [
       "  Kernel    C Epsilon        R2 Adjusted_R2              MSE         RMSE  \\\n",
       "0    rbf   90   0.001  0.860744    0.860723  70761496.204196  8411.985271   \n",
       "1    rbf   90    0.01  0.860936    0.860915   70663752.88502  8406.173498   \n",
       "2    rbf   90     0.1  0.860936    0.860915  70663756.989845  8406.173743   \n",
       "3    rbf  100   0.001  0.861627    0.861606  70312600.932608  8385.260934   \n",
       "4    rbf  100    0.01  0.861627    0.861606  70312602.863007  8385.261049   \n",
       "5    rbf  100     0.1  0.861627    0.861606  70312626.435137  8385.262455   \n",
       "6    rbf  110   0.001  0.862213    0.862192   70014876.32327  8367.489248   \n",
       "7    rbf  110    0.01  0.862213    0.862192  70014875.898475  8367.489223   \n",
       "8    rbf  110     0.1  0.862213    0.862192  70014880.145265  8367.489477   \n",
       "\n",
       "           MAE      MAPE  \n",
       "0  4865.904173  0.449045  \n",
       "1  4862.556473  0.447755  \n",
       "2  4862.557119  0.447755  \n",
       "3  4844.948945  0.446611  \n",
       "4   4844.94878  0.446611  \n",
       "5  4844.947019   0.44661  \n",
       "6  4830.386722  0.445528  \n",
       "7  4830.386632  0.445528  \n",
       "8  4830.386317  0.445528  "
      ]
     },
     "execution_count": 27,
     "metadata": {},
     "output_type": "execute_result"
    }
   ],
   "source": [
    "tune_dict = {\n",
    "    '0': tune1,\n",
    "    '1': tune2,\n",
    "    '2': tune3,\n",
    "    '3': tune4,\n",
    "    '4': tune5,\n",
    "    '5': tune6,\n",
    "    '6': tune7,\n",
    "    '7': tune8,\n",
    "    '8': tune9\n",
    "}\n",
    "\n",
    "tune_df = pd.DataFrame(tune_dict)\n",
    "tune_df = tune_df.T\n",
    "tune_df.head(9)"
   ]
  },
  {
   "cell_type": "code",
   "execution_count": 45,
   "id": "13167002",
   "metadata": {},
   "outputs": [
    {
     "name": "stdout",
     "output_type": "stream",
     "text": [
      "Highest Adjusted R2:\n",
      " Kernel              rbf\n",
      "C                   110\n",
      "Epsilon            0.01\n",
      "Adjusted_R2    0.862192\n",
      "Name: 7, dtype: object \n",
      "\n",
      "Lowest RMSE:\n",
      " Kernel             rbf\n",
      "C                  110\n",
      "Epsilon           0.01\n",
      "RMSE       8367.489223\n",
      "Name: 7, dtype: object \n",
      "\n",
      "Lowest MAPE:\n",
      " Kernel          rbf\n",
      "C               110\n",
      "Epsilon       0.001\n",
      "MAPE       0.445528\n",
      "Name: 6, dtype: object \n",
      "\n"
     ]
    }
   ],
   "source": [
    "# Sort the tune_df DataFrame by Adjusted_R2 in descending order\n",
    "tune_df_sorted = tune_df[['Kernel', 'C', 'Epsilon', 'Adjusted_R2']].sort_values(by='Adjusted_R2', ascending=False)\n",
    "\n",
    "# Get the tune with the highest Adjusted_R2\n",
    "tune_highest_adjusted_r2 = tune_df_sorted.iloc[0]\n",
    "\n",
    "# Sort the tune_df DataFrame by RMSE in ascending order\n",
    "tune_df_sorted = tune_df[['Kernel', 'C', 'Epsilon', 'RMSE']].sort_values(by='RMSE', ascending=True)\n",
    "\n",
    "# Get the tune with the lowest RMSE\n",
    "tune_lowest_rmse = tune_df_sorted.iloc[0]\n",
    "\n",
    "# Sort the tune_df DataFrame by MAPE in ascending order\n",
    "tune_df_sorted = tune_df[['Kernel', 'C', 'Epsilon', 'MAPE']].sort_values(by='MAPE', ascending=True)\n",
    "\n",
    "# Get the tune with the lowest MAPE\n",
    "tune_lowest_mape = tune_df_sorted.iloc[0]\n",
    "\n",
    "print(\"Highest Adjusted R2:\\n\", tune_highest_adjusted_r2, \"\\n\")\n",
    "print(\"Lowest RMSE:\\n\", tune_lowest_rmse, \"\\n\")\n",
    "print(\"Lowest MAPE:\\n\", tune_lowest_mape, \"\\n\")\n"
   ]
  },
  {
   "cell_type": "markdown",
   "id": "d836fcf2",
   "metadata": {},
   "source": [
    "For now it seems as though the higher the C, the better the scores. <br>\n",
    "However, the MAPE prefers a lower Epsilon value, while the Adjusted R2 is working with a higher one. <br>\n",
    "RMSE also worsens when Epsilon 0.1 is used."
   ]
  },
  {
   "cell_type": "markdown",
   "id": "241d6b51",
   "metadata": {},
   "source": [
    "Proceed to further tune the C with larger values, and Eplison within the range of 0.01 to 0.1. <br>\n",
    "The results will be added onto the tunes_df. <br>\n",
    "We will observe the fitting of bins of 3. With C: 120 to 160, and Eplison: 0.01 to 0.1."
   ]
  },
  {
   "cell_type": "code",
   "execution_count": 46,
   "id": "41c30187",
   "metadata": {},
   "outputs": [
    {
     "name": "stdout",
     "output_type": "stream",
     "text": [
      "Kernel: rbf\n",
      "C: 120\n",
      "Epsilon: 0.001\n",
      "R2: 0.862714720337839\n",
      "Adjusted R2: 0.8626938238502704\n",
      "MSE: 69760103.19417267\n",
      "RMSE: 8352.251384756846\n",
      "MAE: 4818.039850933099\n",
      "MAPE: 0.4447137439242315\n"
     ]
    }
   ],
   "source": [
    "next_tune1 = evaluate_svr('rbf', 120, 0.001, X_train, y_train, X_test, y_test)"
   ]
  },
  {
   "cell_type": "code",
   "execution_count": 47,
   "id": "49afc34b",
   "metadata": {},
   "outputs": [
    {
     "name": "stdout",
     "output_type": "stream",
     "text": [
      "Kernel: rbf\n",
      "C: 120\n",
      "Epsilon: 0.004\n",
      "R2: 0.8627147193990943\n",
      "Adjusted R2: 0.8626938229113827\n",
      "MSE: 69760103.67118618\n",
      "RMSE: 8352.251413312832\n",
      "MAE: 4818.039834411187\n",
      "MAPE: 0.4447137260166029\n"
     ]
    }
   ],
   "source": [
    "next_tune2 = evaluate_svr('rbf', 120, 0.004, X_train, y_train, X_test, y_test)"
   ]
  },
  {
   "cell_type": "code",
   "execution_count": 48,
   "id": "8c9becbe",
   "metadata": {},
   "outputs": [
    {
     "name": "stdout",
     "output_type": "stream",
     "text": [
      "Kernel: rbf\n",
      "C: 120\n",
      "Epsilon: 0.007\n",
      "R2: 0.8627147194605413\n",
      "Adjusted R2: 0.8626938229728391\n",
      "MSE: 69760103.63996245\n",
      "RMSE: 8352.25141144365\n",
      "MAE: 4818.0398283451295\n",
      "MAPE: 0.4447136936250691\n"
     ]
    }
   ],
   "source": [
    "next_tune3 = evaluate_svr('rbf', 120, 0.007, X_train, y_train, X_test, y_test)"
   ]
  },
  {
   "cell_type": "code",
   "execution_count": 49,
   "id": "552c0767",
   "metadata": {},
   "outputs": [
    {
     "name": "stdout",
     "output_type": "stream",
     "text": [
      "Kernel: rbf\n",
      "C: 120\n",
      "Epsilon: 0.01\n",
      "R2: 0.8627147179346057\n",
      "Adjusted R2: 0.8626938214466713\n",
      "MSE: 69760104.41535094\n",
      "RMSE: 8352.251457861583\n",
      "MAE: 4818.039822014875\n",
      "MAPE: 0.44471367977828846\n"
     ]
    }
   ],
   "source": [
    "next_tune4 = evaluate_svr('rbf', 120, 0.01, X_train, y_train, X_test, y_test)"
   ]
  },
  {
   "cell_type": "code",
   "execution_count": 50,
   "id": "9b21e141",
   "metadata": {},
   "outputs": [
    {
     "name": "stdout",
     "output_type": "stream",
     "text": [
      "Kernel: rbf\n",
      "C: 140\n",
      "Epsilon: 0.001\n",
      "R2: 0.8635750219147837\n",
      "Adjusted R2: 0.8635542563755677\n",
      "MSE: 69322949.79408883\n",
      "RMSE: 8326.04046315467\n",
      "MAE: 4797.54678719618\n",
      "MAPE: 0.44310010493811375\n"
     ]
    }
   ],
   "source": [
    "next_tune5 = evaluate_svr('rbf', 140, 0.001, X_train, y_train, X_test, y_test)"
   ]
  },
  {
   "cell_type": "code",
   "execution_count": 51,
   "id": "595d7bf0",
   "metadata": {},
   "outputs": [
    {
     "name": "stdout",
     "output_type": "stream",
     "text": [
      "Kernel: rbf\n",
      "C: 140\n",
      "Epsilon: 0.004\n",
      "R2: 0.8635750240967301\n",
      "Adjusted R2: 0.8635542585578462\n",
      "MSE: 69322948.6853552\n",
      "RMSE: 8326.040396572384\n",
      "MAE: 4797.5467873372545\n",
      "MAPE: 0.4431001337056642\n"
     ]
    }
   ],
   "source": [
    "next_tune6 = evaluate_svr('rbf', 140, 0.004, X_train, y_train, X_test, y_test)"
   ]
  },
  {
   "cell_type": "code",
   "execution_count": 52,
   "id": "b060be62",
   "metadata": {},
   "outputs": [
    {
     "name": "stdout",
     "output_type": "stream",
     "text": [
      "Kernel: rbf\n",
      "C: 140\n",
      "Epsilon: 0.007\n",
      "R2: 0.8635750259304076\n",
      "Adjusted R2: 0.8635542603918027\n",
      "MSE: 69322947.75359088\n",
      "RMSE: 8326.040340617554\n",
      "MAE: 4797.546790463158\n",
      "MAPE: 0.4431001618059727\n"
     ]
    }
   ],
   "source": [
    "next_tune7 = evaluate_svr('rbf', 140, 0.007, X_train, y_train, X_test, y_test)"
   ]
  },
  {
   "cell_type": "code",
   "execution_count": 53,
   "id": "19eea486",
   "metadata": {},
   "outputs": [
    {
     "name": "stdout",
     "output_type": "stream",
     "text": [
      "Kernel: rbf\n",
      "C: 140\n",
      "Epsilon: 0.01\n",
      "R2: 0.8635750277801221\n",
      "Adjusted R2: 0.8635542622417988\n",
      "MSE: 69322946.81367747\n",
      "RMSE: 8326.040284173352\n",
      "MAE: 4797.546796151698\n",
      "MAPE: 0.443100189710505\n"
     ]
    }
   ],
   "source": [
    "next_tune8 = evaluate_svr('rbf', 140, 0.01, X_train, y_train, X_test, y_test)"
   ]
  },
  {
   "cell_type": "code",
   "execution_count": 54,
   "id": "9c652910",
   "metadata": {},
   "outputs": [
    {
     "name": "stdout",
     "output_type": "stream",
     "text": [
      "Kernel: rbf\n",
      "C: 160\n",
      "Epsilon: 0.001\n",
      "R2: 0.864299011961666\n",
      "Adjusted R2: 0.8642783566225315\n",
      "MSE: 68955061.69635284\n",
      "RMSE: 8303.91845434147\n",
      "MAE: 4781.418428348253\n",
      "MAPE: 0.4415844929034858\n"
     ]
    }
   ],
   "source": [
    "next_tune9 = evaluate_svr('rbf', 160, 0.001, X_train, y_train, X_test, y_test)"
   ]
  },
  {
   "cell_type": "code",
   "execution_count": 55,
   "id": "9f753a90",
   "metadata": {},
   "outputs": [
    {
     "name": "stdout",
     "output_type": "stream",
     "text": [
      "Kernel: rbf\n",
      "C: 160\n",
      "Epsilon: 0.004\n",
      "R2: 0.8642990098579363\n",
      "Adjusted R2: 0.8642783545184816\n",
      "MSE: 68955062.76534149\n",
      "RMSE: 8303.91851870799\n",
      "MAE: 4781.418446682779\n",
      "MAPE: 0.4415844758995709\n"
     ]
    }
   ],
   "source": [
    "next_tune10 = evaluate_svr('rbf', 160, 0.004, X_train, y_train, X_test, y_test)"
   ]
  },
  {
   "cell_type": "code",
   "execution_count": 56,
   "id": "42bbfcc3",
   "metadata": {},
   "outputs": [
    {
     "name": "stdout",
     "output_type": "stream",
     "text": [
      "Kernel: rbf\n",
      "C: 160\n",
      "Epsilon: 0.007\n",
      "R2: 0.8642990072362635\n",
      "Adjusted R2: 0.8642783518964098\n",
      "MSE: 68955064.09751755\n",
      "RMSE: 8303.91859892169\n",
      "MAE: 4781.418473126304\n",
      "MAPE: 0.4415844571725034\n"
     ]
    }
   ],
   "source": [
    "next_tune11 = evaluate_svr('rbf', 160, 0.007, X_train, y_train, X_test, y_test)"
   ]
  },
  {
   "cell_type": "code",
   "execution_count": 57,
   "id": "71130692",
   "metadata": {},
   "outputs": [
    {
     "name": "stdout",
     "output_type": "stream",
     "text": [
      "Kernel: rbf\n",
      "C: 160\n",
      "Epsilon: 0.01\n",
      "R2: 0.8642990046574134\n",
      "Adjusted R2: 0.8642783493171671\n",
      "MSE: 68955065.40793371\n",
      "RMSE: 8303.91867782517\n",
      "MAE: 4781.418487191129\n",
      "MAPE: 0.441584435239143\n"
     ]
    }
   ],
   "source": [
    "next_tune12 = evaluate_svr('rbf', 160, 0.01, X_train, y_train, X_test, y_test)"
   ]
  },
  {
   "cell_type": "code",
   "execution_count": 58,
   "id": "05ac0db0",
   "metadata": {},
   "outputs": [
    {
     "data": {
      "text/html": [
       "<div>\n",
       "<style scoped>\n",
       "    .dataframe tbody tr th:only-of-type {\n",
       "        vertical-align: middle;\n",
       "    }\n",
       "\n",
       "    .dataframe tbody tr th {\n",
       "        vertical-align: top;\n",
       "    }\n",
       "\n",
       "    .dataframe thead th {\n",
       "        text-align: right;\n",
       "    }\n",
       "</style>\n",
       "<table border=\"1\" class=\"dataframe\">\n",
       "  <thead>\n",
       "    <tr style=\"text-align: right;\">\n",
       "      <th></th>\n",
       "      <th>Kernel</th>\n",
       "      <th>C</th>\n",
       "      <th>Epsilon</th>\n",
       "      <th>R2</th>\n",
       "      <th>Adjusted_R2</th>\n",
       "      <th>MSE</th>\n",
       "      <th>RMSE</th>\n",
       "      <th>MAE</th>\n",
       "      <th>MAPE</th>\n",
       "    </tr>\n",
       "  </thead>\n",
       "  <tbody>\n",
       "    <tr>\n",
       "      <th>0</th>\n",
       "      <td>rbf</td>\n",
       "      <td>120</td>\n",
       "      <td>0.001</td>\n",
       "      <td>0.862715</td>\n",
       "      <td>0.862694</td>\n",
       "      <td>69760103.194173</td>\n",
       "      <td>8352.251385</td>\n",
       "      <td>4818.039851</td>\n",
       "      <td>0.444714</td>\n",
       "    </tr>\n",
       "    <tr>\n",
       "      <th>1</th>\n",
       "      <td>rbf</td>\n",
       "      <td>120</td>\n",
       "      <td>0.004</td>\n",
       "      <td>0.862715</td>\n",
       "      <td>0.862694</td>\n",
       "      <td>69760103.671186</td>\n",
       "      <td>8352.251413</td>\n",
       "      <td>4818.039834</td>\n",
       "      <td>0.444714</td>\n",
       "    </tr>\n",
       "    <tr>\n",
       "      <th>2</th>\n",
       "      <td>rbf</td>\n",
       "      <td>120</td>\n",
       "      <td>0.007</td>\n",
       "      <td>0.862715</td>\n",
       "      <td>0.862694</td>\n",
       "      <td>69760103.639962</td>\n",
       "      <td>8352.251411</td>\n",
       "      <td>4818.039828</td>\n",
       "      <td>0.444714</td>\n",
       "    </tr>\n",
       "    <tr>\n",
       "      <th>3</th>\n",
       "      <td>rbf</td>\n",
       "      <td>120</td>\n",
       "      <td>0.01</td>\n",
       "      <td>0.862715</td>\n",
       "      <td>0.862694</td>\n",
       "      <td>69760104.415351</td>\n",
       "      <td>8352.251458</td>\n",
       "      <td>4818.039822</td>\n",
       "      <td>0.444714</td>\n",
       "    </tr>\n",
       "    <tr>\n",
       "      <th>4</th>\n",
       "      <td>rbf</td>\n",
       "      <td>140</td>\n",
       "      <td>0.001</td>\n",
       "      <td>0.863575</td>\n",
       "      <td>0.863554</td>\n",
       "      <td>69322949.794089</td>\n",
       "      <td>8326.040463</td>\n",
       "      <td>4797.546787</td>\n",
       "      <td>0.4431</td>\n",
       "    </tr>\n",
       "    <tr>\n",
       "      <th>5</th>\n",
       "      <td>rbf</td>\n",
       "      <td>140</td>\n",
       "      <td>0.004</td>\n",
       "      <td>0.863575</td>\n",
       "      <td>0.863554</td>\n",
       "      <td>69322948.685355</td>\n",
       "      <td>8326.040397</td>\n",
       "      <td>4797.546787</td>\n",
       "      <td>0.4431</td>\n",
       "    </tr>\n",
       "    <tr>\n",
       "      <th>6</th>\n",
       "      <td>rbf</td>\n",
       "      <td>140</td>\n",
       "      <td>0.007</td>\n",
       "      <td>0.863575</td>\n",
       "      <td>0.863554</td>\n",
       "      <td>69322947.753591</td>\n",
       "      <td>8326.040341</td>\n",
       "      <td>4797.54679</td>\n",
       "      <td>0.4431</td>\n",
       "    </tr>\n",
       "    <tr>\n",
       "      <th>7</th>\n",
       "      <td>rbf</td>\n",
       "      <td>140</td>\n",
       "      <td>0.01</td>\n",
       "      <td>0.863575</td>\n",
       "      <td>0.863554</td>\n",
       "      <td>69322946.813677</td>\n",
       "      <td>8326.040284</td>\n",
       "      <td>4797.546796</td>\n",
       "      <td>0.4431</td>\n",
       "    </tr>\n",
       "    <tr>\n",
       "      <th>8</th>\n",
       "      <td>rbf</td>\n",
       "      <td>160</td>\n",
       "      <td>0.001</td>\n",
       "      <td>0.864299</td>\n",
       "      <td>0.864278</td>\n",
       "      <td>68955061.696353</td>\n",
       "      <td>8303.918454</td>\n",
       "      <td>4781.418428</td>\n",
       "      <td>0.441584</td>\n",
       "    </tr>\n",
       "    <tr>\n",
       "      <th>9</th>\n",
       "      <td>rbf</td>\n",
       "      <td>160</td>\n",
       "      <td>0.004</td>\n",
       "      <td>0.864299</td>\n",
       "      <td>0.864278</td>\n",
       "      <td>68955062.765341</td>\n",
       "      <td>8303.918519</td>\n",
       "      <td>4781.418447</td>\n",
       "      <td>0.441584</td>\n",
       "    </tr>\n",
       "    <tr>\n",
       "      <th>10</th>\n",
       "      <td>rbf</td>\n",
       "      <td>160</td>\n",
       "      <td>0.007</td>\n",
       "      <td>0.864299</td>\n",
       "      <td>0.864278</td>\n",
       "      <td>68955064.097518</td>\n",
       "      <td>8303.918599</td>\n",
       "      <td>4781.418473</td>\n",
       "      <td>0.441584</td>\n",
       "    </tr>\n",
       "    <tr>\n",
       "      <th>11</th>\n",
       "      <td>rbf</td>\n",
       "      <td>160</td>\n",
       "      <td>0.01</td>\n",
       "      <td>0.864299</td>\n",
       "      <td>0.864278</td>\n",
       "      <td>68955065.407934</td>\n",
       "      <td>8303.918678</td>\n",
       "      <td>4781.418487</td>\n",
       "      <td>0.441584</td>\n",
       "    </tr>\n",
       "  </tbody>\n",
       "</table>\n",
       "</div>"
      ],
      "text/plain": [
       "   Kernel    C Epsilon        R2 Adjusted_R2              MSE         RMSE  \\\n",
       "0     rbf  120   0.001  0.862715    0.862694  69760103.194173  8352.251385   \n",
       "1     rbf  120   0.004  0.862715    0.862694  69760103.671186  8352.251413   \n",
       "2     rbf  120   0.007  0.862715    0.862694  69760103.639962  8352.251411   \n",
       "3     rbf  120    0.01  0.862715    0.862694  69760104.415351  8352.251458   \n",
       "4     rbf  140   0.001  0.863575    0.863554  69322949.794089  8326.040463   \n",
       "5     rbf  140   0.004  0.863575    0.863554  69322948.685355  8326.040397   \n",
       "6     rbf  140   0.007  0.863575    0.863554  69322947.753591  8326.040341   \n",
       "7     rbf  140    0.01  0.863575    0.863554  69322946.813677  8326.040284   \n",
       "8     rbf  160   0.001  0.864299    0.864278  68955061.696353  8303.918454   \n",
       "9     rbf  160   0.004  0.864299    0.864278  68955062.765341  8303.918519   \n",
       "10    rbf  160   0.007  0.864299    0.864278  68955064.097518  8303.918599   \n",
       "11    rbf  160    0.01  0.864299    0.864278  68955065.407934  8303.918678   \n",
       "\n",
       "            MAE      MAPE  \n",
       "0   4818.039851  0.444714  \n",
       "1   4818.039834  0.444714  \n",
       "2   4818.039828  0.444714  \n",
       "3   4818.039822  0.444714  \n",
       "4   4797.546787    0.4431  \n",
       "5   4797.546787    0.4431  \n",
       "6    4797.54679    0.4431  \n",
       "7   4797.546796    0.4431  \n",
       "8   4781.418428  0.441584  \n",
       "9   4781.418447  0.441584  \n",
       "10  4781.418473  0.441584  \n",
       "11  4781.418487  0.441584  "
      ]
     },
     "execution_count": 58,
     "metadata": {},
     "output_type": "execute_result"
    }
   ],
   "source": [
    "next_tune_dict = {\n",
    "    '0': next_tune1,\n",
    "    '1': next_tune2,\n",
    "    '2': next_tune3,\n",
    "    '3': next_tune4,\n",
    "    '4': next_tune5,\n",
    "    '5': next_tune6,\n",
    "    '6': next_tune7,\n",
    "    '7': next_tune8,\n",
    "    '8': next_tune9,\n",
    "    '9': next_tune10,\n",
    "    '10': next_tune11,\n",
    "    '11': next_tune12\n",
    "}\n",
    "\n",
    "next_tune_df = pd.DataFrame(next_tune_dict)\n",
    "next_tune_df = next_tune_df.T\n",
    "next_tune_df.head(12)"
   ]
  },
  {
   "cell_type": "code",
   "execution_count": 59,
   "id": "4075059a",
   "metadata": {},
   "outputs": [
    {
     "name": "stdout",
     "output_type": "stream",
     "text": [
      "Highest Adjusted R2:\n",
      " Kernel              rbf\n",
      "C                   160\n",
      "Epsilon           0.001\n",
      "Adjusted_R2    0.864278\n",
      "Name: 8, dtype: object \n",
      "\n",
      "Lowest RMSE:\n",
      " Kernel             rbf\n",
      "C                  160\n",
      "Epsilon          0.001\n",
      "RMSE       8303.918454\n",
      "Name: 8, dtype: object \n",
      "\n",
      "Lowest MAPE:\n",
      " Kernel          rbf\n",
      "C               160\n",
      "Epsilon        0.01\n",
      "MAPE       0.441584\n",
      "Name: 11, dtype: object \n",
      "\n"
     ]
    }
   ],
   "source": [
    "# Sort the tune_df DataFrame by Adjusted_R2 in descending order\n",
    "next_tune_df_sorted = next_tune_df[['Kernel', 'C', 'Epsilon', 'Adjusted_R2']].sort_values(by='Adjusted_R2', ascending=False)\n",
    "\n",
    "# Get the tune with the highest Adjusted_R2\n",
    "next_tune_highest_adjusted_r2 = next_tune_df_sorted.iloc[0]\n",
    "\n",
    "# Sort the tune_df DataFrame by RMSE in ascending order\n",
    "next_tune_df_sorted = next_tune_df[['Kernel', 'C', 'Epsilon', 'RMSE']].sort_values(by='RMSE', ascending=True)\n",
    "\n",
    "# Get the tune with the lowest RMSE\n",
    "next_tune_lowest_rmse = next_tune_df_sorted.iloc[0]\n",
    "\n",
    "# Sort the tune_df DataFrame by MAPE in ascending order\n",
    "next_tune_df_sorted = next_tune_df[['Kernel', 'C', 'Epsilon', 'MAPE']].sort_values(by='MAPE', ascending=True)\n",
    "\n",
    "# Get the tune with the lowest MAPE\n",
    "next_tune_lowest_mape = next_tune_df_sorted.iloc[0]\n",
    "\n",
    "print(\"Highest Adjusted R2:\\n\", next_tune_highest_adjusted_r2, \"\\n\")\n",
    "print(\"Lowest RMSE:\\n\", next_tune_lowest_rmse, \"\\n\")\n",
    "print(\"Lowest MAPE:\\n\", next_tune_lowest_mape, \"\\n\")"
   ]
  },
  {
   "cell_type": "markdown",
   "id": "7d9118cf",
   "metadata": {},
   "source": [
    "Not properly reflected here, the best parameters across the board based on next_tune_df is 'rbf' with C=160 and Epsilon=0.001. <br>\n",
    "C can be further explored with larger ranges to obtain a higher Adjusted R2."
   ]
  },
  {
   "cell_type": "code",
   "execution_count": 60,
   "id": "940630c4",
   "metadata": {},
   "outputs": [
    {
     "name": "stdout",
     "output_type": "stream",
     "text": [
      "Kernel: rbf\n",
      "C: 200\n",
      "Epsilon: 0.001\n",
      "R2: 0.8653287910058052\n",
      "Adjusted R2: 0.8653082924115529\n",
      "MSE: 68431790.06400362\n",
      "RMSE: 8272.350939364433\n",
      "MAE: 4756.098715581897\n",
      "MAPE: 0.4391850465549672\n"
     ]
    }
   ],
   "source": [
    "next2_tune1 = evaluate_svr('rbf', 200, 0.001, X_train, y_train, X_test, y_test)"
   ]
  },
  {
   "cell_type": "code",
   "execution_count": 61,
   "id": "43337bca",
   "metadata": {},
   "outputs": [
    {
     "name": "stdout",
     "output_type": "stream",
     "text": [
      "Kernel: rbf\n",
      "C: 240\n",
      "Epsilon: 0.001\n",
      "R2: 0.8661198405452635\n",
      "Adjusted R2: 0.8660994623583623\n",
      "MSE: 68029826.37466913\n",
      "RMSE: 8248.019542573184\n",
      "MAE: 4737.339401286908\n",
      "MAPE: 0.43730584091949753\n"
     ]
    }
   ],
   "source": [
    "next2_tune2 = evaluate_svr('rbf', 240, 0.001, X_train, y_train, X_test, y_test)"
   ]
  },
  {
   "cell_type": "code",
   "execution_count": 62,
   "id": "8724ddb6",
   "metadata": {},
   "outputs": [
    {
     "name": "stdout",
     "output_type": "stream",
     "text": [
      "Kernel: rbf\n",
      "C: 240\n",
      "Epsilon: 0.001\n",
      "R2: 0.8661198405452635\n",
      "Adjusted R2: 0.8660994623583623\n",
      "MSE: 68029826.37466913\n",
      "RMSE: 8248.019542573184\n",
      "MAE: 4737.339401286908\n",
      "MAPE: 0.43730584091949753\n"
     ]
    }
   ],
   "source": [
    "next2_tune3 = evaluate_svr('rbf', 240, 0.001, X_train, y_train, X_test, y_test)"
   ]
  },
  {
   "cell_type": "code",
   "execution_count": 63,
   "id": "ef5a1e3c",
   "metadata": {},
   "outputs": [
    {
     "name": "stdout",
     "output_type": "stream",
     "text": [
      "Kernel: rbf\n",
      "C: 280\n",
      "Epsilon: 0.001\n",
      "R2: 0.8667822689505873\n",
      "Adjusted R2: 0.8667619915933379\n",
      "MSE: 67693220.19206998\n",
      "RMSE: 8227.588965916442\n",
      "MAE: 4722.660520798381\n",
      "MAPE: 0.435581599162979\n"
     ]
    }
   ],
   "source": [
    "next2_tune4 = evaluate_svr('rbf', 280, 0.001, X_train, y_train, X_test, y_test)"
   ]
  },
  {
   "cell_type": "code",
   "execution_count": 64,
   "id": "67404765",
   "metadata": {},
   "outputs": [
    {
     "name": "stdout",
     "output_type": "stream",
     "text": [
      "Kernel: rbf\n",
      "C: 320\n",
      "Epsilon: 0.001\n",
      "R2: 0.867341253469053\n",
      "Adjusted R2: 0.8673210611960389\n",
      "MSE: 67409177.9568932\n",
      "RMSE: 8210.309248554113\n",
      "MAE: 4710.254967048092\n",
      "MAPE: 0.4340617735059864\n"
     ]
    }
   ],
   "source": [
    "next2_tune5 = evaluate_svr('rbf', 320, 0.001, X_train, y_train, X_test, y_test)"
   ]
  },
  {
   "cell_type": "code",
   "execution_count": 65,
   "id": "8cde486c",
   "metadata": {},
   "outputs": [
    {
     "name": "stdout",
     "output_type": "stream",
     "text": [
      "Kernel: rbf\n",
      "C: 360\n",
      "Epsilon: 0.001\n",
      "R2: 0.8678159901741312\n",
      "Adjusted R2: 0.8677958701618117\n",
      "MSE: 67167945.38179249\n",
      "RMSE: 8195.605248045595\n",
      "MAE: 4699.7420225579\n",
      "MAPE: 0.4328113991915857\n"
     ]
    }
   ],
   "source": [
    "next2_tune6 = evaluate_svr('rbf', 360, 0.001, X_train, y_train, X_test, y_test)"
   ]
  },
  {
   "cell_type": "code",
   "execution_count": 66,
   "id": "b7f1e1a9",
   "metadata": {},
   "outputs": [
    {
     "name": "stdout",
     "output_type": "stream",
     "text": [
      "Kernel: rbf\n",
      "C: 400\n",
      "Epsilon: 0.001\n",
      "R2: 0.8682223873493188\n",
      "Adjusted R2: 0.8682023291955869\n",
      "MSE: 66961438.83608949\n",
      "RMSE: 8182.996934869858\n",
      "MAE: 4691.047154777088\n",
      "MAPE: 0.43158810150167304\n"
     ]
    }
   ],
   "source": [
    "next2_tune7 = evaluate_svr('rbf', 400, 0.001, X_train, y_train, X_test, y_test)"
   ]
  },
  {
   "cell_type": "code",
   "execution_count": 67,
   "id": "f3bb5c62",
   "metadata": {},
   "outputs": [
    {
     "data": {
      "text/html": [
       "<div>\n",
       "<style scoped>\n",
       "    .dataframe tbody tr th:only-of-type {\n",
       "        vertical-align: middle;\n",
       "    }\n",
       "\n",
       "    .dataframe tbody tr th {\n",
       "        vertical-align: top;\n",
       "    }\n",
       "\n",
       "    .dataframe thead th {\n",
       "        text-align: right;\n",
       "    }\n",
       "</style>\n",
       "<table border=\"1\" class=\"dataframe\">\n",
       "  <thead>\n",
       "    <tr style=\"text-align: right;\">\n",
       "      <th></th>\n",
       "      <th>Kernel</th>\n",
       "      <th>C</th>\n",
       "      <th>Epsilon</th>\n",
       "      <th>R2</th>\n",
       "      <th>Adjusted_R2</th>\n",
       "      <th>MSE</th>\n",
       "      <th>RMSE</th>\n",
       "      <th>MAE</th>\n",
       "      <th>MAPE</th>\n",
       "    </tr>\n",
       "  </thead>\n",
       "  <tbody>\n",
       "    <tr>\n",
       "      <th>0</th>\n",
       "      <td>rbf</td>\n",
       "      <td>200</td>\n",
       "      <td>0.001</td>\n",
       "      <td>0.865329</td>\n",
       "      <td>0.865308</td>\n",
       "      <td>68431790.064004</td>\n",
       "      <td>8272.350939</td>\n",
       "      <td>4756.098716</td>\n",
       "      <td>0.439185</td>\n",
       "    </tr>\n",
       "    <tr>\n",
       "      <th>1</th>\n",
       "      <td>rbf</td>\n",
       "      <td>240</td>\n",
       "      <td>0.001</td>\n",
       "      <td>0.86612</td>\n",
       "      <td>0.866099</td>\n",
       "      <td>68029826.374669</td>\n",
       "      <td>8248.019543</td>\n",
       "      <td>4737.339401</td>\n",
       "      <td>0.437306</td>\n",
       "    </tr>\n",
       "    <tr>\n",
       "      <th>2</th>\n",
       "      <td>rbf</td>\n",
       "      <td>240</td>\n",
       "      <td>0.001</td>\n",
       "      <td>0.86612</td>\n",
       "      <td>0.866099</td>\n",
       "      <td>68029826.374669</td>\n",
       "      <td>8248.019543</td>\n",
       "      <td>4737.339401</td>\n",
       "      <td>0.437306</td>\n",
       "    </tr>\n",
       "    <tr>\n",
       "      <th>3</th>\n",
       "      <td>rbf</td>\n",
       "      <td>280</td>\n",
       "      <td>0.001</td>\n",
       "      <td>0.866782</td>\n",
       "      <td>0.866762</td>\n",
       "      <td>67693220.19207</td>\n",
       "      <td>8227.588966</td>\n",
       "      <td>4722.660521</td>\n",
       "      <td>0.435582</td>\n",
       "    </tr>\n",
       "    <tr>\n",
       "      <th>4</th>\n",
       "      <td>rbf</td>\n",
       "      <td>320</td>\n",
       "      <td>0.001</td>\n",
       "      <td>0.867341</td>\n",
       "      <td>0.867321</td>\n",
       "      <td>67409177.956893</td>\n",
       "      <td>8210.309249</td>\n",
       "      <td>4710.254967</td>\n",
       "      <td>0.434062</td>\n",
       "    </tr>\n",
       "    <tr>\n",
       "      <th>5</th>\n",
       "      <td>rbf</td>\n",
       "      <td>360</td>\n",
       "      <td>0.001</td>\n",
       "      <td>0.867816</td>\n",
       "      <td>0.867796</td>\n",
       "      <td>67167945.381792</td>\n",
       "      <td>8195.605248</td>\n",
       "      <td>4699.742023</td>\n",
       "      <td>0.432811</td>\n",
       "    </tr>\n",
       "    <tr>\n",
       "      <th>6</th>\n",
       "      <td>rbf</td>\n",
       "      <td>400</td>\n",
       "      <td>0.001</td>\n",
       "      <td>0.868222</td>\n",
       "      <td>0.868202</td>\n",
       "      <td>66961438.836089</td>\n",
       "      <td>8182.996935</td>\n",
       "      <td>4691.047155</td>\n",
       "      <td>0.431588</td>\n",
       "    </tr>\n",
       "  </tbody>\n",
       "</table>\n",
       "</div>"
      ],
      "text/plain": [
       "  Kernel    C Epsilon        R2 Adjusted_R2              MSE         RMSE  \\\n",
       "0    rbf  200   0.001  0.865329    0.865308  68431790.064004  8272.350939   \n",
       "1    rbf  240   0.001   0.86612    0.866099  68029826.374669  8248.019543   \n",
       "2    rbf  240   0.001   0.86612    0.866099  68029826.374669  8248.019543   \n",
       "3    rbf  280   0.001  0.866782    0.866762   67693220.19207  8227.588966   \n",
       "4    rbf  320   0.001  0.867341    0.867321  67409177.956893  8210.309249   \n",
       "5    rbf  360   0.001  0.867816    0.867796  67167945.381792  8195.605248   \n",
       "6    rbf  400   0.001  0.868222    0.868202  66961438.836089  8182.996935   \n",
       "\n",
       "           MAE      MAPE  \n",
       "0  4756.098716  0.439185  \n",
       "1  4737.339401  0.437306  \n",
       "2  4737.339401  0.437306  \n",
       "3  4722.660521  0.435582  \n",
       "4  4710.254967  0.434062  \n",
       "5  4699.742023  0.432811  \n",
       "6  4691.047155  0.431588  "
      ]
     },
     "execution_count": 67,
     "metadata": {},
     "output_type": "execute_result"
    }
   ],
   "source": [
    "next2_tune_dict = {\n",
    "    '0': next2_tune1,\n",
    "    '1': next2_tune2,\n",
    "    '2': next2_tune3,\n",
    "    '3': next2_tune4,\n",
    "    '4': next2_tune5,\n",
    "    '5': next2_tune6,\n",
    "    '6': next2_tune7,\n",
    "}\n",
    "\n",
    "next2_tune_df = pd.DataFrame(next2_tune_dict)\n",
    "next2_tune_df = next2_tune_df.T\n",
    "next2_tune_df.head(12)"
   ]
  },
  {
   "cell_type": "code",
   "execution_count": 68,
   "id": "7407236f",
   "metadata": {},
   "outputs": [
    {
     "name": "stdout",
     "output_type": "stream",
     "text": [
      "Highest Adjusted R2:\n",
      " Kernel              rbf\n",
      "C                   400\n",
      "Epsilon           0.001\n",
      "Adjusted_R2    0.868202\n",
      "Name: 6, dtype: object \n",
      "\n",
      "Lowest RMSE:\n",
      " Kernel             rbf\n",
      "C                  400\n",
      "Epsilon          0.001\n",
      "RMSE       8182.996935\n",
      "Name: 6, dtype: object \n",
      "\n",
      "Lowest MAPE:\n",
      " Kernel          rbf\n",
      "C               400\n",
      "Epsilon       0.001\n",
      "MAPE       0.431588\n",
      "Name: 6, dtype: object \n",
      "\n"
     ]
    }
   ],
   "source": [
    "# Sort the tune_df DataFrame by Adjusted_R2 in descending order\n",
    "next2_tune_df_sorted = next2_tune_df[['Kernel', 'C', 'Epsilon', 'Adjusted_R2']].sort_values(by='Adjusted_R2', ascending=False)\n",
    "\n",
    "# Get the tune with the highest Adjusted_R2\n",
    "next2_tune_highest_adjusted_r2 = next2_tune_df_sorted.iloc[0]\n",
    "\n",
    "# Sort the tune_df DataFrame by RMSE in ascending order\n",
    "next2_tune_df_sorted = next2_tune_df[['Kernel', 'C', 'Epsilon', 'RMSE']].sort_values(by='RMSE', ascending=True)\n",
    "\n",
    "# Get the tune with the lowest RMSE\n",
    "next2_tune_lowest_rmse = next2_tune_df_sorted.iloc[0]\n",
    "\n",
    "# Sort the tune_df DataFrame by MAPE in ascending order\n",
    "next2_tune_df_sorted = next2_tune_df[['Kernel', 'C', 'Epsilon', 'MAPE']].sort_values(by='MAPE', ascending=True)\n",
    "\n",
    "# Get the tune with the lowest MAPE\n",
    "next2_tune_lowest_mape = next2_tune_df_sorted.iloc[0]\n",
    "\n",
    "print(\"Highest Adjusted R2:\\n\", next2_tune_highest_adjusted_r2, \"\\n\")\n",
    "print(\"Lowest RMSE:\\n\", next2_tune_lowest_rmse, \"\\n\")\n",
    "print(\"Lowest MAPE:\\n\", next2_tune_lowest_mape, \"\\n\")"
   ]
  },
  {
   "cell_type": "markdown",
   "id": "7e6e5dc5",
   "metadata": {},
   "source": [
    "Try different kernels."
   ]
  }
 ],
 "metadata": {
  "kernelspec": {
   "display_name": "myenv",
   "language": "python",
   "name": "myenv"
  },
  "language_info": {
   "codemirror_mode": {
    "name": "ipython",
    "version": 3
   },
   "file_extension": ".py",
   "mimetype": "text/x-python",
   "name": "python",
   "nbconvert_exporter": "python",
   "pygments_lexer": "ipython3",
   "version": "3.11.7"
  }
 },
 "nbformat": 4,
 "nbformat_minor": 5
}
