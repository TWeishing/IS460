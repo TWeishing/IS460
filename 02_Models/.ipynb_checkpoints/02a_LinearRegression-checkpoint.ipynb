{
 "cells": [
  {
   "cell_type": "markdown",
   "id": "f92f3ff9",
   "metadata": {},
   "source": [
    "# Linear Regression"
   ]
  },
  {
   "cell_type": "markdown",
   "id": "09179750",
   "metadata": {},
   "source": [
    "### 1.0 Importing Packages\n",
    "* **numpy**: is a fundamental package for scientific computing in Python. It provides efficient data structures (such as arrays) for data manipulation, numerical computations and mathematical operations essential for linear regression modelling.\n",
    "* **pandas**: is a powerful library for data manipulation and analysis in Python. It can be used to read data from various sources, organise and preprocess data before fitting the model.\n",
    "* **matplotlib**: is a Python library for creating data visualizations. It can be used to create a variety of visualisation such as scatter plots, line plots and histograms. It is useful for visualising regression line and residuals in linear regression models.\n",
    "* **seaborn**: is built on top of Matplotlib and provides higher-level statistical visualizations. It can be used to create more complex visualisations such as regression plots and enhance the aesthetics of plots for better insights. \n"
   ]
  },
  {
   "cell_type": "code",
   "execution_count": 52,
   "id": "c68cdf64",
   "metadata": {},
   "outputs": [],
   "source": [
    "import numpy as np\n",
    "import pandas as pd\n",
    "import matplotlib.pyplot as plt\n",
    "import seaborn as sns\n",
    "from sklearn.linear_model import LinearRegression\n",
    "from sklearn.model_selection import train_test_split\n",
    "from sklearn.metrics import r2_score, mean_squared_error\n",
    "from sklearn import preprocessing\n",
    "from statsmodels.stats.outliers_influence import variance_inflation_factor\n",
    "from scipy.stats import pearsonr"
   ]
  },
  {
   "cell_type": "markdown",
   "id": "7a5f5561",
   "metadata": {},
   "source": [
    "### 2.0 Importing Dataset"
   ]
  },
  {
   "cell_type": "code",
   "execution_count": 4,
   "id": "3458c336",
   "metadata": {},
   "outputs": [],
   "source": [
    "df1 = pd.read_csv(\"../data/df1.csv\", index_col=0)"
   ]
  },
  {
   "cell_type": "code",
   "execution_count": 5,
   "id": "9d2ddf77",
   "metadata": {},
   "outputs": [
    {
     "data": {
      "text/html": [
       "<div>\n",
       "<style scoped>\n",
       "    .dataframe tbody tr th:only-of-type {\n",
       "        vertical-align: middle;\n",
       "    }\n",
       "\n",
       "    .dataframe tbody tr th {\n",
       "        vertical-align: top;\n",
       "    }\n",
       "\n",
       "    .dataframe thead th {\n",
       "        text-align: right;\n",
       "    }\n",
       "</style>\n",
       "<table border=\"1\" class=\"dataframe\">\n",
       "  <thead>\n",
       "    <tr style=\"text-align: right;\">\n",
       "      <th></th>\n",
       "      <th>airline</th>\n",
       "      <th>source_city</th>\n",
       "      <th>departure_time</th>\n",
       "      <th>stops</th>\n",
       "      <th>arrival_time</th>\n",
       "      <th>destination_city</th>\n",
       "      <th>class</th>\n",
       "      <th>days_left_binned</th>\n",
       "      <th>duration_sqrt_scaled</th>\n",
       "      <th>price_boxcox_scaled</th>\n",
       "    </tr>\n",
       "  </thead>\n",
       "  <tbody>\n",
       "    <tr>\n",
       "      <th>0</th>\n",
       "      <td>-0.518731</td>\n",
       "      <td>-0.068017</td>\n",
       "      <td>0.026656</td>\n",
       "      <td>-0.27363</td>\n",
       "      <td>0.015281</td>\n",
       "      <td>0.009063</td>\n",
       "      <td>-0.577809</td>\n",
       "      <td>0.437431</td>\n",
       "      <td>-1.735912</td>\n",
       "      <td>-0.498010</td>\n",
       "    </tr>\n",
       "    <tr>\n",
       "      <th>1</th>\n",
       "      <td>-0.518731</td>\n",
       "      <td>-0.068017</td>\n",
       "      <td>-0.026516</td>\n",
       "      <td>-0.27363</td>\n",
       "      <td>0.061629</td>\n",
       "      <td>0.009063</td>\n",
       "      <td>-0.577809</td>\n",
       "      <td>0.437431</td>\n",
       "      <td>-1.685797</td>\n",
       "      <td>-0.498010</td>\n",
       "    </tr>\n",
       "    <tr>\n",
       "      <th>2</th>\n",
       "      <td>-0.713457</td>\n",
       "      <td>-0.068017</td>\n",
       "      <td>-0.026516</td>\n",
       "      <td>-0.27363</td>\n",
       "      <td>-0.156916</td>\n",
       "      <td>0.009063</td>\n",
       "      <td>-0.577809</td>\n",
       "      <td>0.437431</td>\n",
       "      <td>-1.735912</td>\n",
       "      <td>-0.497464</td>\n",
       "    </tr>\n",
       "    <tr>\n",
       "      <th>3</th>\n",
       "      <td>0.309109</td>\n",
       "      <td>-0.068017</td>\n",
       "      <td>0.005012</td>\n",
       "      <td>-0.27363</td>\n",
       "      <td>-0.047256</td>\n",
       "      <td>0.009063</td>\n",
       "      <td>-0.577809</td>\n",
       "      <td>0.437431</td>\n",
       "      <td>-1.710632</td>\n",
       "      <td>-0.497646</td>\n",
       "    </tr>\n",
       "    <tr>\n",
       "      <th>4</th>\n",
       "      <td>0.309109</td>\n",
       "      <td>-0.068017</td>\n",
       "      <td>0.005012</td>\n",
       "      <td>-0.27363</td>\n",
       "      <td>0.061629</td>\n",
       "      <td>0.009063</td>\n",
       "      <td>-0.577809</td>\n",
       "      <td>0.437431</td>\n",
       "      <td>-1.685797</td>\n",
       "      <td>-0.497646</td>\n",
       "    </tr>\n",
       "  </tbody>\n",
       "</table>\n",
       "</div>"
      ],
      "text/plain": [
       "    airline  source_city  departure_time    stops  arrival_time  \\\n",
       "0 -0.518731    -0.068017        0.026656 -0.27363      0.015281   \n",
       "1 -0.518731    -0.068017       -0.026516 -0.27363      0.061629   \n",
       "2 -0.713457    -0.068017       -0.026516 -0.27363     -0.156916   \n",
       "3  0.309109    -0.068017        0.005012 -0.27363     -0.047256   \n",
       "4  0.309109    -0.068017        0.005012 -0.27363      0.061629   \n",
       "\n",
       "   destination_city     class  days_left_binned  duration_sqrt_scaled  \\\n",
       "0          0.009063 -0.577809          0.437431             -1.735912   \n",
       "1          0.009063 -0.577809          0.437431             -1.685797   \n",
       "2          0.009063 -0.577809          0.437431             -1.735912   \n",
       "3          0.009063 -0.577809          0.437431             -1.710632   \n",
       "4          0.009063 -0.577809          0.437431             -1.685797   \n",
       "\n",
       "   price_boxcox_scaled  \n",
       "0            -0.498010  \n",
       "1            -0.498010  \n",
       "2            -0.497464  \n",
       "3            -0.497646  \n",
       "4            -0.497646  "
      ]
     },
     "execution_count": 5,
     "metadata": {},
     "output_type": "execute_result"
    }
   ],
   "source": [
    "df1.head()"
   ]
  },
  {
   "cell_type": "markdown",
   "id": "629c9923",
   "metadata": {},
   "source": [
    "### 3.0 Paramatric Testing\n",
    "\n",
    "Before we fit the linear regression model, it is important to conduct paramatric testing, particularly Pearson's correlation and multicollinearity."
   ]
  },
  {
   "cell_type": "markdown",
   "id": "1d9e6456",
   "metadata": {},
   "source": [
    "### Pearson's Correlation Matrix\n",
    "\n",
    "A correlation matrix is a common tool used to compare the coefficients of correlation between different features (or attributes) in a dataset. It allows us to visualize how much (or how little) correlation exists between different variables. This is an important step in pre-processing machine learning pipelines. Since the correlation matrix allows us to identify variables that have high degrees of correlation, they allow us to reduce the number of features we may have in a dataset. Pearson’s correlation is a commonly used correlation coefficient to calculate and construct a correlation matrix."
   ]
  },
  {
   "cell_type": "code",
   "execution_count": 12,
   "id": "99ee5c58",
   "metadata": {},
   "outputs": [
    {
     "data": {
      "image/png": "[encoded data removed]",
      "text/plain": [
       "<Figure size 864x720 with 2 Axes>"
      ]
     },
     "metadata": {
      "needs_background": "light"
     },
     "output_type": "display_data"
    }
   ],
   "source": [
    "correlation_matrix = df1.corr()\n",
    "plt.figure(figsize=(12, 10))\n",
    "sns.heatmap(correlation_matrix, annot=True, fmt=\".2f\")\n",
    "plt.title('Correlation Matrix of Features')\n",
    "plt.show()"
   ]
  },
  {
   "cell_type": "markdown",
   "id": "79b4b301",
   "metadata": {},
   "source": [
    "One way to visualise the p-value associated with each correlation coefficients is to create a `mask` argument to be used with `heatmap()` function. Here, we first create a new function called `corr_sig()` which will calculate the p-values. Then, we filter out the correlation values whose p-value is greater than 0.05 (95% Significance Level) and use these values to create the mask argument. Finally, we create a new correlation matrix specifying the `mask` argument.\n",
    "\n",
    "Reference: https://copyprogramming.com/howto/seaborn-correlation-matrix-with-p-values-with-python"
   ]
  },
  {
   "cell_type": "code",
   "execution_count": 44,
   "id": "eede0b0c",
   "metadata": {},
   "outputs": [
    {
     "data": {
      "image/png": "[encoded data removed]",
      "text/plain": [
       "<Figure size 864x720 with 2 Axes>"
      ]
     },
     "metadata": {
      "needs_background": "light"
     },
     "output_type": "display_data"
    }
   ],
   "source": [
    "from scipy import stats\n",
    "\n",
    "def corr_sig(df=None):\n",
    "    p_matrix = np.zeros(shape=(df.shape[1],df.shape[1]))\n",
    "    for col in df.columns:\n",
    "        for col2 in df.drop(col,axis=1).columns:\n",
    "            _ , p = stats.pearsonr(df[col],df[col2])\n",
    "            p_matrix[df.columns.to_list().index(col),df.columns.to_list().index(col2)] = p\n",
    "    return p_matrix\n",
    "\n",
    "p_values = corr_sig(df1)\n",
    "mask = np.invert(np.tril(p_values<0.05))\n",
    "plt.figure(figsize=(12, 10))\n",
    "sns.heatmap(correlation_matrix, annot=True, fmt=\".2f\", mask=mask)\n",
    "plt.title('Correlation Matrix of Features')\n",
    "plt.show()"
   ]
  },
  {
   "cell_type": "markdown",
   "id": "d2645462",
   "metadata": {},
   "source": [
    "Another way to visualise this is to tabulate the p-values. Here we create a new function called `corr_full()` to implement such. \n",
    "\n",
    "Reference: https://pub.towardsai.net/building-correlation-matrix-with-p-values-in-python-76ffd3c2365e"
   ]
  },
  {
   "cell_type": "code",
   "execution_count": 45,
   "id": "7d3f4f8b",
   "metadata": {},
   "outputs": [],
   "source": [
    " def corr_full(df, numeric_only=True, rows=['corr', 'p-value', 'obs']):\n",
    "    \n",
    "    # Calculate Pearson correlation coefficients\n",
    "    corr_matrix = df.corr(method='pearson')\n",
    "    \n",
    "    # Calculate the p-values using scipy's pearsonr\n",
    "    pvalue_matrix = df.corr( \n",
    "        method=lambda x, y: pearsonr(x, y)[1])\n",
    "    \n",
    "    # Calculate the non-null observation count for each column\n",
    "    obs_count = df.apply(lambda x: x.notnull().sum())\n",
    "    \n",
    "    # Calculate observation count for each pair of columns\n",
    "    obs_matrix = pd.DataFrame(\n",
    "        index=corr_matrix.columns, columns=corr_matrix.columns)\n",
    "    for col1 in obs_count.index:\n",
    "        for col2 in obs_count.index:\n",
    "            obs_matrix.loc[col1, col2] = min(obs_count[col1], obs_count[col2])\n",
    "        \n",
    "    # Create a multi-index dataframe to store the formatted correlations\n",
    "    formatted_table = pd.DataFrame(\n",
    "        index=pd.MultiIndex.from_product([corr_matrix.columns, rows]), \n",
    "        columns=corr_matrix.columns\n",
    "    )\n",
    "    \n",
    "    # Assign values to the appropriate cells in the formatted table\n",
    "    for col1 in corr_matrix.columns:\n",
    "        for col2 in corr_matrix.columns:\n",
    "            if 'corr' in rows:\n",
    "                formatted_table.loc[\n",
    "                    (col1, 'corr'), col2] = corr_matrix.loc[col1, col2]\n",
    "            \n",
    "            if 'p-value' in rows:\n",
    "                # Avoid p-values for diagonal they correlate perfectly\n",
    "                if col1 != col2:\n",
    "                    formatted_table.loc[\n",
    "                        (col1, 'p-value'), col2] = f\"({pvalue_matrix.loc[col1, col2]:.4f})\"\n",
    "            if 'obs' in rows:\n",
    "                formatted_table.loc[\n",
    "                    (col1, 'obs'), col2] = obs_matrix.loc[col1, col2]\n",
    "    \n",
    "    return(formatted_table.fillna('')\n",
    "           .style.set_properties(**{'text-align': 'center'}))"
   ]
  },
  {
   "cell_type": "code",
   "execution_count": 38,
   "id": "2181a7c8",
   "metadata": {},
   "outputs": [
    {
     "data": {
      "text/html": [
       "<style type=\"text/css\">\n",
       "#T_2fc0b_row0_col0, #T_2fc0b_row0_col1, #T_2fc0b_row0_col2, #T_2fc0b_row0_col3, #T_2fc0b_row0_col4, #T_2fc0b_row0_col5, #T_2fc0b_row0_col6, #T_2fc0b_row0_col7, #T_2fc0b_row0_col8, #T_2fc0b_row0_col9, #T_2fc0b_row1_col0, #T_2fc0b_row1_col1, #T_2fc0b_row1_col2, #T_2fc0b_row1_col3, #T_2fc0b_row1_col4, #T_2fc0b_row1_col5, #T_2fc0b_row1_col6, #T_2fc0b_row1_col7, #T_2fc0b_row1_col8, #T_2fc0b_row1_col9, #T_2fc0b_row2_col0, #T_2fc0b_row2_col1, #T_2fc0b_row2_col2, #T_2fc0b_row2_col3, #T_2fc0b_row2_col4, #T_2fc0b_row2_col5, #T_2fc0b_row2_col6, #T_2fc0b_row2_col7, #T_2fc0b_row2_col8, #T_2fc0b_row2_col9, #T_2fc0b_row3_col0, #T_2fc0b_row3_col1, #T_2fc0b_row3_col2, #T_2fc0b_row3_col3, #T_2fc0b_row3_col4, #T_2fc0b_row3_col5, #T_2fc0b_row3_col6, #T_2fc0b_row3_col7, #T_2fc0b_row3_col8, #T_2fc0b_row3_col9, #T_2fc0b_row4_col0, #T_2fc0b_row4_col1, #T_2fc0b_row4_col2, #T_2fc0b_row4_col3, #T_2fc0b_row4_col4, #T_2fc0b_row4_col5, #T_2fc0b_row4_col6, #T_2fc0b_row4_col7, #T_2fc0b_row4_col8, #T_2fc0b_row4_col9, #T_2fc0b_row5_col0, #T_2fc0b_row5_col1, #T_2fc0b_row5_col2, #T_2fc0b_row5_col3, #T_2fc0b_row5_col4, #T_2fc0b_row5_col5, #T_2fc0b_row5_col6, #T_2fc0b_row5_col7, #T_2fc0b_row5_col8, #T_2fc0b_row5_col9, #T_2fc0b_row6_col0, #T_2fc0b_row6_col1, #T_2fc0b_row6_col2, #T_2fc0b_row6_col3, #T_2fc0b_row6_col4, #T_2fc0b_row6_col5, #T_2fc0b_row6_col6, #T_2fc0b_row6_col7, #T_2fc0b_row6_col8, #T_2fc0b_row6_col9, #T_2fc0b_row7_col0, #T_2fc0b_row7_col1, #T_2fc0b_row7_col2, #T_2fc0b_row7_col3, #T_2fc0b_row7_col4, #T_2fc0b_row7_col5, #T_2fc0b_row7_col6, #T_2fc0b_row7_col7, #T_2fc0b_row7_col8, #T_2fc0b_row7_col9, #T_2fc0b_row8_col0, #T_2fc0b_row8_col1, #T_2fc0b_row8_col2, #T_2fc0b_row8_col3, #T_2fc0b_row8_col4, #T_2fc0b_row8_col5, #T_2fc0b_row8_col6, #T_2fc0b_row8_col7, #T_2fc0b_row8_col8, #T_2fc0b_row8_col9, #T_2fc0b_row9_col0, #T_2fc0b_row9_col1, #T_2fc0b_row9_col2, #T_2fc0b_row9_col3, #T_2fc0b_row9_col4, #T_2fc0b_row9_col5, #T_2fc0b_row9_col6, #T_2fc0b_row9_col7, #T_2fc0b_row9_col8, #T_2fc0b_row9_col9, #T_2fc0b_row10_col0, #T_2fc0b_row10_col1, #T_2fc0b_row10_col2, #T_2fc0b_row10_col3, #T_2fc0b_row10_col4, #T_2fc0b_row10_col5, #T_2fc0b_row10_col6, #T_2fc0b_row10_col7, #T_2fc0b_row10_col8, #T_2fc0b_row10_col9, #T_2fc0b_row11_col0, #T_2fc0b_row11_col1, #T_2fc0b_row11_col2, #T_2fc0b_row11_col3, #T_2fc0b_row11_col4, #T_2fc0b_row11_col5, #T_2fc0b_row11_col6, #T_2fc0b_row11_col7, #T_2fc0b_row11_col8, #T_2fc0b_row11_col9, #T_2fc0b_row12_col0, #T_2fc0b_row12_col1, #T_2fc0b_row12_col2, #T_2fc0b_row12_col3, #T_2fc0b_row12_col4, #T_2fc0b_row12_col5, #T_2fc0b_row12_col6, #T_2fc0b_row12_col7, #T_2fc0b_row12_col8, #T_2fc0b_row12_col9, #T_2fc0b_row13_col0, #T_2fc0b_row13_col1, #T_2fc0b_row13_col2, #T_2fc0b_row13_col3, #T_2fc0b_row13_col4, #T_2fc0b_row13_col5, #T_2fc0b_row13_col6, #T_2fc0b_row13_col7, #T_2fc0b_row13_col8, #T_2fc0b_row13_col9, #T_2fc0b_row14_col0, #T_2fc0b_row14_col1, #T_2fc0b_row14_col2, #T_2fc0b_row14_col3, #T_2fc0b_row14_col4, #T_2fc0b_row14_col5, #T_2fc0b_row14_col6, #T_2fc0b_row14_col7, #T_2fc0b_row14_col8, #T_2fc0b_row14_col9, #T_2fc0b_row15_col0, #T_2fc0b_row15_col1, #T_2fc0b_row15_col2, #T_2fc0b_row15_col3, #T_2fc0b_row15_col4, #T_2fc0b_row15_col5, #T_2fc0b_row15_col6, #T_2fc0b_row15_col7, #T_2fc0b_row15_col8, #T_2fc0b_row15_col9, #T_2fc0b_row16_col0, #T_2fc0b_row16_col1, #T_2fc0b_row16_col2, #T_2fc0b_row16_col3, #T_2fc0b_row16_col4, #T_2fc0b_row16_col5, #T_2fc0b_row16_col6, #T_2fc0b_row16_col7, #T_2fc0b_row16_col8, #T_2fc0b_row16_col9, #T_2fc0b_row17_col0, #T_2fc0b_row17_col1, #T_2fc0b_row17_col2, #T_2fc0b_row17_col3, #T_2fc0b_row17_col4, #T_2fc0b_row17_col5, #T_2fc0b_row17_col6, #T_2fc0b_row17_col7, #T_2fc0b_row17_col8, #T_2fc0b_row17_col9, #T_2fc0b_row18_col0, #T_2fc0b_row18_col1, #T_2fc0b_row18_col2, #T_2fc0b_row18_col3, #T_2fc0b_row18_col4, #T_2fc0b_row18_col5, #T_2fc0b_row18_col6, #T_2fc0b_row18_col7, #T_2fc0b_row18_col8, #T_2fc0b_row18_col9, #T_2fc0b_row19_col0, #T_2fc0b_row19_col1, #T_2fc0b_row19_col2, #T_2fc0b_row19_col3, #T_2fc0b_row19_col4, #T_2fc0b_row19_col5, #T_2fc0b_row19_col6, #T_2fc0b_row19_col7, #T_2fc0b_row19_col8, #T_2fc0b_row19_col9 {\n",
       "  text-align: center;\n",
       "}\n",
       "</style>\n",
       "<table id=\"T_2fc0b\">\n",
       "  <thead>\n",
       "    <tr>\n",
       "      <th class=\"blank\" >&nbsp;</th>\n",
       "      <th class=\"blank level0\" >&nbsp;</th>\n",
       "      <th id=\"T_2fc0b_level0_col0\" class=\"col_heading level0 col0\" >airline</th>\n",
       "      <th id=\"T_2fc0b_level0_col1\" class=\"col_heading level0 col1\" >source_city</th>\n",
       "      <th id=\"T_2fc0b_level0_col2\" class=\"col_heading level0 col2\" >departure_time</th>\n",
       "      <th id=\"T_2fc0b_level0_col3\" class=\"col_heading level0 col3\" >stops</th>\n",
       "      <th id=\"T_2fc0b_level0_col4\" class=\"col_heading level0 col4\" >arrival_time</th>\n",
       "      <th id=\"T_2fc0b_level0_col5\" class=\"col_heading level0 col5\" >destination_city</th>\n",
       "      <th id=\"T_2fc0b_level0_col6\" class=\"col_heading level0 col6\" >class</th>\n",
       "      <th id=\"T_2fc0b_level0_col7\" class=\"col_heading level0 col7\" >days_left_binned</th>\n",
       "      <th id=\"T_2fc0b_level0_col8\" class=\"col_heading level0 col8\" >duration_sqrt_scaled</th>\n",
       "      <th id=\"T_2fc0b_level0_col9\" class=\"col_heading level0 col9\" >price_boxcox_scaled</th>\n",
       "    </tr>\n",
       "  </thead>\n",
       "  <tbody>\n",
       "    <tr>\n",
       "      <th id=\"T_2fc0b_level0_row0\" class=\"row_heading level0 row0\" rowspan=\"2\">airline</th>\n",
       "      <th id=\"T_2fc0b_level1_row0\" class=\"row_heading level1 row0\" >corr</th>\n",
       "      <td id=\"T_2fc0b_row0_col0\" class=\"data row0 col0\" >1.000000</td>\n",
       "      <td id=\"T_2fc0b_row0_col1\" class=\"data row0 col1\" >-0.011336</td>\n",
       "      <td id=\"T_2fc0b_row0_col2\" class=\"data row0 col2\" >0.119590</td>\n",
       "      <td id=\"T_2fc0b_row0_col3\" class=\"data row0 col3\" >0.122878</td>\n",
       "      <td id=\"T_2fc0b_row0_col4\" class=\"data row0 col4\" >0.253155</td>\n",
       "      <td id=\"T_2fc0b_row0_col5\" class=\"data row0 col5\" >0.006326</td>\n",
       "      <td id=\"T_2fc0b_row0_col6\" class=\"data row0 col6\" >0.445781</td>\n",
       "      <td id=\"T_2fc0b_row0_col7\" class=\"data row0 col7\" >0.040684</td>\n",
       "      <td id=\"T_2fc0b_row0_col8\" class=\"data row0 col8\" >0.100072</td>\n",
       "      <td id=\"T_2fc0b_row0_col9\" class=\"data row0 col9\" >0.405117</td>\n",
       "    </tr>\n",
       "    <tr>\n",
       "      <th id=\"T_2fc0b_level1_row1\" class=\"row_heading level1 row1\" >p-value</th>\n",
       "      <td id=\"T_2fc0b_row1_col0\" class=\"data row1 col0\" ></td>\n",
       "      <td id=\"T_2fc0b_row1_col1\" class=\"data row1 col1\" >(0.0000)</td>\n",
       "      <td id=\"T_2fc0b_row1_col2\" class=\"data row1 col2\" >(0.0000)</td>\n",
       "      <td id=\"T_2fc0b_row1_col3\" class=\"data row1 col3\" >(0.0000)</td>\n",
       "      <td id=\"T_2fc0b_row1_col4\" class=\"data row1 col4\" >(0.0000)</td>\n",
       "      <td id=\"T_2fc0b_row1_col5\" class=\"data row1 col5\" >(0.0006)</td>\n",
       "      <td id=\"T_2fc0b_row1_col6\" class=\"data row1 col6\" >(0.0000)</td>\n",
       "      <td id=\"T_2fc0b_row1_col7\" class=\"data row1 col7\" >(0.0000)</td>\n",
       "      <td id=\"T_2fc0b_row1_col8\" class=\"data row1 col8\" >(0.0000)</td>\n",
       "      <td id=\"T_2fc0b_row1_col9\" class=\"data row1 col9\" >(0.0000)</td>\n",
       "    </tr>\n",
       "    <tr>\n",
       "      <th id=\"T_2fc0b_level0_row2\" class=\"row_heading level0 row2\" rowspan=\"2\">source_city</th>\n",
       "      <th id=\"T_2fc0b_level1_row2\" class=\"row_heading level1 row2\" >corr</th>\n",
       "      <td id=\"T_2fc0b_row2_col0\" class=\"data row2 col0\" >-0.011336</td>\n",
       "      <td id=\"T_2fc0b_row2_col1\" class=\"data row2 col1\" >1.000000</td>\n",
       "      <td id=\"T_2fc0b_row2_col2\" class=\"data row2 col2\" >0.027279</td>\n",
       "      <td id=\"T_2fc0b_row2_col3\" class=\"data row2 col3\" >0.023059</td>\n",
       "      <td id=\"T_2fc0b_row2_col4\" class=\"data row2 col4\" >-0.004142</td>\n",
       "      <td id=\"T_2fc0b_row2_col5\" class=\"data row2 col5\" >-0.207608</td>\n",
       "      <td id=\"T_2fc0b_row2_col6\" class=\"data row2 col6\" >-0.006560</td>\n",
       "      <td id=\"T_2fc0b_row2_col7\" class=\"data row2 col7\" >-0.000292</td>\n",
       "      <td id=\"T_2fc0b_row2_col8\" class=\"data row2 col8\" >0.063990</td>\n",
       "      <td id=\"T_2fc0b_row2_col9\" class=\"data row2 col9\" >0.054592</td>\n",
       "    </tr>\n",
       "    <tr>\n",
       "      <th id=\"T_2fc0b_level1_row3\" class=\"row_heading level1 row3\" >p-value</th>\n",
       "      <td id=\"T_2fc0b_row3_col0\" class=\"data row3 col0\" >(0.0000)</td>\n",
       "      <td id=\"T_2fc0b_row3_col1\" class=\"data row3 col1\" ></td>\n",
       "      <td id=\"T_2fc0b_row3_col2\" class=\"data row3 col2\" >(0.0000)</td>\n",
       "      <td id=\"T_2fc0b_row3_col3\" class=\"data row3 col3\" >(0.0000)</td>\n",
       "      <td id=\"T_2fc0b_row3_col4\" class=\"data row3 col4\" >(0.0239)</td>\n",
       "      <td id=\"T_2fc0b_row3_col5\" class=\"data row3 col5\" >(0.0000)</td>\n",
       "      <td id=\"T_2fc0b_row3_col6\" class=\"data row3 col6\" >(0.0003)</td>\n",
       "      <td id=\"T_2fc0b_row3_col7\" class=\"data row3 col7\" >(0.8733)</td>\n",
       "      <td id=\"T_2fc0b_row3_col8\" class=\"data row3 col8\" >(0.0000)</td>\n",
       "      <td id=\"T_2fc0b_row3_col9\" class=\"data row3 col9\" >(0.0000)</td>\n",
       "    </tr>\n",
       "    <tr>\n",
       "      <th id=\"T_2fc0b_level0_row4\" class=\"row_heading level0 row4\" rowspan=\"2\">departure_time</th>\n",
       "      <th id=\"T_2fc0b_level1_row4\" class=\"row_heading level1 row4\" >corr</th>\n",
       "      <td id=\"T_2fc0b_row4_col0\" class=\"data row4 col0\" >0.119590</td>\n",
       "      <td id=\"T_2fc0b_row4_col1\" class=\"data row4 col1\" >0.027279</td>\n",
       "      <td id=\"T_2fc0b_row4_col2\" class=\"data row4 col2\" >1.000000</td>\n",
       "      <td id=\"T_2fc0b_row4_col3\" class=\"data row4 col3\" >0.031019</td>\n",
       "      <td id=\"T_2fc0b_row4_col4\" class=\"data row4 col4\" >-0.007869</td>\n",
       "      <td id=\"T_2fc0b_row4_col5\" class=\"data row4 col5\" >-0.004544</td>\n",
       "      <td id=\"T_2fc0b_row4_col6\" class=\"data row4 col6\" >0.067901</td>\n",
       "      <td id=\"T_2fc0b_row4_col7\" class=\"data row4 col7\" >0.012083</td>\n",
       "      <td id=\"T_2fc0b_row4_col8\" class=\"data row4 col8\" >0.026469</td>\n",
       "      <td id=\"T_2fc0b_row4_col9\" class=\"data row4 col9\" >0.062939</td>\n",
       "    </tr>\n",
       "    <tr>\n",
       "      <th id=\"T_2fc0b_level1_row5\" class=\"row_heading level1 row5\" >p-value</th>\n",
       "      <td id=\"T_2fc0b_row5_col0\" class=\"data row5 col0\" >(0.0000)</td>\n",
       "      <td id=\"T_2fc0b_row5_col1\" class=\"data row5 col1\" >(0.0000)</td>\n",
       "      <td id=\"T_2fc0b_row5_col2\" class=\"data row5 col2\" ></td>\n",
       "      <td id=\"T_2fc0b_row5_col3\" class=\"data row5 col3\" >(0.0000)</td>\n",
       "      <td id=\"T_2fc0b_row5_col4\" class=\"data row5 col4\" >(0.0000)</td>\n",
       "      <td id=\"T_2fc0b_row5_col5\" class=\"data row5 col5\" >(0.0132)</td>\n",
       "      <td id=\"T_2fc0b_row5_col6\" class=\"data row5 col6\" >(0.0000)</td>\n",
       "      <td id=\"T_2fc0b_row5_col7\" class=\"data row5 col7\" >(0.0000)</td>\n",
       "      <td id=\"T_2fc0b_row5_col8\" class=\"data row5 col8\" >(0.0000)</td>\n",
       "      <td id=\"T_2fc0b_row5_col9\" class=\"data row5 col9\" >(0.0000)</td>\n",
       "    </tr>\n",
       "    <tr>\n",
       "      <th id=\"T_2fc0b_level0_row6\" class=\"row_heading level0 row6\" rowspan=\"2\">stops</th>\n",
       "      <th id=\"T_2fc0b_level1_row6\" class=\"row_heading level1 row6\" >corr</th>\n",
       "      <td id=\"T_2fc0b_row6_col0\" class=\"data row6 col0\" >0.122878</td>\n",
       "      <td id=\"T_2fc0b_row6_col1\" class=\"data row6 col1\" >0.023059</td>\n",
       "      <td id=\"T_2fc0b_row6_col2\" class=\"data row6 col2\" >0.031019</td>\n",
       "      <td id=\"T_2fc0b_row6_col3\" class=\"data row6 col3\" >1.000000</td>\n",
       "      <td id=\"T_2fc0b_row6_col4\" class=\"data row6 col4\" >0.022880</td>\n",
       "      <td id=\"T_2fc0b_row6_col5\" class=\"data row6 col5\" >0.002415</td>\n",
       "      <td id=\"T_2fc0b_row6_col6\" class=\"data row6 col6\" >0.127411</td>\n",
       "      <td id=\"T_2fc0b_row6_col7\" class=\"data row6 col7\" >-0.011934</td>\n",
       "      <td id=\"T_2fc0b_row6_col8\" class=\"data row6 col8\" >0.097926</td>\n",
       "      <td id=\"T_2fc0b_row6_col9\" class=\"data row6 col9\" >0.146302</td>\n",
       "    </tr>\n",
       "    <tr>\n",
       "      <th id=\"T_2fc0b_level1_row7\" class=\"row_heading level1 row7\" >p-value</th>\n",
       "      <td id=\"T_2fc0b_row7_col0\" class=\"data row7 col0\" >(0.0000)</td>\n",
       "      <td id=\"T_2fc0b_row7_col1\" class=\"data row7 col1\" >(0.0000)</td>\n",
       "      <td id=\"T_2fc0b_row7_col2\" class=\"data row7 col2\" >(0.0000)</td>\n",
       "      <td id=\"T_2fc0b_row7_col3\" class=\"data row7 col3\" ></td>\n",
       "      <td id=\"T_2fc0b_row7_col4\" class=\"data row7 col4\" >(0.0000)</td>\n",
       "      <td id=\"T_2fc0b_row7_col5\" class=\"data row7 col5\" >(0.1877)</td>\n",
       "      <td id=\"T_2fc0b_row7_col6\" class=\"data row7 col6\" >(0.0000)</td>\n",
       "      <td id=\"T_2fc0b_row7_col7\" class=\"data row7 col7\" >(0.0000)</td>\n",
       "      <td id=\"T_2fc0b_row7_col8\" class=\"data row7 col8\" >(0.0000)</td>\n",
       "      <td id=\"T_2fc0b_row7_col9\" class=\"data row7 col9\" >(0.0000)</td>\n",
       "    </tr>\n",
       "    <tr>\n",
       "      <th id=\"T_2fc0b_level0_row8\" class=\"row_heading level0 row8\" rowspan=\"2\">arrival_time</th>\n",
       "      <th id=\"T_2fc0b_level1_row8\" class=\"row_heading level1 row8\" >corr</th>\n",
       "      <td id=\"T_2fc0b_row8_col0\" class=\"data row8 col0\" >0.253155</td>\n",
       "      <td id=\"T_2fc0b_row8_col1\" class=\"data row8 col1\" >-0.004142</td>\n",
       "      <td id=\"T_2fc0b_row8_col2\" class=\"data row8 col2\" >-0.007869</td>\n",
       "      <td id=\"T_2fc0b_row8_col3\" class=\"data row8 col3\" >0.022880</td>\n",
       "      <td id=\"T_2fc0b_row8_col4\" class=\"data row8 col4\" >1.000000</td>\n",
       "      <td id=\"T_2fc0b_row8_col5\" class=\"data row8 col5\" >0.105377</td>\n",
       "      <td id=\"T_2fc0b_row8_col6\" class=\"data row8 col6\" >0.105175</td>\n",
       "      <td id=\"T_2fc0b_row8_col7\" class=\"data row8 col7\" >0.037565</td>\n",
       "      <td id=\"T_2fc0b_row8_col8\" class=\"data row8 col8\" >0.020417</td>\n",
       "      <td id=\"T_2fc0b_row8_col9\" class=\"data row8 col9\" >0.104376</td>\n",
       "    </tr>\n",
       "    <tr>\n",
       "      <th id=\"T_2fc0b_level1_row9\" class=\"row_heading level1 row9\" >p-value</th>\n",
       "      <td id=\"T_2fc0b_row9_col0\" class=\"data row9 col0\" >(0.0000)</td>\n",
       "      <td id=\"T_2fc0b_row9_col1\" class=\"data row9 col1\" >(0.0239)</td>\n",
       "      <td id=\"T_2fc0b_row9_col2\" class=\"data row9 col2\" >(0.0000)</td>\n",
       "      <td id=\"T_2fc0b_row9_col3\" class=\"data row9 col3\" >(0.0000)</td>\n",
       "      <td id=\"T_2fc0b_row9_col4\" class=\"data row9 col4\" ></td>\n",
       "      <td id=\"T_2fc0b_row9_col5\" class=\"data row9 col5\" >(0.0000)</td>\n",
       "      <td id=\"T_2fc0b_row9_col6\" class=\"data row9 col6\" >(0.0000)</td>\n",
       "      <td id=\"T_2fc0b_row9_col7\" class=\"data row9 col7\" >(0.0000)</td>\n",
       "      <td id=\"T_2fc0b_row9_col8\" class=\"data row9 col8\" >(0.0000)</td>\n",
       "      <td id=\"T_2fc0b_row9_col9\" class=\"data row9 col9\" >(0.0000)</td>\n",
       "    </tr>\n",
       "    <tr>\n",
       "      <th id=\"T_2fc0b_level0_row10\" class=\"row_heading level0 row10\" rowspan=\"2\">destination_city</th>\n",
       "      <th id=\"T_2fc0b_level1_row10\" class=\"row_heading level1 row10\" >corr</th>\n",
       "      <td id=\"T_2fc0b_row10_col0\" class=\"data row10 col0\" >0.006326</td>\n",
       "      <td id=\"T_2fc0b_row10_col1\" class=\"data row10 col1\" >-0.207608</td>\n",
       "      <td id=\"T_2fc0b_row10_col2\" class=\"data row10 col2\" >-0.004544</td>\n",
       "      <td id=\"T_2fc0b_row10_col3\" class=\"data row10 col3\" >0.002415</td>\n",
       "      <td id=\"T_2fc0b_row10_col4\" class=\"data row10 col4\" >0.105377</td>\n",
       "      <td id=\"T_2fc0b_row10_col5\" class=\"data row10 col5\" >1.000000</td>\n",
       "      <td id=\"T_2fc0b_row10_col6\" class=\"data row10 col6\" >0.011745</td>\n",
       "      <td id=\"T_2fc0b_row10_col7\" class=\"data row10 col7\" >0.000721</td>\n",
       "      <td id=\"T_2fc0b_row10_col8\" class=\"data row10 col8\" >0.078389</td>\n",
       "      <td id=\"T_2fc0b_row10_col9\" class=\"data row10 col9\" >0.050322</td>\n",
       "    </tr>\n",
       "    <tr>\n",
       "      <th id=\"T_2fc0b_level1_row11\" class=\"row_heading level1 row11\" >p-value</th>\n",
       "      <td id=\"T_2fc0b_row11_col0\" class=\"data row11 col0\" >(0.0006)</td>\n",
       "      <td id=\"T_2fc0b_row11_col1\" class=\"data row11 col1\" >(0.0000)</td>\n",
       "      <td id=\"T_2fc0b_row11_col2\" class=\"data row11 col2\" >(0.0132)</td>\n",
       "      <td id=\"T_2fc0b_row11_col3\" class=\"data row11 col3\" >(0.1877)</td>\n",
       "      <td id=\"T_2fc0b_row11_col4\" class=\"data row11 col4\" >(0.0000)</td>\n",
       "      <td id=\"T_2fc0b_row11_col5\" class=\"data row11 col5\" ></td>\n",
       "      <td id=\"T_2fc0b_row11_col6\" class=\"data row11 col6\" >(0.0000)</td>\n",
       "      <td id=\"T_2fc0b_row11_col7\" class=\"data row11 col7\" >(0.6943)</td>\n",
       "      <td id=\"T_2fc0b_row11_col8\" class=\"data row11 col8\" >(0.0000)</td>\n",
       "      <td id=\"T_2fc0b_row11_col9\" class=\"data row11 col9\" >(0.0000)</td>\n",
       "    </tr>\n",
       "    <tr>\n",
       "      <th id=\"T_2fc0b_level0_row12\" class=\"row_heading level0 row12\" rowspan=\"2\">class</th>\n",
       "      <th id=\"T_2fc0b_level1_row12\" class=\"row_heading level1 row12\" >corr</th>\n",
       "      <td id=\"T_2fc0b_row12_col0\" class=\"data row12 col0\" >0.445781</td>\n",
       "      <td id=\"T_2fc0b_row12_col1\" class=\"data row12 col1\" >-0.006560</td>\n",
       "      <td id=\"T_2fc0b_row12_col2\" class=\"data row12 col2\" >0.067901</td>\n",
       "      <td id=\"T_2fc0b_row12_col3\" class=\"data row12 col3\" >0.127411</td>\n",
       "      <td id=\"T_2fc0b_row12_col4\" class=\"data row12 col4\" >0.105175</td>\n",
       "      <td id=\"T_2fc0b_row12_col5\" class=\"data row12 col5\" >0.011745</td>\n",
       "      <td id=\"T_2fc0b_row12_col6\" class=\"data row12 col6\" >1.000000</td>\n",
       "      <td id=\"T_2fc0b_row12_col7\" class=\"data row12 col7\" >0.018407</td>\n",
       "      <td id=\"T_2fc0b_row12_col8\" class=\"data row12 col8\" >0.153117</td>\n",
       "      <td id=\"T_2fc0b_row12_col9\" class=\"data row12 col9\" >0.864321</td>\n",
       "    </tr>\n",
       "    <tr>\n",
       "      <th id=\"T_2fc0b_level1_row13\" class=\"row_heading level1 row13\" >p-value</th>\n",
       "      <td id=\"T_2fc0b_row13_col0\" class=\"data row13 col0\" >(0.0000)</td>\n",
       "      <td id=\"T_2fc0b_row13_col1\" class=\"data row13 col1\" >(0.0003)</td>\n",
       "      <td id=\"T_2fc0b_row13_col2\" class=\"data row13 col2\" >(0.0000)</td>\n",
       "      <td id=\"T_2fc0b_row13_col3\" class=\"data row13 col3\" >(0.0000)</td>\n",
       "      <td id=\"T_2fc0b_row13_col4\" class=\"data row13 col4\" >(0.0000)</td>\n",
       "      <td id=\"T_2fc0b_row13_col5\" class=\"data row13 col5\" >(0.0000)</td>\n",
       "      <td id=\"T_2fc0b_row13_col6\" class=\"data row13 col6\" ></td>\n",
       "      <td id=\"T_2fc0b_row13_col7\" class=\"data row13 col7\" >(0.0000)</td>\n",
       "      <td id=\"T_2fc0b_row13_col8\" class=\"data row13 col8\" >(0.0000)</td>\n",
       "      <td id=\"T_2fc0b_row13_col9\" class=\"data row13 col9\" >(0.0000)</td>\n",
       "    </tr>\n",
       "    <tr>\n",
       "      <th id=\"T_2fc0b_level0_row14\" class=\"row_heading level0 row14\" rowspan=\"2\">days_left_binned</th>\n",
       "      <th id=\"T_2fc0b_level1_row14\" class=\"row_heading level1 row14\" >corr</th>\n",
       "      <td id=\"T_2fc0b_row14_col0\" class=\"data row14 col0\" >0.040684</td>\n",
       "      <td id=\"T_2fc0b_row14_col1\" class=\"data row14 col1\" >-0.000292</td>\n",
       "      <td id=\"T_2fc0b_row14_col2\" class=\"data row14 col2\" >0.012083</td>\n",
       "      <td id=\"T_2fc0b_row14_col3\" class=\"data row14 col3\" >-0.011934</td>\n",
       "      <td id=\"T_2fc0b_row14_col4\" class=\"data row14 col4\" >0.037565</td>\n",
       "      <td id=\"T_2fc0b_row14_col5\" class=\"data row14 col5\" >0.000721</td>\n",
       "      <td id=\"T_2fc0b_row14_col6\" class=\"data row14 col6\" >0.018407</td>\n",
       "      <td id=\"T_2fc0b_row14_col7\" class=\"data row14 col7\" >1.000000</td>\n",
       "      <td id=\"T_2fc0b_row14_col8\" class=\"data row14 col8\" >0.018291</td>\n",
       "      <td id=\"T_2fc0b_row14_col9\" class=\"data row14 col9\" >0.214938</td>\n",
       "    </tr>\n",
       "    <tr>\n",
       "      <th id=\"T_2fc0b_level1_row15\" class=\"row_heading level1 row15\" >p-value</th>\n",
       "      <td id=\"T_2fc0b_row15_col0\" class=\"data row15 col0\" >(0.0000)</td>\n",
       "      <td id=\"T_2fc0b_row15_col1\" class=\"data row15 col1\" >(0.8733)</td>\n",
       "      <td id=\"T_2fc0b_row15_col2\" class=\"data row15 col2\" >(0.0000)</td>\n",
       "      <td id=\"T_2fc0b_row15_col3\" class=\"data row15 col3\" >(0.0000)</td>\n",
       "      <td id=\"T_2fc0b_row15_col4\" class=\"data row15 col4\" >(0.0000)</td>\n",
       "      <td id=\"T_2fc0b_row15_col5\" class=\"data row15 col5\" >(0.6943)</td>\n",
       "      <td id=\"T_2fc0b_row15_col6\" class=\"data row15 col6\" >(0.0000)</td>\n",
       "      <td id=\"T_2fc0b_row15_col7\" class=\"data row15 col7\" ></td>\n",
       "      <td id=\"T_2fc0b_row15_col8\" class=\"data row15 col8\" >(0.0000)</td>\n",
       "      <td id=\"T_2fc0b_row15_col9\" class=\"data row15 col9\" >(0.0000)</td>\n",
       "    </tr>\n",
       "    <tr>\n",
       "      <th id=\"T_2fc0b_level0_row16\" class=\"row_heading level0 row16\" rowspan=\"2\">duration_sqrt_scaled</th>\n",
       "      <th id=\"T_2fc0b_level1_row16\" class=\"row_heading level1 row16\" >corr</th>\n",
       "      <td id=\"T_2fc0b_row16_col0\" class=\"data row16 col0\" >0.100072</td>\n",
       "      <td id=\"T_2fc0b_row16_col1\" class=\"data row16 col1\" >0.063990</td>\n",
       "      <td id=\"T_2fc0b_row16_col2\" class=\"data row16 col2\" >0.026469</td>\n",
       "      <td id=\"T_2fc0b_row16_col3\" class=\"data row16 col3\" >0.097926</td>\n",
       "      <td id=\"T_2fc0b_row16_col4\" class=\"data row16 col4\" >0.020417</td>\n",
       "      <td id=\"T_2fc0b_row16_col5\" class=\"data row16 col5\" >0.078389</td>\n",
       "      <td id=\"T_2fc0b_row16_col6\" class=\"data row16 col6\" >0.153117</td>\n",
       "      <td id=\"T_2fc0b_row16_col7\" class=\"data row16 col7\" >0.018291</td>\n",
       "      <td id=\"T_2fc0b_row16_col8\" class=\"data row16 col8\" >1.000000</td>\n",
       "      <td id=\"T_2fc0b_row16_col9\" class=\"data row16 col9\" >0.317110</td>\n",
       "    </tr>\n",
       "    <tr>\n",
       "      <th id=\"T_2fc0b_level1_row17\" class=\"row_heading level1 row17\" >p-value</th>\n",
       "      <td id=\"T_2fc0b_row17_col0\" class=\"data row17 col0\" >(0.0000)</td>\n",
       "      <td id=\"T_2fc0b_row17_col1\" class=\"data row17 col1\" >(0.0000)</td>\n",
       "      <td id=\"T_2fc0b_row17_col2\" class=\"data row17 col2\" >(0.0000)</td>\n",
       "      <td id=\"T_2fc0b_row17_col3\" class=\"data row17 col3\" >(0.0000)</td>\n",
       "      <td id=\"T_2fc0b_row17_col4\" class=\"data row17 col4\" >(0.0000)</td>\n",
       "      <td id=\"T_2fc0b_row17_col5\" class=\"data row17 col5\" >(0.0000)</td>\n",
       "      <td id=\"T_2fc0b_row17_col6\" class=\"data row17 col6\" >(0.0000)</td>\n",
       "      <td id=\"T_2fc0b_row17_col7\" class=\"data row17 col7\" >(0.0000)</td>\n",
       "      <td id=\"T_2fc0b_row17_col8\" class=\"data row17 col8\" ></td>\n",
       "      <td id=\"T_2fc0b_row17_col9\" class=\"data row17 col9\" >(0.0000)</td>\n",
       "    </tr>\n",
       "    <tr>\n",
       "      <th id=\"T_2fc0b_level0_row18\" class=\"row_heading level0 row18\" rowspan=\"2\">price_boxcox_scaled</th>\n",
       "      <th id=\"T_2fc0b_level1_row18\" class=\"row_heading level1 row18\" >corr</th>\n",
       "      <td id=\"T_2fc0b_row18_col0\" class=\"data row18 col0\" >0.405117</td>\n",
       "      <td id=\"T_2fc0b_row18_col1\" class=\"data row18 col1\" >0.054592</td>\n",
       "      <td id=\"T_2fc0b_row18_col2\" class=\"data row18 col2\" >0.062939</td>\n",
       "      <td id=\"T_2fc0b_row18_col3\" class=\"data row18 col3\" >0.146302</td>\n",
       "      <td id=\"T_2fc0b_row18_col4\" class=\"data row18 col4\" >0.104376</td>\n",
       "      <td id=\"T_2fc0b_row18_col5\" class=\"data row18 col5\" >0.050322</td>\n",
       "      <td id=\"T_2fc0b_row18_col6\" class=\"data row18 col6\" >0.864321</td>\n",
       "      <td id=\"T_2fc0b_row18_col7\" class=\"data row18 col7\" >0.214938</td>\n",
       "      <td id=\"T_2fc0b_row18_col8\" class=\"data row18 col8\" >0.317110</td>\n",
       "      <td id=\"T_2fc0b_row18_col9\" class=\"data row18 col9\" >1.000000</td>\n",
       "    </tr>\n",
       "    <tr>\n",
       "      <th id=\"T_2fc0b_level1_row19\" class=\"row_heading level1 row19\" >p-value</th>\n",
       "      <td id=\"T_2fc0b_row19_col0\" class=\"data row19 col0\" >(0.0000)</td>\n",
       "      <td id=\"T_2fc0b_row19_col1\" class=\"data row19 col1\" >(0.0000)</td>\n",
       "      <td id=\"T_2fc0b_row19_col2\" class=\"data row19 col2\" >(0.0000)</td>\n",
       "      <td id=\"T_2fc0b_row19_col3\" class=\"data row19 col3\" >(0.0000)</td>\n",
       "      <td id=\"T_2fc0b_row19_col4\" class=\"data row19 col4\" >(0.0000)</td>\n",
       "      <td id=\"T_2fc0b_row19_col5\" class=\"data row19 col5\" >(0.0000)</td>\n",
       "      <td id=\"T_2fc0b_row19_col6\" class=\"data row19 col6\" >(0.0000)</td>\n",
       "      <td id=\"T_2fc0b_row19_col7\" class=\"data row19 col7\" >(0.0000)</td>\n",
       "      <td id=\"T_2fc0b_row19_col8\" class=\"data row19 col8\" >(0.0000)</td>\n",
       "      <td id=\"T_2fc0b_row19_col9\" class=\"data row19 col9\" ></td>\n",
       "    </tr>\n",
       "  </tbody>\n",
       "</table>\n"
      ],
      "text/plain": [
       "<pandas.io.formats.style.Styler at 0x7fa4b9ce80a0>"
      ]
     },
     "execution_count": 38,
     "metadata": {},
     "output_type": "execute_result"
    }
   ],
   "source": [
    "correlation_matrix_full = corr_full(df1, rows=['corr', 'p-value'])\n",
    "correlation_matrix_full"
   ]
  },
  {
   "cell_type": "markdown",
   "id": "3cc30ad9",
   "metadata": {},
   "source": [
    "### Multicollinearity\n",
    "\n",
    "Regression models are sensitive to multicollinearity. Multicollinearity occurs when there are two or more independent variables in a multiple regression model, which have a high correlation among themselves. When some features are highly correlated, we might have difficulty in distinguishing between their individual effects on the dependent variable. Multicollinearity can be detected using various techniques. one such technique is the Variance Inflation Factor(VIF)"
   ]
  },
  {
   "cell_type": "markdown",
   "id": "ff0bb2df",
   "metadata": {},
   "source": [
    "Before we calculate the VIF values, we will need to drop the dependent variable. To do so, we will create a new df called X which will only include independent variables"
   ]
  },
  {
   "cell_type": "code",
   "execution_count": 18,
   "id": "68a7d312",
   "metadata": {},
   "outputs": [
    {
     "data": {
      "text/html": [
       "<div>\n",
       "<style scoped>\n",
       "    .dataframe tbody tr th:only-of-type {\n",
       "        vertical-align: middle;\n",
       "    }\n",
       "\n",
       "    .dataframe tbody tr th {\n",
       "        vertical-align: top;\n",
       "    }\n",
       "\n",
       "    .dataframe thead th {\n",
       "        text-align: right;\n",
       "    }\n",
       "</style>\n",
       "<table border=\"1\" class=\"dataframe\">\n",
       "  <thead>\n",
       "    <tr style=\"text-align: right;\">\n",
       "      <th></th>\n",
       "      <th>airline</th>\n",
       "      <th>source_city</th>\n",
       "      <th>departure_time</th>\n",
       "      <th>stops</th>\n",
       "      <th>arrival_time</th>\n",
       "      <th>destination_city</th>\n",
       "      <th>class</th>\n",
       "      <th>days_left_binned</th>\n",
       "      <th>duration_sqrt_scaled</th>\n",
       "    </tr>\n",
       "  </thead>\n",
       "  <tbody>\n",
       "    <tr>\n",
       "      <th>0</th>\n",
       "      <td>-0.518731</td>\n",
       "      <td>-0.068017</td>\n",
       "      <td>0.026656</td>\n",
       "      <td>-0.27363</td>\n",
       "      <td>0.015281</td>\n",
       "      <td>0.009063</td>\n",
       "      <td>-0.577809</td>\n",
       "      <td>0.437431</td>\n",
       "      <td>-1.735912</td>\n",
       "    </tr>\n",
       "    <tr>\n",
       "      <th>1</th>\n",
       "      <td>-0.518731</td>\n",
       "      <td>-0.068017</td>\n",
       "      <td>-0.026516</td>\n",
       "      <td>-0.27363</td>\n",
       "      <td>0.061629</td>\n",
       "      <td>0.009063</td>\n",
       "      <td>-0.577809</td>\n",
       "      <td>0.437431</td>\n",
       "      <td>-1.685797</td>\n",
       "    </tr>\n",
       "    <tr>\n",
       "      <th>2</th>\n",
       "      <td>-0.713457</td>\n",
       "      <td>-0.068017</td>\n",
       "      <td>-0.026516</td>\n",
       "      <td>-0.27363</td>\n",
       "      <td>-0.156916</td>\n",
       "      <td>0.009063</td>\n",
       "      <td>-0.577809</td>\n",
       "      <td>0.437431</td>\n",
       "      <td>-1.735912</td>\n",
       "    </tr>\n",
       "    <tr>\n",
       "      <th>3</th>\n",
       "      <td>0.309109</td>\n",
       "      <td>-0.068017</td>\n",
       "      <td>0.005012</td>\n",
       "      <td>-0.27363</td>\n",
       "      <td>-0.047256</td>\n",
       "      <td>0.009063</td>\n",
       "      <td>-0.577809</td>\n",
       "      <td>0.437431</td>\n",
       "      <td>-1.710632</td>\n",
       "    </tr>\n",
       "    <tr>\n",
       "      <th>4</th>\n",
       "      <td>0.309109</td>\n",
       "      <td>-0.068017</td>\n",
       "      <td>0.005012</td>\n",
       "      <td>-0.27363</td>\n",
       "      <td>0.061629</td>\n",
       "      <td>0.009063</td>\n",
       "      <td>-0.577809</td>\n",
       "      <td>0.437431</td>\n",
       "      <td>-1.685797</td>\n",
       "    </tr>\n",
       "  </tbody>\n",
       "</table>\n",
       "</div>"
      ],
      "text/plain": [
       "    airline  source_city  departure_time    stops  arrival_time  \\\n",
       "0 -0.518731    -0.068017        0.026656 -0.27363      0.015281   \n",
       "1 -0.518731    -0.068017       -0.026516 -0.27363      0.061629   \n",
       "2 -0.713457    -0.068017       -0.026516 -0.27363     -0.156916   \n",
       "3  0.309109    -0.068017        0.005012 -0.27363     -0.047256   \n",
       "4  0.309109    -0.068017        0.005012 -0.27363      0.061629   \n",
       "\n",
       "   destination_city     class  days_left_binned  duration_sqrt_scaled  \n",
       "0          0.009063 -0.577809          0.437431             -1.735912  \n",
       "1          0.009063 -0.577809          0.437431             -1.685797  \n",
       "2          0.009063 -0.577809          0.437431             -1.735912  \n",
       "3          0.009063 -0.577809          0.437431             -1.710632  \n",
       "4          0.009063 -0.577809          0.437431             -1.685797  "
      ]
     },
     "execution_count": 18,
     "metadata": {},
     "output_type": "execute_result"
    }
   ],
   "source": [
    "X = df1. drop('price_boxcox_scaled', axis=1)\n",
    "X.head()"
   ]
  },
  {
   "cell_type": "markdown",
   "id": "ddc134dd",
   "metadata": {},
   "source": [
    "Now that the data is ready, we will compute the VIF values for each feature in our dataset."
   ]
  },
  {
   "cell_type": "code",
   "execution_count": 21,
   "id": "5a3a1cdf",
   "metadata": {},
   "outputs": [
    {
     "name": "stdout",
     "output_type": "stream",
     "text": [
      "                feature       VIF\n",
      "0               airline  1.344660\n",
      "1           source_city  1.053753\n",
      "2        departure_time  1.017677\n",
      "3                 stops  1.029380\n",
      "4          arrival_time  1.084565\n",
      "5      destination_city  1.066794\n",
      "6                 class  1.273888\n",
      "7      days_left_binned  1.003094\n",
      "8  duration_sqrt_scaled  1.045437\n"
     ]
    }
   ],
   "source": [
    "vif_data = pd.DataFrame() \n",
    "vif_data[\"feature\"] = X.columns \n",
    "  \n",
    "vif_data[\"VIF\"] = [variance_inflation_factor(X.values, i) \n",
    "                          for i in range(len(X.columns))] \n",
    "  \n",
    "print(vif_data)"
   ]
  },
  {
   "cell_type": "markdown",
   "id": "6fb7c4a6",
   "metadata": {},
   "source": [
    "There are currently no established criteria for identifying the extent of variance inflation factors that result in poorly estimated coefficients. A frequently used benchmark for VIF in numerous regression studies is VIF ≥ 5. Based on the results above, it appears that none of our features have issue with multicollinearity. "
   ]
  },
  {
   "cell_type": "markdown",
   "id": "e530764f",
   "metadata": {},
   "source": [
    "### 4.0 Model Fitting"
   ]
  },
  {
   "cell_type": "markdown",
   "id": "9a59ce04",
   "metadata": {},
   "source": [
    "### Test Train Split"
   ]
  },
  {
   "cell_type": "code",
   "execution_count": 50,
   "id": "fce62693",
   "metadata": {},
   "outputs": [
    {
     "data": {
      "text/plain": [
       "0   -0.498010\n",
       "1   -0.498010\n",
       "2   -0.497464\n",
       "3   -0.497646\n",
       "4   -0.497646\n",
       "Name: price_boxcox_scaled, dtype: float64"
      ]
     },
     "execution_count": 50,
     "metadata": {},
     "output_type": "execute_result"
    }
   ],
   "source": [
    "X = df1. drop('price_boxcox_scaled', axis=1)\n",
    "y = df1['price_boxcox_scaled']"
   ]
  },
  {
   "cell_type": "markdown",
   "id": "20bc140d",
   "metadata": {},
   "source": [
    "We will use the rule-of-thumb 80:20 split for train and test datasets respectively. We will use `train_test_split()` function from sklearn to split the dataset."
   ]
  },
  {
   "cell_type": "code",
   "execution_count": 53,
   "id": "9a03511a",
   "metadata": {},
   "outputs": [],
   "source": [
    "X_train, X_test, y_train, y_test = train_test_split(X, y, test_size=0.2)"
   ]
  },
  {
   "cell_type": "code",
   "execution_count": 55,
   "id": "525b93f8",
   "metadata": {},
   "outputs": [
    {
     "data": {
      "text/plain": [
       "LinearRegression()"
      ]
     },
     "execution_count": 55,
     "metadata": {},
     "output_type": "execute_result"
    }
   ],
   "source": [
    "mlr = LinearRegression()\n",
    "mlr.fit(X_train, y_train)"
   ]
  },
  {
   "cell_type": "markdown",
   "id": "55343f75",
   "metadata": {},
   "source": [
    "Let's try to display the **intercept** and **coefficient estimates** from the `mlr` model that we just fitted."
   ]
  },
  {
   "cell_type": "code",
   "execution_count": 58,
   "id": "e6deff1b",
   "metadata": {},
   "outputs": [
    {
     "name": "stdout",
     "output_type": "stream",
     "text": [
      "               Variable  Coefficient\n",
      "0               airline     0.022334\n",
      "1           source_city     1.030218\n",
      "2        departure_time    -0.067448\n",
      "3                 stops     0.157186\n",
      "4          arrival_time    -0.007645\n",
      "5      destination_city     0.745059\n",
      "6                 class     0.956215\n",
      "7      days_left_binned     0.913568\n",
      "8  duration_sqrt_scaled     0.177717\n",
      "9             Intercept     0.005337\n"
     ]
    }
   ],
   "source": [
    "intercept = mlr.intercept_\n",
    "coefficients = list(zip(X, mlr.coef_))\n",
    "\n",
    "# Creating a DataFrame to display the results in a tabulated format\n",
    "results = pd.DataFrame(coefficients, columns=['Variable', 'Coefficient'])\n",
    "results.loc[len(results.index)] = ['Intercept', intercept] \n",
    "\n",
    "print(results)"
   ]
  },
  {
   "cell_type": "code",
   "execution_count": 59,
   "id": "2523a466",
   "metadata": {},
   "outputs": [],
   "source": [
    "y_pred = mlr.predict(X_test)"
   ]
  },
  {
   "cell_type": "code",
   "execution_count": 63,
   "id": "f0081e4c",
   "metadata": {},
   "outputs": [
    {
     "name": "stdout",
     "output_type": "stream",
     "text": [
      "explained_variance:  0.8256\n",
      "r2:  0.8256\n",
      "MAE:  0.3144\n",
      "MSE:  0.1743\n",
      "RMSE:  0.4175\n"
     ]
    }
   ],
   "source": [
    "import sklearn.metrics as metrics\n",
    "\n",
    "explained_variance=metrics.explained_variance_score(y_test, y_pred)\n",
    "mean_absolute_error=metrics.mean_absolute_error(y_test, y_pred) \n",
    "mse=metrics.mean_squared_error(y_test, y_pred) \n",
    "r2=metrics.r2_score(y_test, y_pred)\n",
    "\n",
    "print('explained_variance: ', round(explained_variance,4))    \n",
    "print('r2: ', round(r2,4))\n",
    "print('MAE: ', round(mean_absolute_error,4))\n",
    "print('MSE: ', round(mse,4))\n",
    "print('RMSE: ', round(np.sqrt(mse),4))"
   ]
  },
  {
   "cell_type": "code",
   "execution_count": null,
   "id": "d2b28784",
   "metadata": {},
   "outputs": [],
   "source": []
  }
 ],
 "metadata": {
  "kernelspec": {
   "display_name": "Python 3 (ipykernel)",
   "language": "python",
   "name": "python3"
  },
  "language_info": {
   "codemirror_mode": {
    "name": "ipython",
    "version": 3
   },
   "file_extension": ".py",
   "mimetype": "text/x-python",
   "name": "python",
   "nbconvert_exporter": "python",
   "pygments_lexer": "ipython3",
   "version": "3.9.12"
  }
 },
 "nbformat": 4,
 "nbformat_minor": 5
}
